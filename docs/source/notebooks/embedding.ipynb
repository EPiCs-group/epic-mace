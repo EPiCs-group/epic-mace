{
 "cells": [
  {
   "cell_type": "markdown",
   "id": "790d4bed",
   "metadata": {},
   "source": [
    "## Embedding\n",
    "\n",
    "If atomic map numbers of donor atoms are correct (no repeats, lies in range \\[1,6\\]/\\[1,4\\] for OH/SP geometry, etc.), than one can generate 3D atomic coordinates:"
   ]
  },
  {
   "cell_type": "code",
   "execution_count": 1,
   "id": "cc2d9588",
   "metadata": {},
   "outputs": [],
   "source": [
    "# imports\n",
    "import mace, py3Dmol\n",
    "\n",
    "# view 3D structures\n",
    "def view_complex(X, confId = 0):\n",
    "    '''Shows molecule corresponding to the SMILES'''\n",
    "    view = py3Dmol.view()\n",
    "    view.addModel(X.ToXYZBlock(confId = confId), 'xyz')\n",
    "    view.setStyle({'stick': {'radius': 0.15}, 'sphere': {'scale': 0.3}})\n",
    "    view.setBackgroundColor('white')\n",
    "    view.zoomTo()\n",
    "    view.show()"
   ]
  },
  {
   "cell_type": "code",
   "execution_count": 2,
   "id": "8c21007e",
   "metadata": {
    "scrolled": false
   },
   "outputs": [
    {
     "data": {
      "application/3dmoljs_load.v0": "<div id=\"3dmolviewer_16767433146430135\"  style=\"position: relative; width: 640px; height: 480px\">\n        <p id=\"3dmolwarning_16767433146430135\" style=\"background-color:#ffcccc;color:black\">You appear to be running in JupyterLab (or JavaScript failed to load for some other reason).  You need to install the 3dmol extension: <br>\n        <tt>jupyter labextension install jupyterlab_3dmol</tt></p>\n        </div>\n<script>\n\nvar loadScriptAsync = function(uri){\n  return new Promise((resolve, reject) => {\n    //this is to ignore the existence of requirejs amd\n    var savedexports, savedmodule;\n    if (typeof exports !== 'undefined') savedexports = exports;\n    else exports = {}\n    if (typeof module !== 'undefined') savedmodule = module;\n    else module = {}\n\n    var tag = document.createElement('script');\n    tag.src = uri;\n    tag.async = true;\n    tag.onload = () => {\n        exports = savedexports;\n        module = savedmodule;\n        resolve();\n    };\n  var firstScriptTag = document.getElementsByTagName('script')[0];\n  firstScriptTag.parentNode.insertBefore(tag, firstScriptTag);\n});\n};\n\nif(typeof $3Dmolpromise === 'undefined') {\n$3Dmolpromise = null;\n  $3Dmolpromise = loadScriptAsync('https://cdnjs.cloudflare.com/ajax/libs/3Dmol/2.0.1/3Dmol-min.js');\n}\n\nvar viewer_16767433146430135 = null;\nvar warn = document.getElementById(\"3dmolwarning_16767433146430135\");\nif(warn) {\n    warn.parentNode.removeChild(warn);\n}\n$3Dmolpromise.then(function() {\nviewer_16767433146430135 = $3Dmol.createViewer(document.getElementById(\"3dmolviewer_16767433146430135\"),{backgroundColor:\"white\"});\nviewer_16767433146430135.zoomTo();\n\tviewer_16767433146430135.addModel(\"27\\n{\\\"conf\\\": 0, \\\"E\\\": 13.23, \\\"rms\\\": -1.0, \\\"geom\\\": \\\"OH\\\", \\\"total_charge\\\": 0, \\\"CA_charge\\\": 2, \\\"smiles\\\": \\\"[1NH2]1->[Ru+2:10]2(<-[5Cl-:8])(<-[6Cl-:9])(<-[2NH2:3][CH2:2][CH2:1]1)<-[3NH2:4][CH2:5][CH2:6][4NH2:7]->2\\\", \\\"smiles3D\\\": \\\"[1N]1([H:11])([H:12])->[Ru+2:10]2(<-[5Cl-:8])(<-[6Cl-:9])(<-[2N:3]([H:17])([H:18])[C:2]([H:15])([H:16])[C:1]1([H:13])[H:14])<-[3N:4]([H:19])([H:20])[C:5]([H:21])([H:22])[C:6]([H:23])([H:24])[4N:7]->2([H:25])[H:26]\\\", \\\"smiles3Dx\\\": \\\"[1N]1([H:11])([H:12])->[Ru+2:10]2(<-[5Cl-:8])(<-[6Cl-:9])(<-[2N:3]([H:17])([H:18])[C:2]([H:15])([H:16])[C:1]1([H:13])[H:14])<-[3N:4]([H:19])([H:20])[C:5]([H:21])([H:22])[C:6]([H:23])([H:24])[4N:7]->2([H:25])[H:26]\\\", \\\"dummies\\\": []}\\nN     -0.0399     1.5736    -1.4290\\nC     -1.2985     2.1581    -1.3389\\nC     -2.3871     1.0967    -1.0811\\nN     -2.0926     0.3426     0.0474\\nN      0.3703     1.3933     1.5625\\nC      1.7273     1.6930     1.5121\\nC      2.5588     0.4456     1.1505\\nN      2.1171    -0.1224    -0.0375\\nCl    -0.2294    -1.6488    -1.8007\\nCl    -0.1560    -1.8119     1.6450\\nRu     0.0000     0.0000     0.0000\\nH      0.0986     1.2290    -2.2637\\nH      0.6151     2.1803    -1.2430\\nH     -1.5342     2.6997    -2.2847\\nH     -1.3109     2.8902    -0.5003\\nH     -2.4469     0.4271    -1.9689\\nH     -3.3707     1.6055    -0.9525\\nH     -2.5379    -0.4550     0.0339\\nH     -2.3082     0.7980     0.8098\\nH     -0.1336     2.1431     1.4374\\nH      0.1513     1.0150     2.3646\\nH      1.9085     2.4758     0.7417\\nH      2.0669     2.0834     2.4998\\nH      2.4615    -0.2969     1.9747\\nH      3.6314     0.7353     1.0578\\nH      2.3763    -0.9962    -0.0992\\nH      2.4350     0.3403    -0.7586\\n\",\"xyz\");\n\tviewer_16767433146430135.setStyle({\"stick\": {\"radius\": 0.15}, \"sphere\": {\"scale\": 0.3}});\n\tviewer_16767433146430135.setBackgroundColor(\"white\");\n\tviewer_16767433146430135.zoomTo();\nviewer_16767433146430135.render();\n});\n</script>",
      "text/html": [
       "<div id=\"3dmolviewer_16767433146430135\"  style=\"position: relative; width: 640px; height: 480px\">\n",
       "        <p id=\"3dmolwarning_16767433146430135\" style=\"background-color:#ffcccc;color:black\">You appear to be running in JupyterLab (or JavaScript failed to load for some other reason).  You need to install the 3dmol extension: <br>\n",
       "        <tt>jupyter labextension install jupyterlab_3dmol</tt></p>\n",
       "        </div>\n",
       "<script>\n",
       "\n",
       "var loadScriptAsync = function(uri){\n",
       "  return new Promise((resolve, reject) => {\n",
       "    //this is to ignore the existence of requirejs amd\n",
       "    var savedexports, savedmodule;\n",
       "    if (typeof exports !== 'undefined') savedexports = exports;\n",
       "    else exports = {}\n",
       "    if (typeof module !== 'undefined') savedmodule = module;\n",
       "    else module = {}\n",
       "\n",
       "    var tag = document.createElement('script');\n",
       "    tag.src = uri;\n",
       "    tag.async = true;\n",
       "    tag.onload = () => {\n",
       "        exports = savedexports;\n",
       "        module = savedmodule;\n",
       "        resolve();\n",
       "    };\n",
       "  var firstScriptTag = document.getElementsByTagName('script')[0];\n",
       "  firstScriptTag.parentNode.insertBefore(tag, firstScriptTag);\n",
       "});\n",
       "};\n",
       "\n",
       "if(typeof $3Dmolpromise === 'undefined') {\n",
       "$3Dmolpromise = null;\n",
       "  $3Dmolpromise = loadScriptAsync('https://cdnjs.cloudflare.com/ajax/libs/3Dmol/2.0.1/3Dmol-min.js');\n",
       "}\n",
       "\n",
       "var viewer_16767433146430135 = null;\n",
       "var warn = document.getElementById(\"3dmolwarning_16767433146430135\");\n",
       "if(warn) {\n",
       "    warn.parentNode.removeChild(warn);\n",
       "}\n",
       "$3Dmolpromise.then(function() {\n",
       "viewer_16767433146430135 = $3Dmol.createViewer(document.getElementById(\"3dmolviewer_16767433146430135\"),{backgroundColor:\"white\"});\n",
       "viewer_16767433146430135.zoomTo();\n",
       "\tviewer_16767433146430135.addModel(\"27\\n{\\\"conf\\\": 0, \\\"E\\\": 13.23, \\\"rms\\\": -1.0, \\\"geom\\\": \\\"OH\\\", \\\"total_charge\\\": 0, \\\"CA_charge\\\": 2, \\\"smiles\\\": \\\"[1NH2]1->[Ru+2:10]2(<-[5Cl-:8])(<-[6Cl-:9])(<-[2NH2:3][CH2:2][CH2:1]1)<-[3NH2:4][CH2:5][CH2:6][4NH2:7]->2\\\", \\\"smiles3D\\\": \\\"[1N]1([H:11])([H:12])->[Ru+2:10]2(<-[5Cl-:8])(<-[6Cl-:9])(<-[2N:3]([H:17])([H:18])[C:2]([H:15])([H:16])[C:1]1([H:13])[H:14])<-[3N:4]([H:19])([H:20])[C:5]([H:21])([H:22])[C:6]([H:23])([H:24])[4N:7]->2([H:25])[H:26]\\\", \\\"smiles3Dx\\\": \\\"[1N]1([H:11])([H:12])->[Ru+2:10]2(<-[5Cl-:8])(<-[6Cl-:9])(<-[2N:3]([H:17])([H:18])[C:2]([H:15])([H:16])[C:1]1([H:13])[H:14])<-[3N:4]([H:19])([H:20])[C:5]([H:21])([H:22])[C:6]([H:23])([H:24])[4N:7]->2([H:25])[H:26]\\\", \\\"dummies\\\": []}\\nN     -0.0399     1.5736    -1.4290\\nC     -1.2985     2.1581    -1.3389\\nC     -2.3871     1.0967    -1.0811\\nN     -2.0926     0.3426     0.0474\\nN      0.3703     1.3933     1.5625\\nC      1.7273     1.6930     1.5121\\nC      2.5588     0.4456     1.1505\\nN      2.1171    -0.1224    -0.0375\\nCl    -0.2294    -1.6488    -1.8007\\nCl    -0.1560    -1.8119     1.6450\\nRu     0.0000     0.0000     0.0000\\nH      0.0986     1.2290    -2.2637\\nH      0.6151     2.1803    -1.2430\\nH     -1.5342     2.6997    -2.2847\\nH     -1.3109     2.8902    -0.5003\\nH     -2.4469     0.4271    -1.9689\\nH     -3.3707     1.6055    -0.9525\\nH     -2.5379    -0.4550     0.0339\\nH     -2.3082     0.7980     0.8098\\nH     -0.1336     2.1431     1.4374\\nH      0.1513     1.0150     2.3646\\nH      1.9085     2.4758     0.7417\\nH      2.0669     2.0834     2.4998\\nH      2.4615    -0.2969     1.9747\\nH      3.6314     0.7353     1.0578\\nH      2.3763    -0.9962    -0.0992\\nH      2.4350     0.3403    -0.7586\\n\",\"xyz\");\n",
       "\tviewer_16767433146430135.setStyle({\"stick\": {\"radius\": 0.15}, \"sphere\": {\"scale\": 0.3}});\n",
       "\tviewer_16767433146430135.setBackgroundColor(\"white\");\n",
       "\tviewer_16767433146430135.zoomTo();\n",
       "viewer_16767433146430135.render();\n",
       "});\n",
       "</script>"
      ]
     },
     "metadata": {},
     "output_type": "display_data"
    }
   ],
   "source": [
    "# get 3D after initializing complex\n",
    "ligands = ['[NH2:1]CC[NH2:2]', '[NH2:3]CC[NH2:4]', '[Cl-:5]', '[Cl-:6]']\n",
    "X = mace.ComplexFromLigands(ligands = ligands, CA = '[Ru+2]', geom = 'OH')\n",
    "X.AddConformer()\n",
    "view_complex(X)"
   ]
  },
  {
   "cell_type": "markdown",
   "id": "61fb8348",
   "metadata": {},
   "source": [
    "If the atomic map numbers are set incorrectly, one must first generate possible stereomers (see the \"Stereomers generation\" section):"
   ]
  },
  {
   "cell_type": "code",
   "execution_count": 3,
   "id": "70e629d5",
   "metadata": {
    "scrolled": false
   },
   "outputs": [
    {
     "name": "stdout",
     "output_type": "stream",
     "text": [
      "Bad SMILES: isotopic labels are not unique\n",
      "\n",
      "The initial SMILES contains insufficient or erroneous info\n",
      "on the positions of the ligands around the central atom\n",
      "encoded with isotopic labels.\n",
      "\n",
      "To use 3D generation and other features, first generate\n",
      "possible stereomers\n",
      "\n"
     ]
    }
   ],
   "source": [
    "# try to get 3D coords without stereo info for CA\n",
    "ligands = ['[NH2:1]CC[NH2:1]', '[NH2:1]CC[NH2:1]', '[Cl-:1]', '[Cl-:1]']\n",
    "X1 = mace.ComplexFromLigands(ligands = ligands, CA = '[Ru+2]', geom = 'OH')\n",
    "try:\n",
    "    X1.AddConformer()\n",
    "except Exception as e:\n",
    "    print(e)"
   ]
  },
  {
   "cell_type": "markdown",
   "id": "314da4e7",
   "metadata": {},
   "source": [
    "The main parameters of `Complex.AddConformers` method are number of conformers to generate `numConfs` and minimal RMSD between conformers when they are considered as identical `rmsThresh`:"
   ]
  },
  {
   "cell_type": "code",
   "execution_count": 4,
   "id": "020c7fae",
   "metadata": {
    "scrolled": false
   },
   "outputs": [
    {
     "data": {
      "text/plain": [
       "4"
      ]
     },
     "execution_count": 4,
     "metadata": {},
     "output_type": "execute_result"
    }
   ],
   "source": [
    "# get several conformers with rms threshold\n",
    "ligands = ['C[P:2](C)CCCC[N:3](C)CCCC[P:4](C)C', '[C-:1]#[O+]', '[C-:5]#[O+]', '[C-:6]#[O+]']\n",
    "X = mace.ComplexFromLigands(ligands = ligands, CA = '[Ru+2]', geom = 'OH')\n",
    "X.AddConformers(numConfs = 10, rmsThresh = 2.0)\n",
    "X.GetNumConformers()"
   ]
  },
  {
   "cell_type": "markdown",
   "id": "753fc3ab",
   "metadata": {},
   "source": [
    "As one can see, number of generated conformers is less than `numConfs` value due to the filtering of similar conformations."
   ]
  },
  {
   "cell_type": "markdown",
   "id": "16440530",
   "metadata": {},
   "source": [
    "Analysis of molecular mechanical energies help to identify \"good\" and \"bad\" (potentially unsuitable for QM computations) geometries:"
   ]
  },
  {
   "cell_type": "code",
   "execution_count": 5,
   "id": "df10f2de",
   "metadata": {
    "scrolled": false
   },
   "outputs": [
    {
     "data": {
      "text/plain": [
       "[154.16904500164776,\n",
       " 153.00520591073658,\n",
       " 160.57425249049072,\n",
       " 159.33188783509556]"
      ]
     },
     "execution_count": 5,
     "metadata": {},
     "output_type": "execute_result"
    }
   ],
   "source": [
    "# get conf energies\n",
    "Es = [X.GetConfEnergy(idx) for idx in range(X.GetNumConformers())]\n",
    "Es"
   ]
  },
  {
   "cell_type": "code",
   "execution_count": 6,
   "id": "782a9651",
   "metadata": {
    "scrolled": false
   },
   "outputs": [
    {
     "data": {
      "text/plain": [
       "(1, 2)"
      ]
     },
     "execution_count": 6,
     "metadata": {},
     "output_type": "execute_result"
    }
   ],
   "source": [
    "# find indexes of best/worst conformers\n",
    "idx_min = X.GetMinEnergyConfId(0)\n",
    "idx_max = X.GetMinEnergyConfId(X.GetNumConformers() - 1)\n",
    "idx_min, idx_max"
   ]
  },
  {
   "cell_type": "code",
   "execution_count": 7,
   "id": "eabc067e",
   "metadata": {
    "scrolled": false
   },
   "outputs": [
    {
     "name": "stdout",
     "output_type": "stream",
     "text": [
      "Best conformer:\n"
     ]
    },
    {
     "data": {
      "application/3dmoljs_load.v0": "<div id=\"3dmolviewer_16767433197026975\"  style=\"position: relative; width: 640px; height: 480px\">\n        <p id=\"3dmolwarning_16767433197026975\" style=\"background-color:#ffcccc;color:black\">You appear to be running in JupyterLab (or JavaScript failed to load for some other reason).  You need to install the 3dmol extension: <br>\n        <tt>jupyter labextension install jupyterlab_3dmol</tt></p>\n        </div>\n<script>\n\nvar loadScriptAsync = function(uri){\n  return new Promise((resolve, reject) => {\n    //this is to ignore the existence of requirejs amd\n    var savedexports, savedmodule;\n    if (typeof exports !== 'undefined') savedexports = exports;\n    else exports = {}\n    if (typeof module !== 'undefined') savedmodule = module;\n    else module = {}\n\n    var tag = document.createElement('script');\n    tag.src = uri;\n    tag.async = true;\n    tag.onload = () => {\n        exports = savedexports;\n        module = savedmodule;\n        resolve();\n    };\n  var firstScriptTag = document.getElementsByTagName('script')[0];\n  firstScriptTag.parentNode.insertBefore(tag, firstScriptTag);\n});\n};\n\nif(typeof $3Dmolpromise === 'undefined') {\n$3Dmolpromise = null;\n  $3Dmolpromise = loadScriptAsync('https://cdnjs.cloudflare.com/ajax/libs/3Dmol/2.0.1/3Dmol-min.js');\n}\n\nvar viewer_16767433197026975 = null;\nvar warn = document.getElementById(\"3dmolwarning_16767433197026975\");\nif(warn) {\n    warn.parentNode.removeChild(warn);\n}\n$3Dmolpromise.then(function() {\nviewer_16767433197026975 = $3Dmol.createViewer(document.getElementById(\"3dmolviewer_16767433197026975\"),{backgroundColor:\"white\"});\nviewer_16767433197026975.zoomTo();\n\tviewer_16767433197026975.addModel(\"54\\n{\\\"conf\\\": 1, \\\"E\\\": 153.01, \\\"rms\\\": -1.0, \\\"geom\\\": \\\"OH\\\", \\\"total_charge\\\": 2, \\\"CA_charge\\\": 2, \\\"smiles\\\": \\\"C[2P:1]1([CH3:2])->[Ru+2:22]2(<-[1C-:16]#[O+:17])(<-[5C-:18]#[O+:19])(<-[6C-:20]#[O+:21])<-[3N:7]([CH3:8])([CH2:6][CH2:5][CH2:4][CH2:3]1)[CH2:9][CH2:10][CH2:11][CH2:12][4P:13]->2([CH3:14])[CH3:15]\\\", \\\"smiles3D\\\": \\\"C([2P:1]1([C:2]([H:26])([H:27])[H:28])->[Ru+2:22]2(<-[1C-:16]#[O+:17])(<-[5C-:18]#[O+:19])(<-[6C-:20]#[O+:21])<-[3N:7]([C:8]([H:37])([H:38])[H:39])([C:6]([H:35])([H:36])[C:5]([H:33])([H:34])[C:4]([H:31])([H:32])[C:3]1([H:29])[H:30])[C:9]([H:40])([H:41])[C:10]([H:42])([H:43])[C:11]([H:44])([H:45])[C:12]([H:46])([H:47])[4P:13]->2([C:14]([H:48])([H:49])[H:50])[C:15]([H:51])([H:52])[H:53])([H:23])([H:24])[H:25]\\\", \\\"smiles3Dx\\\": \\\"C([2P:1]1([C:2]([H:26])([H:27])[H:28])->[Ru+2:22]2(<-[1C-:16]#[O+:17])(<-[5C-:18]#[O+:19])(<-[6C-:20]#[O+:21])<-[3N:7]([C:8]([H:37])([H:38])[H:39])([C:6]([H:35])([H:36])[C:5]([H:33])([H:34])[C:4]([H:31])([H:32])[C:3]1([H:29])[H:30])[C:9]([H:40])([H:41])[C:10]([H:42])([H:43])[C:11]([H:44])([H:45])[C:12]([H:46])([H:47])[4P:13]->2([C:14]([H:48])([H:49])[H:50])[C:15]([H:51])([H:52])[H:53])([H:23])([H:24])[H:25]\\\", \\\"dummies\\\": []}\\nC     -3.3986     0.6487     1.1705\\nP     -2.2245     1.2295    -0.0528\\nC     -2.0189     2.9547     0.3852\\nC     -3.1418     1.3255    -1.5959\\nC     -3.8123    -0.0047    -1.9571\\nC     -2.9000    -0.9840    -2.6982\\nC     -1.8377    -1.6865    -1.7947\\nN     -0.4384    -1.2513    -1.8164\\nC     -0.1205    -0.4487    -2.9485\\nC      0.4435    -2.4004    -1.8850\\nC      0.3333    -3.4598    -0.7452\\nC      1.3937    -3.4772     0.3866\\nC      2.6701    -2.6731     0.1699\\nP      2.3657    -0.9073     0.3365\\nC      3.0244    -0.5184     1.9566\\nC      3.5562    -0.1630    -0.7748\\nC     -0.8498    -1.4114     1.3714\\nO     -1.3368    -2.1961     2.1471\\nC      0.3898     1.1891     1.7344\\nO      0.6084     1.8592     2.7129\\nC      0.8506     1.6219    -1.1234\\nO      1.3275     2.5332    -1.7529\\nRu     0.0000     0.0000     0.0000\\nH     -3.4993    -0.4526     1.1005\\nH     -3.0384     0.9179     2.1848\\nH     -4.3866     1.1221     0.9940\\nH     -2.9903     3.4826     0.2913\\nH     -1.2788     3.4237    -0.2944\\nH     -1.6611     3.0343     1.4311\\nH     -3.9339     2.0962    -1.4825\\nH     -2.4662     1.6451    -2.4117\\nH     -4.6527     0.2349    -2.6458\\nH     -4.2836    -0.4948    -1.0815\\nH     -2.5200    -0.5216    -3.6276\\nH     -3.5739    -1.7860    -3.0751\\nH     -1.8959    -2.7693    -2.0585\\nH     -2.1818    -1.6041    -0.7511\\nH      0.9633    -0.1992    -2.9685\\nH     -0.3698    -0.9766    -3.8986\\nH     -0.6788     0.5007    -2.9114\\nH      0.2239    -2.9372    -2.8422\\nH      1.4860    -2.0596    -1.9620\\nH     -0.6718    -3.4617    -0.2848\\nH      0.3958    -4.4539    -1.2427\\nH      1.7033    -4.5358     0.5349\\nH      0.9507    -3.1958     1.3598\\nH      3.0949    -2.8977    -0.8302\\nH      3.4146    -2.9806     0.9344\\nH      4.0302    -0.9726     2.0714\\nH      2.3465    -0.9207     2.7373\\nH      3.1069     0.5817     2.0696\\nH      3.6410     0.9210    -0.5553\\nH      4.5465    -0.6443    -0.6364\\nH      3.2232    -0.3012    -1.8231\\n\",\"xyz\");\n\tviewer_16767433197026975.setStyle({\"stick\": {\"radius\": 0.15}, \"sphere\": {\"scale\": 0.3}});\n\tviewer_16767433197026975.setBackgroundColor(\"white\");\n\tviewer_16767433197026975.zoomTo();\nviewer_16767433197026975.render();\n});\n</script>",
      "text/html": [
       "<div id=\"3dmolviewer_16767433197026975\"  style=\"position: relative; width: 640px; height: 480px\">\n",
       "        <p id=\"3dmolwarning_16767433197026975\" style=\"background-color:#ffcccc;color:black\">You appear to be running in JupyterLab (or JavaScript failed to load for some other reason).  You need to install the 3dmol extension: <br>\n",
       "        <tt>jupyter labextension install jupyterlab_3dmol</tt></p>\n",
       "        </div>\n",
       "<script>\n",
       "\n",
       "var loadScriptAsync = function(uri){\n",
       "  return new Promise((resolve, reject) => {\n",
       "    //this is to ignore the existence of requirejs amd\n",
       "    var savedexports, savedmodule;\n",
       "    if (typeof exports !== 'undefined') savedexports = exports;\n",
       "    else exports = {}\n",
       "    if (typeof module !== 'undefined') savedmodule = module;\n",
       "    else module = {}\n",
       "\n",
       "    var tag = document.createElement('script');\n",
       "    tag.src = uri;\n",
       "    tag.async = true;\n",
       "    tag.onload = () => {\n",
       "        exports = savedexports;\n",
       "        module = savedmodule;\n",
       "        resolve();\n",
       "    };\n",
       "  var firstScriptTag = document.getElementsByTagName('script')[0];\n",
       "  firstScriptTag.parentNode.insertBefore(tag, firstScriptTag);\n",
       "});\n",
       "};\n",
       "\n",
       "if(typeof $3Dmolpromise === 'undefined') {\n",
       "$3Dmolpromise = null;\n",
       "  $3Dmolpromise = loadScriptAsync('https://cdnjs.cloudflare.com/ajax/libs/3Dmol/2.0.1/3Dmol-min.js');\n",
       "}\n",
       "\n",
       "var viewer_16767433197026975 = null;\n",
       "var warn = document.getElementById(\"3dmolwarning_16767433197026975\");\n",
       "if(warn) {\n",
       "    warn.parentNode.removeChild(warn);\n",
       "}\n",
       "$3Dmolpromise.then(function() {\n",
       "viewer_16767433197026975 = $3Dmol.createViewer(document.getElementById(\"3dmolviewer_16767433197026975\"),{backgroundColor:\"white\"});\n",
       "viewer_16767433197026975.zoomTo();\n",
       "\tviewer_16767433197026975.addModel(\"54\\n{\\\"conf\\\": 1, \\\"E\\\": 153.01, \\\"rms\\\": -1.0, \\\"geom\\\": \\\"OH\\\", \\\"total_charge\\\": 2, \\\"CA_charge\\\": 2, \\\"smiles\\\": \\\"C[2P:1]1([CH3:2])->[Ru+2:22]2(<-[1C-:16]#[O+:17])(<-[5C-:18]#[O+:19])(<-[6C-:20]#[O+:21])<-[3N:7]([CH3:8])([CH2:6][CH2:5][CH2:4][CH2:3]1)[CH2:9][CH2:10][CH2:11][CH2:12][4P:13]->2([CH3:14])[CH3:15]\\\", \\\"smiles3D\\\": \\\"C([2P:1]1([C:2]([H:26])([H:27])[H:28])->[Ru+2:22]2(<-[1C-:16]#[O+:17])(<-[5C-:18]#[O+:19])(<-[6C-:20]#[O+:21])<-[3N:7]([C:8]([H:37])([H:38])[H:39])([C:6]([H:35])([H:36])[C:5]([H:33])([H:34])[C:4]([H:31])([H:32])[C:3]1([H:29])[H:30])[C:9]([H:40])([H:41])[C:10]([H:42])([H:43])[C:11]([H:44])([H:45])[C:12]([H:46])([H:47])[4P:13]->2([C:14]([H:48])([H:49])[H:50])[C:15]([H:51])([H:52])[H:53])([H:23])([H:24])[H:25]\\\", \\\"smiles3Dx\\\": \\\"C([2P:1]1([C:2]([H:26])([H:27])[H:28])->[Ru+2:22]2(<-[1C-:16]#[O+:17])(<-[5C-:18]#[O+:19])(<-[6C-:20]#[O+:21])<-[3N:7]([C:8]([H:37])([H:38])[H:39])([C:6]([H:35])([H:36])[C:5]([H:33])([H:34])[C:4]([H:31])([H:32])[C:3]1([H:29])[H:30])[C:9]([H:40])([H:41])[C:10]([H:42])([H:43])[C:11]([H:44])([H:45])[C:12]([H:46])([H:47])[4P:13]->2([C:14]([H:48])([H:49])[H:50])[C:15]([H:51])([H:52])[H:53])([H:23])([H:24])[H:25]\\\", \\\"dummies\\\": []}\\nC     -3.3986     0.6487     1.1705\\nP     -2.2245     1.2295    -0.0528\\nC     -2.0189     2.9547     0.3852\\nC     -3.1418     1.3255    -1.5959\\nC     -3.8123    -0.0047    -1.9571\\nC     -2.9000    -0.9840    -2.6982\\nC     -1.8377    -1.6865    -1.7947\\nN     -0.4384    -1.2513    -1.8164\\nC     -0.1205    -0.4487    -2.9485\\nC      0.4435    -2.4004    -1.8850\\nC      0.3333    -3.4598    -0.7452\\nC      1.3937    -3.4772     0.3866\\nC      2.6701    -2.6731     0.1699\\nP      2.3657    -0.9073     0.3365\\nC      3.0244    -0.5184     1.9566\\nC      3.5562    -0.1630    -0.7748\\nC     -0.8498    -1.4114     1.3714\\nO     -1.3368    -2.1961     2.1471\\nC      0.3898     1.1891     1.7344\\nO      0.6084     1.8592     2.7129\\nC      0.8506     1.6219    -1.1234\\nO      1.3275     2.5332    -1.7529\\nRu     0.0000     0.0000     0.0000\\nH     -3.4993    -0.4526     1.1005\\nH     -3.0384     0.9179     2.1848\\nH     -4.3866     1.1221     0.9940\\nH     -2.9903     3.4826     0.2913\\nH     -1.2788     3.4237    -0.2944\\nH     -1.6611     3.0343     1.4311\\nH     -3.9339     2.0962    -1.4825\\nH     -2.4662     1.6451    -2.4117\\nH     -4.6527     0.2349    -2.6458\\nH     -4.2836    -0.4948    -1.0815\\nH     -2.5200    -0.5216    -3.6276\\nH     -3.5739    -1.7860    -3.0751\\nH     -1.8959    -2.7693    -2.0585\\nH     -2.1818    -1.6041    -0.7511\\nH      0.9633    -0.1992    -2.9685\\nH     -0.3698    -0.9766    -3.8986\\nH     -0.6788     0.5007    -2.9114\\nH      0.2239    -2.9372    -2.8422\\nH      1.4860    -2.0596    -1.9620\\nH     -0.6718    -3.4617    -0.2848\\nH      0.3958    -4.4539    -1.2427\\nH      1.7033    -4.5358     0.5349\\nH      0.9507    -3.1958     1.3598\\nH      3.0949    -2.8977    -0.8302\\nH      3.4146    -2.9806     0.9344\\nH      4.0302    -0.9726     2.0714\\nH      2.3465    -0.9207     2.7373\\nH      3.1069     0.5817     2.0696\\nH      3.6410     0.9210    -0.5553\\nH      4.5465    -0.6443    -0.6364\\nH      3.2232    -0.3012    -1.8231\\n\",\"xyz\");\n",
       "\tviewer_16767433197026975.setStyle({\"stick\": {\"radius\": 0.15}, \"sphere\": {\"scale\": 0.3}});\n",
       "\tviewer_16767433197026975.setBackgroundColor(\"white\");\n",
       "\tviewer_16767433197026975.zoomTo();\n",
       "viewer_16767433197026975.render();\n",
       "});\n",
       "</script>"
      ]
     },
     "metadata": {},
     "output_type": "display_data"
    },
    {
     "name": "stdout",
     "output_type": "stream",
     "text": [
      "Worst conformer:\n"
     ]
    },
    {
     "data": {
      "application/3dmoljs_load.v0": "<div id=\"3dmolviewer_1676743319705703\"  style=\"position: relative; width: 640px; height: 480px\">\n        <p id=\"3dmolwarning_1676743319705703\" style=\"background-color:#ffcccc;color:black\">You appear to be running in JupyterLab (or JavaScript failed to load for some other reason).  You need to install the 3dmol extension: <br>\n        <tt>jupyter labextension install jupyterlab_3dmol</tt></p>\n        </div>\n<script>\n\nvar loadScriptAsync = function(uri){\n  return new Promise((resolve, reject) => {\n    //this is to ignore the existence of requirejs amd\n    var savedexports, savedmodule;\n    if (typeof exports !== 'undefined') savedexports = exports;\n    else exports = {}\n    if (typeof module !== 'undefined') savedmodule = module;\n    else module = {}\n\n    var tag = document.createElement('script');\n    tag.src = uri;\n    tag.async = true;\n    tag.onload = () => {\n        exports = savedexports;\n        module = savedmodule;\n        resolve();\n    };\n  var firstScriptTag = document.getElementsByTagName('script')[0];\n  firstScriptTag.parentNode.insertBefore(tag, firstScriptTag);\n});\n};\n\nif(typeof $3Dmolpromise === 'undefined') {\n$3Dmolpromise = null;\n  $3Dmolpromise = loadScriptAsync('https://cdnjs.cloudflare.com/ajax/libs/3Dmol/2.0.1/3Dmol-min.js');\n}\n\nvar viewer_1676743319705703 = null;\nvar warn = document.getElementById(\"3dmolwarning_1676743319705703\");\nif(warn) {\n    warn.parentNode.removeChild(warn);\n}\n$3Dmolpromise.then(function() {\nviewer_1676743319705703 = $3Dmol.createViewer(document.getElementById(\"3dmolviewer_1676743319705703\"),{backgroundColor:\"white\"});\nviewer_1676743319705703.zoomTo();\n\tviewer_1676743319705703.addModel(\"54\\n{\\\"conf\\\": 2, \\\"E\\\": 160.57, \\\"rms\\\": -1.0, \\\"geom\\\": \\\"OH\\\", \\\"total_charge\\\": 2, \\\"CA_charge\\\": 2, \\\"smiles\\\": \\\"C[2P:1]1([CH3:2])->[Ru+2:22]2(<-[1C-:16]#[O+:17])(<-[5C-:18]#[O+:19])(<-[6C-:20]#[O+:21])<-[3N:7]([CH3:8])([CH2:6][CH2:5][CH2:4][CH2:3]1)[CH2:9][CH2:10][CH2:11][CH2:12][4P:13]->2([CH3:14])[CH3:15]\\\", \\\"smiles3D\\\": \\\"C([2P:1]1([C:2]([H:26])([H:27])[H:28])->[Ru+2:22]2(<-[1C-:16]#[O+:17])(<-[5C-:18]#[O+:19])(<-[6C-:20]#[O+:21])<-[3N:7]([C:8]([H:37])([H:38])[H:39])([C:6]([H:35])([H:36])[C:5]([H:33])([H:34])[C:4]([H:31])([H:32])[C:3]1([H:29])[H:30])[C:9]([H:40])([H:41])[C:10]([H:42])([H:43])[C:11]([H:44])([H:45])[C:12]([H:46])([H:47])[4P:13]->2([C:14]([H:48])([H:49])[H:50])[C:15]([H:51])([H:52])[H:53])([H:23])([H:24])[H:25]\\\", \\\"smiles3Dx\\\": \\\"C([2P:1]1([C:2]([H:26])([H:27])[H:28])->[Ru+2:22]2(<-[1C-:16]#[O+:17])(<-[5C-:18]#[O+:19])(<-[6C-:20]#[O+:21])<-[3N:7]([C:8]([H:37])([H:38])[H:39])([C:6]([H:35])([H:36])[C:5]([H:33])([H:34])[C:4]([H:31])([H:32])[C:3]1([H:29])[H:30])[C:9]([H:40])([H:41])[C:10]([H:42])([H:43])[C:11]([H:44])([H:45])[C:12]([H:46])([H:47])[4P:13]->2([C:14]([H:48])([H:49])[H:50])[C:15]([H:51])([H:52])[H:53])([H:23])([H:24])[H:25]\\\", \\\"dummies\\\": []}\\nC     -1.4923     2.3043    -2.4154\\nP      0.1103     1.6082    -2.0165\\nC      0.5239     0.7200    -3.5175\\nC      1.2164     3.0283    -2.1057\\nC      1.5702     3.5821    -0.7379\\nC      2.3584     2.5522     0.0644\\nC      1.8138     2.2305     1.4536\\nN      0.5134     1.5427     1.5825\\nC     -0.5585     2.4955     1.5061\\nC      0.4391     0.9423     2.8904\\nC      1.5368    -0.0994     3.2293\\nC      0.9822    -1.3844     3.8417\\nC      0.7498    -2.4547     2.7762\\nP     -0.5037    -1.9623     1.5859\\nC     -2.0283    -1.8192     2.5258\\nC     -0.7574    -3.4896     0.6830\\nC      2.0172    -0.6935    -0.2162\\nO      3.1508    -1.0866    -0.3376\\nC     -0.4982    -1.4153    -1.5243\\nO     -0.7790    -2.2126    -2.3846\\nC     -2.1049     0.4157     0.1084\\nO     -3.2868     0.6475     0.1688\\nRu     0.0000     0.0000     0.0000\\nH     -1.4367     2.8341    -3.3890\\nH     -2.2425     1.4907    -2.4855\\nH     -1.7966     3.0202    -1.6262\\nH      1.3835     0.0464    -3.3228\\nH      0.7946     1.4406    -4.3170\\nH     -0.3480     0.1203    -3.8491\\nH      2.1514     2.7280    -2.6279\\nH      0.7284     3.8299    -2.6998\\nH      0.6936     4.0055    -0.2231\\nH      2.2266     4.4644    -0.9092\\nH      3.3790     2.9710     0.2183\\nH      2.5528     1.6407    -0.5136\\nH      2.6107     1.6369     1.9319\\nH      1.7824     3.1885     2.0228\\nH     -0.3071     3.4648     1.9924\\nH     -0.7973     2.6835     0.4512\\nH     -1.4887     2.1153     1.9864\\nH      0.4894     1.7475     3.6650\\nH     -0.5441     0.4558     2.9949\\nH      2.1350    -0.3687     2.3413\\nH      2.2424     0.3595     3.9574\\nH      0.0657    -1.1976     4.4414\\nH      1.7394    -1.7864     4.5501\\nH      1.7010    -2.6569     2.2383\\nH      0.4224    -3.3908     3.2767\\nH     -2.8412    -2.3607     1.9998\\nH     -1.8929    -2.2609     3.5338\\nH     -2.3152    -0.7564     2.6266\\nH     -0.9199    -4.3229     1.3977\\nH      0.1370    -3.7070     0.0636\\nH     -1.6475    -3.3927     0.0283\\n\",\"xyz\");\n\tviewer_1676743319705703.setStyle({\"stick\": {\"radius\": 0.15}, \"sphere\": {\"scale\": 0.3}});\n\tviewer_1676743319705703.setBackgroundColor(\"white\");\n\tviewer_1676743319705703.zoomTo();\nviewer_1676743319705703.render();\n});\n</script>",
      "text/html": [
       "<div id=\"3dmolviewer_1676743319705703\"  style=\"position: relative; width: 640px; height: 480px\">\n",
       "        <p id=\"3dmolwarning_1676743319705703\" style=\"background-color:#ffcccc;color:black\">You appear to be running in JupyterLab (or JavaScript failed to load for some other reason).  You need to install the 3dmol extension: <br>\n",
       "        <tt>jupyter labextension install jupyterlab_3dmol</tt></p>\n",
       "        </div>\n",
       "<script>\n",
       "\n",
       "var loadScriptAsync = function(uri){\n",
       "  return new Promise((resolve, reject) => {\n",
       "    //this is to ignore the existence of requirejs amd\n",
       "    var savedexports, savedmodule;\n",
       "    if (typeof exports !== 'undefined') savedexports = exports;\n",
       "    else exports = {}\n",
       "    if (typeof module !== 'undefined') savedmodule = module;\n",
       "    else module = {}\n",
       "\n",
       "    var tag = document.createElement('script');\n",
       "    tag.src = uri;\n",
       "    tag.async = true;\n",
       "    tag.onload = () => {\n",
       "        exports = savedexports;\n",
       "        module = savedmodule;\n",
       "        resolve();\n",
       "    };\n",
       "  var firstScriptTag = document.getElementsByTagName('script')[0];\n",
       "  firstScriptTag.parentNode.insertBefore(tag, firstScriptTag);\n",
       "});\n",
       "};\n",
       "\n",
       "if(typeof $3Dmolpromise === 'undefined') {\n",
       "$3Dmolpromise = null;\n",
       "  $3Dmolpromise = loadScriptAsync('https://cdnjs.cloudflare.com/ajax/libs/3Dmol/2.0.1/3Dmol-min.js');\n",
       "}\n",
       "\n",
       "var viewer_1676743319705703 = null;\n",
       "var warn = document.getElementById(\"3dmolwarning_1676743319705703\");\n",
       "if(warn) {\n",
       "    warn.parentNode.removeChild(warn);\n",
       "}\n",
       "$3Dmolpromise.then(function() {\n",
       "viewer_1676743319705703 = $3Dmol.createViewer(document.getElementById(\"3dmolviewer_1676743319705703\"),{backgroundColor:\"white\"});\n",
       "viewer_1676743319705703.zoomTo();\n",
       "\tviewer_1676743319705703.addModel(\"54\\n{\\\"conf\\\": 2, \\\"E\\\": 160.57, \\\"rms\\\": -1.0, \\\"geom\\\": \\\"OH\\\", \\\"total_charge\\\": 2, \\\"CA_charge\\\": 2, \\\"smiles\\\": \\\"C[2P:1]1([CH3:2])->[Ru+2:22]2(<-[1C-:16]#[O+:17])(<-[5C-:18]#[O+:19])(<-[6C-:20]#[O+:21])<-[3N:7]([CH3:8])([CH2:6][CH2:5][CH2:4][CH2:3]1)[CH2:9][CH2:10][CH2:11][CH2:12][4P:13]->2([CH3:14])[CH3:15]\\\", \\\"smiles3D\\\": \\\"C([2P:1]1([C:2]([H:26])([H:27])[H:28])->[Ru+2:22]2(<-[1C-:16]#[O+:17])(<-[5C-:18]#[O+:19])(<-[6C-:20]#[O+:21])<-[3N:7]([C:8]([H:37])([H:38])[H:39])([C:6]([H:35])([H:36])[C:5]([H:33])([H:34])[C:4]([H:31])([H:32])[C:3]1([H:29])[H:30])[C:9]([H:40])([H:41])[C:10]([H:42])([H:43])[C:11]([H:44])([H:45])[C:12]([H:46])([H:47])[4P:13]->2([C:14]([H:48])([H:49])[H:50])[C:15]([H:51])([H:52])[H:53])([H:23])([H:24])[H:25]\\\", \\\"smiles3Dx\\\": \\\"C([2P:1]1([C:2]([H:26])([H:27])[H:28])->[Ru+2:22]2(<-[1C-:16]#[O+:17])(<-[5C-:18]#[O+:19])(<-[6C-:20]#[O+:21])<-[3N:7]([C:8]([H:37])([H:38])[H:39])([C:6]([H:35])([H:36])[C:5]([H:33])([H:34])[C:4]([H:31])([H:32])[C:3]1([H:29])[H:30])[C:9]([H:40])([H:41])[C:10]([H:42])([H:43])[C:11]([H:44])([H:45])[C:12]([H:46])([H:47])[4P:13]->2([C:14]([H:48])([H:49])[H:50])[C:15]([H:51])([H:52])[H:53])([H:23])([H:24])[H:25]\\\", \\\"dummies\\\": []}\\nC     -1.4923     2.3043    -2.4154\\nP      0.1103     1.6082    -2.0165\\nC      0.5239     0.7200    -3.5175\\nC      1.2164     3.0283    -2.1057\\nC      1.5702     3.5821    -0.7379\\nC      2.3584     2.5522     0.0644\\nC      1.8138     2.2305     1.4536\\nN      0.5134     1.5427     1.5825\\nC     -0.5585     2.4955     1.5061\\nC      0.4391     0.9423     2.8904\\nC      1.5368    -0.0994     3.2293\\nC      0.9822    -1.3844     3.8417\\nC      0.7498    -2.4547     2.7762\\nP     -0.5037    -1.9623     1.5859\\nC     -2.0283    -1.8192     2.5258\\nC     -0.7574    -3.4896     0.6830\\nC      2.0172    -0.6935    -0.2162\\nO      3.1508    -1.0866    -0.3376\\nC     -0.4982    -1.4153    -1.5243\\nO     -0.7790    -2.2126    -2.3846\\nC     -2.1049     0.4157     0.1084\\nO     -3.2868     0.6475     0.1688\\nRu     0.0000     0.0000     0.0000\\nH     -1.4367     2.8341    -3.3890\\nH     -2.2425     1.4907    -2.4855\\nH     -1.7966     3.0202    -1.6262\\nH      1.3835     0.0464    -3.3228\\nH      0.7946     1.4406    -4.3170\\nH     -0.3480     0.1203    -3.8491\\nH      2.1514     2.7280    -2.6279\\nH      0.7284     3.8299    -2.6998\\nH      0.6936     4.0055    -0.2231\\nH      2.2266     4.4644    -0.9092\\nH      3.3790     2.9710     0.2183\\nH      2.5528     1.6407    -0.5136\\nH      2.6107     1.6369     1.9319\\nH      1.7824     3.1885     2.0228\\nH     -0.3071     3.4648     1.9924\\nH     -0.7973     2.6835     0.4512\\nH     -1.4887     2.1153     1.9864\\nH      0.4894     1.7475     3.6650\\nH     -0.5441     0.4558     2.9949\\nH      2.1350    -0.3687     2.3413\\nH      2.2424     0.3595     3.9574\\nH      0.0657    -1.1976     4.4414\\nH      1.7394    -1.7864     4.5501\\nH      1.7010    -2.6569     2.2383\\nH      0.4224    -3.3908     3.2767\\nH     -2.8412    -2.3607     1.9998\\nH     -1.8929    -2.2609     3.5338\\nH     -2.3152    -0.7564     2.6266\\nH     -0.9199    -4.3229     1.3977\\nH      0.1370    -3.7070     0.0636\\nH     -1.6475    -3.3927     0.0283\\n\",\"xyz\");\n",
       "\tviewer_1676743319705703.setStyle({\"stick\": {\"radius\": 0.15}, \"sphere\": {\"scale\": 0.3}});\n",
       "\tviewer_1676743319705703.setBackgroundColor(\"white\");\n",
       "\tviewer_1676743319705703.zoomTo();\n",
       "viewer_1676743319705703.render();\n",
       "});\n",
       "</script>"
      ]
     },
     "metadata": {},
     "output_type": "display_data"
    }
   ],
   "source": [
    "# view\n",
    "print('Best conformer:')\n",
    "view_complex(X, confId = idx_min)\n",
    "print('Worst conformer:')\n",
    "view_complex(X, confId = idx_max)"
   ]
  },
  {
   "cell_type": "markdown",
   "id": "c7d8f83e",
   "metadata": {},
   "source": [
    "Generated conformations can be saved to the `xyz` files, which can be used futher in various computational pipelines."
   ]
  }
 ],
 "metadata": {
  "kernelspec": {
   "display_name": "Python 3 (ipykernel)",
   "language": "python",
   "name": "python3"
  },
  "language_info": {
   "codemirror_mode": {
    "name": "ipython",
    "version": 3
   },
   "file_extension": ".py",
   "mimetype": "text/x-python",
   "name": "python",
   "nbconvert_exporter": "python",
   "pygments_lexer": "ipython3",
   "version": "3.7.12"
  }
 },
 "nbformat": 4,
 "nbformat_minor": 5
}
