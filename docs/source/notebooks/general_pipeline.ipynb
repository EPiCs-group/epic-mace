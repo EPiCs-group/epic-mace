{
 "cells": [
  {
   "cell_type": "markdown",
   "id": "7a823ebe",
   "metadata": {},
   "source": [
    "## General pipeline\n",
    "\n",
    "The general `mace` pipeline consists of three steps:\n",
    "\n",
    "1. complex initialization;\n",
    "\n",
    "2. generation of possible stereomers;\n",
    "\n",
    "3. generation of 3D atomic coordinates for found stereomers:"
   ]
  },
  {
   "cell_type": "code",
   "execution_count": 1,
   "id": "fef8e5b4",
   "metadata": {},
   "outputs": [],
   "source": [
    "# imports\n",
    "import mace, py3Dmol\n",
    "\n",
    "# view 3D structures\n",
    "def view_complex(X, confId = 0):\n",
    "    '''Shows molecule corresponding to the SMILES'''\n",
    "    view = py3Dmol.view()\n",
    "    view.addModel(X.ToXYZBlock(confId = confId), 'xyz')\n",
    "    view.setStyle({'stick': {'radius': 0.15}, 'sphere': {'scale': 0.3}})\n",
    "    view.setBackgroundColor('white')\n",
    "    view.zoomTo()\n",
    "    view.show()"
   ]
  },
  {
   "cell_type": "code",
   "execution_count": 2,
   "id": "322bce43",
   "metadata": {},
   "outputs": [
    {
     "data": {
      "image/png": "[encoded data removed]",
      "text/plain": [
       "<rdkit.Chem.rdchem.Mol at 0x19e19738120>"
      ]
     },
     "execution_count": 2,
     "metadata": {},
     "output_type": "execute_result"
    }
   ],
   "source": [
    "# initialize the complex\n",
    "smiles = '[NH3:1]->[Pt+2](<-[NH3:1])(<-[Cl-:1])(<-[Cl-:1])'\n",
    "X = mace.Complex(smiles = smiles, geom = 'SP')\n",
    "X.mol"
   ]
  },
  {
   "cell_type": "code",
   "execution_count": 3,
   "id": "644506ec",
   "metadata": {},
   "outputs": [
    {
     "data": {
      "text/plain": [
       "2"
      ]
     },
     "execution_count": 3,
     "metadata": {},
     "output_type": "execute_result"
    }
   ],
   "source": [
    "# get stereomers\n",
    "Xs = X.GetStereomers()\n",
    "len(Xs)"
   ]
  },
  {
   "cell_type": "code",
   "execution_count": 4,
   "id": "b849b6be",
   "metadata": {},
   "outputs": [
    {
     "name": "stdout",
     "output_type": "stream",
     "text": [
      "Isomer #1\n"
     ]
    },
    {
     "data": {
      "application/3dmoljs_load.v0": "<div id=\"3dmolviewer_1676742726274953\"  style=\"position: relative; width: 640px; height: 480px\">\n        <p id=\"3dmolwarning_1676742726274953\" style=\"background-color:#ffcccc;color:black\">You appear to be running in JupyterLab (or JavaScript failed to load for some other reason).  You need to install the 3dmol extension: <br>\n        <tt>jupyter labextension install jupyterlab_3dmol</tt></p>\n        </div>\n<script>\n\nvar loadScriptAsync = function(uri){\n  return new Promise((resolve, reject) => {\n    //this is to ignore the existence of requirejs amd\n    var savedexports, savedmodule;\n    if (typeof exports !== 'undefined') savedexports = exports;\n    else exports = {}\n    if (typeof module !== 'undefined') savedmodule = module;\n    else module = {}\n\n    var tag = document.createElement('script');\n    tag.src = uri;\n    tag.async = true;\n    tag.onload = () => {\n        exports = savedexports;\n        module = savedmodule;\n        resolve();\n    };\n  var firstScriptTag = document.getElementsByTagName('script')[0];\n  firstScriptTag.parentNode.insertBefore(tag, firstScriptTag);\n});\n};\n\nif(typeof $3Dmolpromise === 'undefined') {\n$3Dmolpromise = null;\n  $3Dmolpromise = loadScriptAsync('https://cdnjs.cloudflare.com/ajax/libs/3Dmol/2.0.1/3Dmol-min.js');\n}\n\nvar viewer_1676742726274953 = null;\nvar warn = document.getElementById(\"3dmolwarning_1676742726274953\");\nif(warn) {\n    warn.parentNode.removeChild(warn);\n}\n$3Dmolpromise.then(function() {\nviewer_1676742726274953 = $3Dmol.createViewer(document.getElementById(\"3dmolviewer_1676742726274953\"),{backgroundColor:\"white\"});\nviewer_1676742726274953.zoomTo();\n\tviewer_1676742726274953.addModel(\"11\\n{\\\"conf\\\": 0, \\\"E\\\": 55.79, \\\"rms\\\": -1.0, \\\"geom\\\": \\\"SP\\\", \\\"total_charge\\\": 0, \\\"CA_charge\\\": 2, \\\"smiles\\\": \\\"[Pt+2](<-[1NH3:1])(<-[2NH3:2])(<-[3Cl-:3])<-[4Cl-:4]\\\", \\\"smiles3D\\\": \\\"[Pt+2](<-[1N:1]([H:5])([H:6])[H:7])(<-[2N:2]([H:8])([H:9])[H:10])(<-[3Cl-:3])<-[4Cl-:4]\\\", \\\"smiles3Dx\\\": \\\"[Pt+2](<-[1N:1]([H:5])([H:6])[H:7])(<-[2N:2]([H:8])([H:9])[H:10])(<-[3Cl-:3])(<-[4Cl-:4])(<-[*:11])<-[*:12]\\\", \\\"dummies\\\": [0.9021160243913938, 0.13421955663208263, 1.6248629630512317, -0.9021142463637317, -0.13422585430395229, -1.6248641646375253]}\\nPt     0.0000     0.0000     0.0000\\nN     -1.7755     0.3110     0.9627\\nN     -0.2051    -2.0143     0.2776\\nCl     2.0467    -0.3475    -1.1045\\nCl     0.2404     2.3160    -0.3278\\nH     -1.7580     1.1158     1.3864\\nH     -1.9086    -0.3477     1.5758\\nH     -2.4541     0.3024     0.3566\\nH      0.1537    -2.2473     1.0807\\nH     -1.0876    -2.2347     0.2648\\nH      0.2253    -2.4615    -0.3874\\n\",\"xyz\");\n\tviewer_1676742726274953.setStyle({\"stick\": {\"radius\": 0.15}, \"sphere\": {\"scale\": 0.3}});\n\tviewer_1676742726274953.setBackgroundColor(\"white\");\n\tviewer_1676742726274953.zoomTo();\nviewer_1676742726274953.render();\n});\n</script>",
      "text/html": [
       "<div id=\"3dmolviewer_1676742726274953\"  style=\"position: relative; width: 640px; height: 480px\">\n",
       "        <p id=\"3dmolwarning_1676742726274953\" style=\"background-color:#ffcccc;color:black\">You appear to be running in JupyterLab (or JavaScript failed to load for some other reason).  You need to install the 3dmol extension: <br>\n",
       "        <tt>jupyter labextension install jupyterlab_3dmol</tt></p>\n",
       "        </div>\n",
       "<script>\n",
       "\n",
       "var loadScriptAsync = function(uri){\n",
       "  return new Promise((resolve, reject) => {\n",
       "    //this is to ignore the existence of requirejs amd\n",
       "    var savedexports, savedmodule;\n",
       "    if (typeof exports !== 'undefined') savedexports = exports;\n",
       "    else exports = {}\n",
       "    if (typeof module !== 'undefined') savedmodule = module;\n",
       "    else module = {}\n",
       "\n",
       "    var tag = document.createElement('script');\n",
       "    tag.src = uri;\n",
       "    tag.async = true;\n",
       "    tag.onload = () => {\n",
       "        exports = savedexports;\n",
       "        module = savedmodule;\n",
       "        resolve();\n",
       "    };\n",
       "  var firstScriptTag = document.getElementsByTagName('script')[0];\n",
       "  firstScriptTag.parentNode.insertBefore(tag, firstScriptTag);\n",
       "});\n",
       "};\n",
       "\n",
       "if(typeof $3Dmolpromise === 'undefined') {\n",
       "$3Dmolpromise = null;\n",
       "  $3Dmolpromise = loadScriptAsync('https://cdnjs.cloudflare.com/ajax/libs/3Dmol/2.0.1/3Dmol-min.js');\n",
       "}\n",
       "\n",
       "var viewer_1676742726274953 = null;\n",
       "var warn = document.getElementById(\"3dmolwarning_1676742726274953\");\n",
       "if(warn) {\n",
       "    warn.parentNode.removeChild(warn);\n",
       "}\n",
       "$3Dmolpromise.then(function() {\n",
       "viewer_1676742726274953 = $3Dmol.createViewer(document.getElementById(\"3dmolviewer_1676742726274953\"),{backgroundColor:\"white\"});\n",
       "viewer_1676742726274953.zoomTo();\n",
       "\tviewer_1676742726274953.addModel(\"11\\n{\\\"conf\\\": 0, \\\"E\\\": 55.79, \\\"rms\\\": -1.0, \\\"geom\\\": \\\"SP\\\", \\\"total_charge\\\": 0, \\\"CA_charge\\\": 2, \\\"smiles\\\": \\\"[Pt+2](<-[1NH3:1])(<-[2NH3:2])(<-[3Cl-:3])<-[4Cl-:4]\\\", \\\"smiles3D\\\": \\\"[Pt+2](<-[1N:1]([H:5])([H:6])[H:7])(<-[2N:2]([H:8])([H:9])[H:10])(<-[3Cl-:3])<-[4Cl-:4]\\\", \\\"smiles3Dx\\\": \\\"[Pt+2](<-[1N:1]([H:5])([H:6])[H:7])(<-[2N:2]([H:8])([H:9])[H:10])(<-[3Cl-:3])(<-[4Cl-:4])(<-[*:11])<-[*:12]\\\", \\\"dummies\\\": [0.9021160243913938, 0.13421955663208263, 1.6248629630512317, -0.9021142463637317, -0.13422585430395229, -1.6248641646375253]}\\nPt     0.0000     0.0000     0.0000\\nN     -1.7755     0.3110     0.9627\\nN     -0.2051    -2.0143     0.2776\\nCl     2.0467    -0.3475    -1.1045\\nCl     0.2404     2.3160    -0.3278\\nH     -1.7580     1.1158     1.3864\\nH     -1.9086    -0.3477     1.5758\\nH     -2.4541     0.3024     0.3566\\nH      0.1537    -2.2473     1.0807\\nH     -1.0876    -2.2347     0.2648\\nH      0.2253    -2.4615    -0.3874\\n\",\"xyz\");\n",
       "\tviewer_1676742726274953.setStyle({\"stick\": {\"radius\": 0.15}, \"sphere\": {\"scale\": 0.3}});\n",
       "\tviewer_1676742726274953.setBackgroundColor(\"white\");\n",
       "\tviewer_1676742726274953.zoomTo();\n",
       "viewer_1676742726274953.render();\n",
       "});\n",
       "</script>"
      ]
     },
     "metadata": {},
     "output_type": "display_data"
    },
    {
     "name": "stdout",
     "output_type": "stream",
     "text": [
      "Isomer #2\n"
     ]
    },
    {
     "data": {
      "application/3dmoljs_load.v0": "<div id=\"3dmolviewer_16767427262774627\"  style=\"position: relative; width: 640px; height: 480px\">\n        <p id=\"3dmolwarning_16767427262774627\" style=\"background-color:#ffcccc;color:black\">You appear to be running in JupyterLab (or JavaScript failed to load for some other reason).  You need to install the 3dmol extension: <br>\n        <tt>jupyter labextension install jupyterlab_3dmol</tt></p>\n        </div>\n<script>\n\nvar loadScriptAsync = function(uri){\n  return new Promise((resolve, reject) => {\n    //this is to ignore the existence of requirejs amd\n    var savedexports, savedmodule;\n    if (typeof exports !== 'undefined') savedexports = exports;\n    else exports = {}\n    if (typeof module !== 'undefined') savedmodule = module;\n    else module = {}\n\n    var tag = document.createElement('script');\n    tag.src = uri;\n    tag.async = true;\n    tag.onload = () => {\n        exports = savedexports;\n        module = savedmodule;\n        resolve();\n    };\n  var firstScriptTag = document.getElementsByTagName('script')[0];\n  firstScriptTag.parentNode.insertBefore(tag, firstScriptTag);\n});\n};\n\nif(typeof $3Dmolpromise === 'undefined') {\n$3Dmolpromise = null;\n  $3Dmolpromise = loadScriptAsync('https://cdnjs.cloudflare.com/ajax/libs/3Dmol/2.0.1/3Dmol-min.js');\n}\n\nvar viewer_16767427262774627 = null;\nvar warn = document.getElementById(\"3dmolwarning_16767427262774627\");\nif(warn) {\n    warn.parentNode.removeChild(warn);\n}\n$3Dmolpromise.then(function() {\nviewer_16767427262774627 = $3Dmol.createViewer(document.getElementById(\"3dmolviewer_16767427262774627\"),{backgroundColor:\"white\"});\nviewer_16767427262774627.zoomTo();\n\tviewer_16767427262774627.addModel(\"11\\n{\\\"conf\\\": 0, \\\"E\\\": 55.96, \\\"rms\\\": -1.0, \\\"geom\\\": \\\"SP\\\", \\\"total_charge\\\": 0, \\\"CA_charge\\\": 2, \\\"smiles\\\": \\\"[Pt+2](<-[1NH3:1])(<-[2Cl-:2])(<-[3NH3:3])<-[4Cl-:4]\\\", \\\"smiles3D\\\": \\\"[Pt+2](<-[1N:1]([H:5])([H:6])[H:7])(<-[2Cl-:2])(<-[3N:3]([H:8])([H:9])[H:10])<-[4Cl-:4]\\\", \\\"smiles3Dx\\\": \\\"[Pt+2](<-[1N:1]([H:5])([H:6])[H:7])(<-[2Cl-:2])(<-[3N:3]([H:8])([H:9])[H:10])(<-[4Cl-:4])(<-[*:11])<-[*:12]\\\", \\\"dummies\\\": [0.2769399026708146, 0.3916733576838812, 1.8005288164314015, -0.2769350472623848, -0.39167557824669097, -1.8005307452613772]}\\nPt     0.0000     0.0000     0.0000\\nN     -0.4321    -1.9384     0.4882\\nCl     2.2727    -0.5651    -0.2324\\nN      0.4321     1.9385    -0.4881\\nCl    -2.2744     0.5627     0.2217\\nH     -1.1492    -1.9612     1.0473\\nH      0.2833    -2.3167     0.9036\\nH     -0.6238    -2.4053    -0.2689\\nH      0.3685     2.0446    -1.3896\\nH     -0.1559     2.4968    -0.0757\\nH      1.2768     2.1415    -0.2185\\n\",\"xyz\");\n\tviewer_16767427262774627.setStyle({\"stick\": {\"radius\": 0.15}, \"sphere\": {\"scale\": 0.3}});\n\tviewer_16767427262774627.setBackgroundColor(\"white\");\n\tviewer_16767427262774627.zoomTo();\nviewer_16767427262774627.render();\n});\n</script>",
      "text/html": [
       "<div id=\"3dmolviewer_16767427262774627\"  style=\"position: relative; width: 640px; height: 480px\">\n",
       "        <p id=\"3dmolwarning_16767427262774627\" style=\"background-color:#ffcccc;color:black\">You appear to be running in JupyterLab (or JavaScript failed to load for some other reason).  You need to install the 3dmol extension: <br>\n",
       "        <tt>jupyter labextension install jupyterlab_3dmol</tt></p>\n",
       "        </div>\n",
       "<script>\n",
       "\n",
       "var loadScriptAsync = function(uri){\n",
       "  return new Promise((resolve, reject) => {\n",
       "    //this is to ignore the existence of requirejs amd\n",
       "    var savedexports, savedmodule;\n",
       "    if (typeof exports !== 'undefined') savedexports = exports;\n",
       "    else exports = {}\n",
       "    if (typeof module !== 'undefined') savedmodule = module;\n",
       "    else module = {}\n",
       "\n",
       "    var tag = document.createElement('script');\n",
       "    tag.src = uri;\n",
       "    tag.async = true;\n",
       "    tag.onload = () => {\n",
       "        exports = savedexports;\n",
       "        module = savedmodule;\n",
       "        resolve();\n",
       "    };\n",
       "  var firstScriptTag = document.getElementsByTagName('script')[0];\n",
       "  firstScriptTag.parentNode.insertBefore(tag, firstScriptTag);\n",
       "});\n",
       "};\n",
       "\n",
       "if(typeof $3Dmolpromise === 'undefined') {\n",
       "$3Dmolpromise = null;\n",
       "  $3Dmolpromise = loadScriptAsync('https://cdnjs.cloudflare.com/ajax/libs/3Dmol/2.0.1/3Dmol-min.js');\n",
       "}\n",
       "\n",
       "var viewer_16767427262774627 = null;\n",
       "var warn = document.getElementById(\"3dmolwarning_16767427262774627\");\n",
       "if(warn) {\n",
       "    warn.parentNode.removeChild(warn);\n",
       "}\n",
       "$3Dmolpromise.then(function() {\n",
       "viewer_16767427262774627 = $3Dmol.createViewer(document.getElementById(\"3dmolviewer_16767427262774627\"),{backgroundColor:\"white\"});\n",
       "viewer_16767427262774627.zoomTo();\n",
       "\tviewer_16767427262774627.addModel(\"11\\n{\\\"conf\\\": 0, \\\"E\\\": 55.96, \\\"rms\\\": -1.0, \\\"geom\\\": \\\"SP\\\", \\\"total_charge\\\": 0, \\\"CA_charge\\\": 2, \\\"smiles\\\": \\\"[Pt+2](<-[1NH3:1])(<-[2Cl-:2])(<-[3NH3:3])<-[4Cl-:4]\\\", \\\"smiles3D\\\": \\\"[Pt+2](<-[1N:1]([H:5])([H:6])[H:7])(<-[2Cl-:2])(<-[3N:3]([H:8])([H:9])[H:10])<-[4Cl-:4]\\\", \\\"smiles3Dx\\\": \\\"[Pt+2](<-[1N:1]([H:5])([H:6])[H:7])(<-[2Cl-:2])(<-[3N:3]([H:8])([H:9])[H:10])(<-[4Cl-:4])(<-[*:11])<-[*:12]\\\", \\\"dummies\\\": [0.2769399026708146, 0.3916733576838812, 1.8005288164314015, -0.2769350472623848, -0.39167557824669097, -1.8005307452613772]}\\nPt     0.0000     0.0000     0.0000\\nN     -0.4321    -1.9384     0.4882\\nCl     2.2727    -0.5651    -0.2324\\nN      0.4321     1.9385    -0.4881\\nCl    -2.2744     0.5627     0.2217\\nH     -1.1492    -1.9612     1.0473\\nH      0.2833    -2.3167     0.9036\\nH     -0.6238    -2.4053    -0.2689\\nH      0.3685     2.0446    -1.3896\\nH     -0.1559     2.4968    -0.0757\\nH      1.2768     2.1415    -0.2185\\n\",\"xyz\");\n",
       "\tviewer_16767427262774627.setStyle({\"stick\": {\"radius\": 0.15}, \"sphere\": {\"scale\": 0.3}});\n",
       "\tviewer_16767427262774627.setBackgroundColor(\"white\");\n",
       "\tviewer_16767427262774627.zoomTo();\n",
       "viewer_16767427262774627.render();\n",
       "});\n",
       "</script>"
      ]
     },
     "metadata": {},
     "output_type": "display_data"
    }
   ],
   "source": [
    "# get 3D coords\n",
    "for X in Xs:\n",
    "    X.AddConformer()\n",
    "\n",
    "# view\n",
    "print('Isomer #1')\n",
    "view_complex(Xs[0])\n",
    "print('Isomer #2')\n",
    "view_complex(Xs[1])"
   ]
  },
  {
   "cell_type": "markdown",
   "id": "708b2fdf",
   "metadata": {},
   "source": [
    "In this tutorial we will go through each of these steps in detail, discussing the available parameters and their use in various scenarios."
   ]
  }
 ],
 "metadata": {
  "kernelspec": {
   "display_name": "Python 3 (ipykernel)",
   "language": "python",
   "name": "python3"
  },
  "language_info": {
   "codemirror_mode": {
    "name": "ipython",
    "version": 3
   },
   "file_extension": ".py",
   "mimetype": "text/x-python",
   "name": "python",
   "nbconvert_exporter": "python",
   "pygments_lexer": "ipython3",
   "version": "3.7.12"
  }
 },
 "nbformat": 4,
 "nbformat_minor": 5
}
