{
 "cells": [
  {
   "cell_type": "markdown",
   "id": "47f55058",
   "metadata": {},
   "source": [
    "## Stereomer search\n",
    "\n",
    "The first important part of the MACE package's functionality is a stereomer search:"
   ]
  },
  {
   "cell_type": "code",
   "execution_count": 1,
   "id": "75bf4e2f",
   "metadata": {},
   "outputs": [],
   "source": [
    "# imports\n",
    "import mace, py3Dmol\n",
    "from rdkit import Chem\n",
    "from rdkit.Chem import Draw\n",
    "\n",
    "# view 2D (not needed, just for the better sphinx thumbmails)\n",
    "def draw_mol(mol, size = (300, 300)):\n",
    "    '''Returns PIL Image'''\n",
    "    return Draw.MolToImage(mol, size = size)\n",
    "\n",
    "# view 3D structures\n",
    "def view_complex(X, confId = 0):\n",
    "    '''Shows molecule corresponding to the SMILES'''\n",
    "    view = py3Dmol.view()\n",
    "    view.addModel(X.ToXYZBlock(confId = confId), 'xyz')\n",
    "    view.setStyle({'stick': {'radius': 0.15}, 'sphere': {'scale': 0.3}})\n",
    "    view.setBackgroundColor('white')\n",
    "    view.zoomTo()\n",
    "    view.show()"
   ]
  },
  {
   "cell_type": "code",
   "execution_count": 2,
   "id": "0b66b4e1",
   "metadata": {
    "scrolled": false
   },
   "outputs": [
    {
     "data": {
      "text/plain": [
       "2"
      ]
     },
     "execution_count": 2,
     "metadata": {},
     "output_type": "execute_result"
    }
   ],
   "source": [
    "# generate conformers for RuCl2(en)2\n",
    "ligands = ['[NH2:1]CC[NH2:1]', '[NH2:1]CC[NH2:1]', '[Cl-:1]', '[Cl-:1]']\n",
    "X = mace.ComplexFromLigands(ligands = ligands, CA = '[Ru+2]', geom = 'OH')\n",
    "Xs = X.GetStereomers()\n",
    "len(Xs)"
   ]
  },
  {
   "cell_type": "code",
   "execution_count": 3,
   "id": "f9c6b13b",
   "metadata": {
    "scrolled": false
   },
   "outputs": [
    {
     "name": "stdout",
     "output_type": "stream",
     "text": [
      "Stereomer #0\n"
     ]
    },
    {
     "data": {
      "application/3dmoljs_load.v0": "<div id=\"3dmolviewer_16767461681922946\"  style=\"position: relative; width: 640px; height: 480px\">\n        <p id=\"3dmolwarning_16767461681922946\" style=\"background-color:#ffcccc;color:black\">You appear to be running in JupyterLab (or JavaScript failed to load for some other reason).  You need to install the 3dmol extension: <br>\n        <tt>jupyter labextension install jupyterlab_3dmol</tt></p>\n        </div>\n<script>\n\nvar loadScriptAsync = function(uri){\n  return new Promise((resolve, reject) => {\n    //this is to ignore the existence of requirejs amd\n    var savedexports, savedmodule;\n    if (typeof exports !== 'undefined') savedexports = exports;\n    else exports = {}\n    if (typeof module !== 'undefined') savedmodule = module;\n    else module = {}\n\n    var tag = document.createElement('script');\n    tag.src = uri;\n    tag.async = true;\n    tag.onload = () => {\n        exports = savedexports;\n        module = savedmodule;\n        resolve();\n    };\n  var firstScriptTag = document.getElementsByTagName('script')[0];\n  firstScriptTag.parentNode.insertBefore(tag, firstScriptTag);\n});\n};\n\nif(typeof $3Dmolpromise === 'undefined') {\n$3Dmolpromise = null;\n  $3Dmolpromise = loadScriptAsync('https://cdnjs.cloudflare.com/ajax/libs/3Dmol/2.0.1/3Dmol-min.js');\n}\n\nvar viewer_16767461681922946 = null;\nvar warn = document.getElementById(\"3dmolwarning_16767461681922946\");\nif(warn) {\n    warn.parentNode.removeChild(warn);\n}\n$3Dmolpromise.then(function() {\nviewer_16767461681922946 = $3Dmol.createViewer(document.getElementById(\"3dmolviewer_16767461681922946\"),{backgroundColor:\"white\"});\nviewer_16767461681922946.zoomTo();\n\tviewer_16767461681922946.addModel(\"27\\n{\\\"conf\\\": 0, \\\"E\\\": 12.93, \\\"rms\\\": -1.0, \\\"geom\\\": \\\"OH\\\", \\\"total_charge\\\": 0, \\\"CA_charge\\\": 2, \\\"smiles\\\": \\\"C1[CH2:1][2NH2:2]->[Ru+2:3]2(<-[5Cl-:4])(<-[6Cl-:5])(<-[1NH2:6]1)<-[3NH2:7][CH2:8][CH2:9][4NH2:10]->2\\\", \\\"smiles3D\\\": \\\"C1([H:11])([H:12])[C:1]([H:13])([H:14])[2N:2]([H:15])([H:16])->[Ru+2:3]2(<-[5Cl-:4])(<-[6Cl-:5])(<-[1N:6]1([H:17])[H:18])<-[3N:7]([H:19])([H:20])[C:8]([H:21])([H:22])[C:9]([H:23])([H:24])[4N:10]->2([H:25])[H:26]\\\", \\\"smiles3Dx\\\": \\\"C1([H:11])([H:12])[C:1]([H:13])([H:14])[2N:2]([H:15])([H:16])->[Ru+2:3]2(<-[5Cl-:4])(<-[6Cl-:5])(<-[1N:6]1([H:17])[H:18])<-[3N:7]([H:19])([H:20])[C:8]([H:21])([H:22])[C:9]([H:23])([H:24])[4N:10]->2([H:25])[H:26]\\\", \\\"dummies\\\": []}\\nC      1.4728    -1.3398     2.0318\\nC      0.0491    -1.9305     2.0794\\nN     -0.8883    -1.0031     1.6445\\nRu     0.0000     0.0000     0.0000\\nCl     0.4214     2.0076     1.3430\\nCl    -2.1452     0.9494    -0.7131\\nN      1.7793    -0.8822     0.7559\\nN     -0.2992    -1.6566    -1.2967\\nC      0.0132    -1.2094    -2.5748\\nC      1.2270    -0.2586    -2.5457\\nN      1.0019     0.8083    -1.6860\\nH      1.5302    -0.4937     2.7537\\nH      2.2041    -2.1223     2.3420\\nH      0.0149    -2.8285     1.4218\\nH     -0.1821    -2.2446     3.1238\\nH     -1.0815    -0.3999     2.3032\\nH     -1.6575    -1.4164     1.3760\\nH      2.4457    -0.2581     0.7836\\nH      2.0354    -1.5721     0.2162\\nH     -1.1689    -1.9320    -1.2501\\nH      0.2477    -2.3443    -1.0505\\nH      0.2438    -2.0767    -3.2365\\nH     -0.8576    -0.6601    -2.9995\\nH      1.4219     0.1178    -3.5769\\nH      2.1182    -0.8306    -2.2013\\nH      1.7896     1.1897    -1.4243\\nH      0.4745     1.4411    -2.0814\\n\",\"xyz\");\n\tviewer_16767461681922946.setStyle({\"stick\": {\"radius\": 0.15}, \"sphere\": {\"scale\": 0.3}});\n\tviewer_16767461681922946.setBackgroundColor(\"white\");\n\tviewer_16767461681922946.zoomTo();\nviewer_16767461681922946.render();\n});\n</script>",
      "text/html": [
       "<div id=\"3dmolviewer_16767461681922946\"  style=\"position: relative; width: 640px; height: 480px\">\n",
       "        <p id=\"3dmolwarning_16767461681922946\" style=\"background-color:#ffcccc;color:black\">You appear to be running in JupyterLab (or JavaScript failed to load for some other reason).  You need to install the 3dmol extension: <br>\n",
       "        <tt>jupyter labextension install jupyterlab_3dmol</tt></p>\n",
       "        </div>\n",
       "<script>\n",
       "\n",
       "var loadScriptAsync = function(uri){\n",
       "  return new Promise((resolve, reject) => {\n",
       "    //this is to ignore the existence of requirejs amd\n",
       "    var savedexports, savedmodule;\n",
       "    if (typeof exports !== 'undefined') savedexports = exports;\n",
       "    else exports = {}\n",
       "    if (typeof module !== 'undefined') savedmodule = module;\n",
       "    else module = {}\n",
       "\n",
       "    var tag = document.createElement('script');\n",
       "    tag.src = uri;\n",
       "    tag.async = true;\n",
       "    tag.onload = () => {\n",
       "        exports = savedexports;\n",
       "        module = savedmodule;\n",
       "        resolve();\n",
       "    };\n",
       "  var firstScriptTag = document.getElementsByTagName('script')[0];\n",
       "  firstScriptTag.parentNode.insertBefore(tag, firstScriptTag);\n",
       "});\n",
       "};\n",
       "\n",
       "if(typeof $3Dmolpromise === 'undefined') {\n",
       "$3Dmolpromise = null;\n",
       "  $3Dmolpromise = loadScriptAsync('https://cdnjs.cloudflare.com/ajax/libs/3Dmol/2.0.1/3Dmol-min.js');\n",
       "}\n",
       "\n",
       "var viewer_16767461681922946 = null;\n",
       "var warn = document.getElementById(\"3dmolwarning_16767461681922946\");\n",
       "if(warn) {\n",
       "    warn.parentNode.removeChild(warn);\n",
       "}\n",
       "$3Dmolpromise.then(function() {\n",
       "viewer_16767461681922946 = $3Dmol.createViewer(document.getElementById(\"3dmolviewer_16767461681922946\"),{backgroundColor:\"white\"});\n",
       "viewer_16767461681922946.zoomTo();\n",
       "\tviewer_16767461681922946.addModel(\"27\\n{\\\"conf\\\": 0, \\\"E\\\": 12.93, \\\"rms\\\": -1.0, \\\"geom\\\": \\\"OH\\\", \\\"total_charge\\\": 0, \\\"CA_charge\\\": 2, \\\"smiles\\\": \\\"C1[CH2:1][2NH2:2]->[Ru+2:3]2(<-[5Cl-:4])(<-[6Cl-:5])(<-[1NH2:6]1)<-[3NH2:7][CH2:8][CH2:9][4NH2:10]->2\\\", \\\"smiles3D\\\": \\\"C1([H:11])([H:12])[C:1]([H:13])([H:14])[2N:2]([H:15])([H:16])->[Ru+2:3]2(<-[5Cl-:4])(<-[6Cl-:5])(<-[1N:6]1([H:17])[H:18])<-[3N:7]([H:19])([H:20])[C:8]([H:21])([H:22])[C:9]([H:23])([H:24])[4N:10]->2([H:25])[H:26]\\\", \\\"smiles3Dx\\\": \\\"C1([H:11])([H:12])[C:1]([H:13])([H:14])[2N:2]([H:15])([H:16])->[Ru+2:3]2(<-[5Cl-:4])(<-[6Cl-:5])(<-[1N:6]1([H:17])[H:18])<-[3N:7]([H:19])([H:20])[C:8]([H:21])([H:22])[C:9]([H:23])([H:24])[4N:10]->2([H:25])[H:26]\\\", \\\"dummies\\\": []}\\nC      1.4728    -1.3398     2.0318\\nC      0.0491    -1.9305     2.0794\\nN     -0.8883    -1.0031     1.6445\\nRu     0.0000     0.0000     0.0000\\nCl     0.4214     2.0076     1.3430\\nCl    -2.1452     0.9494    -0.7131\\nN      1.7793    -0.8822     0.7559\\nN     -0.2992    -1.6566    -1.2967\\nC      0.0132    -1.2094    -2.5748\\nC      1.2270    -0.2586    -2.5457\\nN      1.0019     0.8083    -1.6860\\nH      1.5302    -0.4937     2.7537\\nH      2.2041    -2.1223     2.3420\\nH      0.0149    -2.8285     1.4218\\nH     -0.1821    -2.2446     3.1238\\nH     -1.0815    -0.3999     2.3032\\nH     -1.6575    -1.4164     1.3760\\nH      2.4457    -0.2581     0.7836\\nH      2.0354    -1.5721     0.2162\\nH     -1.1689    -1.9320    -1.2501\\nH      0.2477    -2.3443    -1.0505\\nH      0.2438    -2.0767    -3.2365\\nH     -0.8576    -0.6601    -2.9995\\nH      1.4219     0.1178    -3.5769\\nH      2.1182    -0.8306    -2.2013\\nH      1.7896     1.1897    -1.4243\\nH      0.4745     1.4411    -2.0814\\n\",\"xyz\");\n",
       "\tviewer_16767461681922946.setStyle({\"stick\": {\"radius\": 0.15}, \"sphere\": {\"scale\": 0.3}});\n",
       "\tviewer_16767461681922946.setBackgroundColor(\"white\");\n",
       "\tviewer_16767461681922946.zoomTo();\n",
       "viewer_16767461681922946.render();\n",
       "});\n",
       "</script>"
      ]
     },
     "metadata": {},
     "output_type": "display_data"
    },
    {
     "name": "stdout",
     "output_type": "stream",
     "text": [
      "Stereomer #1\n"
     ]
    },
    {
     "data": {
      "application/3dmoljs_load.v0": "<div id=\"3dmolviewer_16767461681962974\"  style=\"position: relative; width: 640px; height: 480px\">\n        <p id=\"3dmolwarning_16767461681962974\" style=\"background-color:#ffcccc;color:black\">You appear to be running in JupyterLab (or JavaScript failed to load for some other reason).  You need to install the 3dmol extension: <br>\n        <tt>jupyter labextension install jupyterlab_3dmol</tt></p>\n        </div>\n<script>\n\nvar loadScriptAsync = function(uri){\n  return new Promise((resolve, reject) => {\n    //this is to ignore the existence of requirejs amd\n    var savedexports, savedmodule;\n    if (typeof exports !== 'undefined') savedexports = exports;\n    else exports = {}\n    if (typeof module !== 'undefined') savedmodule = module;\n    else module = {}\n\n    var tag = document.createElement('script');\n    tag.src = uri;\n    tag.async = true;\n    tag.onload = () => {\n        exports = savedexports;\n        module = savedmodule;\n        resolve();\n    };\n  var firstScriptTag = document.getElementsByTagName('script')[0];\n  firstScriptTag.parentNode.insertBefore(tag, firstScriptTag);\n});\n};\n\nif(typeof $3Dmolpromise === 'undefined') {\n$3Dmolpromise = null;\n  $3Dmolpromise = loadScriptAsync('https://cdnjs.cloudflare.com/ajax/libs/3Dmol/2.0.1/3Dmol-min.js');\n}\n\nvar viewer_16767461681962974 = null;\nvar warn = document.getElementById(\"3dmolwarning_16767461681962974\");\nif(warn) {\n    warn.parentNode.removeChild(warn);\n}\n$3Dmolpromise.then(function() {\nviewer_16767461681962974 = $3Dmol.createViewer(document.getElementById(\"3dmolviewer_16767461681962974\"),{backgroundColor:\"white\"});\nviewer_16767461681962974.zoomTo();\n\tviewer_16767461681962974.addModel(\"27\\n{\\\"conf\\\": 4, \\\"E\\\": 14.68, \\\"rms\\\": -1.0, \\\"geom\\\": \\\"OH\\\", \\\"total_charge\\\": 0, \\\"CA_charge\\\": 2, \\\"smiles\\\": \\\"C1[CH2:1][2NH2:2]->[Ru+2:3]2(<-[3Cl-:4])(<-[5Cl-:5])(<-[1NH2:6]1)<-[4NH2:7][CH2:8][CH2:9][6NH2:10]->2\\\", \\\"smiles3D\\\": \\\"C1([H:11])([H:12])[C:1]([H:13])([H:14])[2N:2]([H:15])([H:16])->[Ru+2:3]2(<-[3Cl-:4])(<-[5Cl-:5])(<-[1N:6]1([H:17])[H:18])<-[4N:7]([H:19])([H:20])[C:8]([H:21])([H:22])[C:9]([H:23])([H:24])[6N:10]->2([H:25])[H:26]\\\", \\\"smiles3Dx\\\": \\\"C1([H:11])([H:12])[C:1]([H:13])([H:14])[2N:2]([H:15])([H:16])->[Ru+2:3]2(<-[3Cl-:4])(<-[5Cl-:5])(<-[1N:6]1([H:17])[H:18])<-[4N:7]([H:19])([H:20])[C:8]([H:21])([H:22])[C:9]([H:23])([H:24])[6N:10]->2([H:25])[H:26]\\\", \\\"dummies\\\": []}\\nC     -0.1970    -2.0180     1.9799\\nC     -0.9894    -0.8095     2.5292\\nN     -0.5009     0.3911     2.0216\\nRu     0.0000     0.0000     0.0000\\nCl    -2.3819     0.0480    -0.5966\\nCl     2.3819    -0.0480     0.5966\\nN     -0.1857    -2.0274     0.5879\\nN      0.4963    -0.3910    -2.0227\\nC      0.3506     0.8223    -2.6892\\nC      0.8358     2.0051    -1.8199\\nN      0.1903     2.0273    -0.5868\\nH      0.8486    -1.9568     2.3580\\nH     -0.6570    -2.9592     2.3612\\nH     -2.0582    -0.9261     2.2395\\nH     -0.9225    -0.8053     3.6420\\nH      0.2446     0.6590     2.4763\\nH     -1.1343     1.0481     2.0629\\nH      0.5211    -2.5095     0.2677\\nH     -0.9638    -2.3730     0.2571\\nH      1.3574    -0.6913    -2.0750\\nH     -0.0673    -1.0238    -2.3639\\nH     -0.7234     0.9821    -2.9362\\nH      0.9337     0.8050    -3.6392\\nH      0.6458     2.9594    -2.3641\\nH      1.9331     1.9007    -1.6613\\nH      0.6805     2.4853     0.0333\\nH     -0.6382     2.4053    -0.6583\\n\",\"xyz\");\n\tviewer_16767461681962974.setStyle({\"stick\": {\"radius\": 0.15}, \"sphere\": {\"scale\": 0.3}});\n\tviewer_16767461681962974.setBackgroundColor(\"white\");\n\tviewer_16767461681962974.zoomTo();\nviewer_16767461681962974.render();\n});\n</script>",
      "text/html": [
       "<div id=\"3dmolviewer_16767461681962974\"  style=\"position: relative; width: 640px; height: 480px\">\n",
       "        <p id=\"3dmolwarning_16767461681962974\" style=\"background-color:#ffcccc;color:black\">You appear to be running in JupyterLab (or JavaScript failed to load for some other reason).  You need to install the 3dmol extension: <br>\n",
       "        <tt>jupyter labextension install jupyterlab_3dmol</tt></p>\n",
       "        </div>\n",
       "<script>\n",
       "\n",
       "var loadScriptAsync = function(uri){\n",
       "  return new Promise((resolve, reject) => {\n",
       "    //this is to ignore the existence of requirejs amd\n",
       "    var savedexports, savedmodule;\n",
       "    if (typeof exports !== 'undefined') savedexports = exports;\n",
       "    else exports = {}\n",
       "    if (typeof module !== 'undefined') savedmodule = module;\n",
       "    else module = {}\n",
       "\n",
       "    var tag = document.createElement('script');\n",
       "    tag.src = uri;\n",
       "    tag.async = true;\n",
       "    tag.onload = () => {\n",
       "        exports = savedexports;\n",
       "        module = savedmodule;\n",
       "        resolve();\n",
       "    };\n",
       "  var firstScriptTag = document.getElementsByTagName('script')[0];\n",
       "  firstScriptTag.parentNode.insertBefore(tag, firstScriptTag);\n",
       "});\n",
       "};\n",
       "\n",
       "if(typeof $3Dmolpromise === 'undefined') {\n",
       "$3Dmolpromise = null;\n",
       "  $3Dmolpromise = loadScriptAsync('https://cdnjs.cloudflare.com/ajax/libs/3Dmol/2.0.1/3Dmol-min.js');\n",
       "}\n",
       "\n",
       "var viewer_16767461681962974 = null;\n",
       "var warn = document.getElementById(\"3dmolwarning_16767461681962974\");\n",
       "if(warn) {\n",
       "    warn.parentNode.removeChild(warn);\n",
       "}\n",
       "$3Dmolpromise.then(function() {\n",
       "viewer_16767461681962974 = $3Dmol.createViewer(document.getElementById(\"3dmolviewer_16767461681962974\"),{backgroundColor:\"white\"});\n",
       "viewer_16767461681962974.zoomTo();\n",
       "\tviewer_16767461681962974.addModel(\"27\\n{\\\"conf\\\": 4, \\\"E\\\": 14.68, \\\"rms\\\": -1.0, \\\"geom\\\": \\\"OH\\\", \\\"total_charge\\\": 0, \\\"CA_charge\\\": 2, \\\"smiles\\\": \\\"C1[CH2:1][2NH2:2]->[Ru+2:3]2(<-[3Cl-:4])(<-[5Cl-:5])(<-[1NH2:6]1)<-[4NH2:7][CH2:8][CH2:9][6NH2:10]->2\\\", \\\"smiles3D\\\": \\\"C1([H:11])([H:12])[C:1]([H:13])([H:14])[2N:2]([H:15])([H:16])->[Ru+2:3]2(<-[3Cl-:4])(<-[5Cl-:5])(<-[1N:6]1([H:17])[H:18])<-[4N:7]([H:19])([H:20])[C:8]([H:21])([H:22])[C:9]([H:23])([H:24])[6N:10]->2([H:25])[H:26]\\\", \\\"smiles3Dx\\\": \\\"C1([H:11])([H:12])[C:1]([H:13])([H:14])[2N:2]([H:15])([H:16])->[Ru+2:3]2(<-[3Cl-:4])(<-[5Cl-:5])(<-[1N:6]1([H:17])[H:18])<-[4N:7]([H:19])([H:20])[C:8]([H:21])([H:22])[C:9]([H:23])([H:24])[6N:10]->2([H:25])[H:26]\\\", \\\"dummies\\\": []}\\nC     -0.1970    -2.0180     1.9799\\nC     -0.9894    -0.8095     2.5292\\nN     -0.5009     0.3911     2.0216\\nRu     0.0000     0.0000     0.0000\\nCl    -2.3819     0.0480    -0.5966\\nCl     2.3819    -0.0480     0.5966\\nN     -0.1857    -2.0274     0.5879\\nN      0.4963    -0.3910    -2.0227\\nC      0.3506     0.8223    -2.6892\\nC      0.8358     2.0051    -1.8199\\nN      0.1903     2.0273    -0.5868\\nH      0.8486    -1.9568     2.3580\\nH     -0.6570    -2.9592     2.3612\\nH     -2.0582    -0.9261     2.2395\\nH     -0.9225    -0.8053     3.6420\\nH      0.2446     0.6590     2.4763\\nH     -1.1343     1.0481     2.0629\\nH      0.5211    -2.5095     0.2677\\nH     -0.9638    -2.3730     0.2571\\nH      1.3574    -0.6913    -2.0750\\nH     -0.0673    -1.0238    -2.3639\\nH     -0.7234     0.9821    -2.9362\\nH      0.9337     0.8050    -3.6392\\nH      0.6458     2.9594    -2.3641\\nH      1.9331     1.9007    -1.6613\\nH      0.6805     2.4853     0.0333\\nH     -0.6382     2.4053    -0.6583\\n\",\"xyz\");\n",
       "\tviewer_16767461681962974.setStyle({\"stick\": {\"radius\": 0.15}, \"sphere\": {\"scale\": 0.3}});\n",
       "\tviewer_16767461681962974.setBackgroundColor(\"white\");\n",
       "\tviewer_16767461681962974.zoomTo();\n",
       "viewer_16767461681962974.render();\n",
       "});\n",
       "</script>"
      ]
     },
     "metadata": {},
     "output_type": "display_data"
    }
   ],
   "source": [
    "# get conformers and indexes of minimal energy conformers\n",
    "for X in Xs:\n",
    "    X.AddConformers(numConfs = 5)\n",
    "emin_idxs = [X.GetMinEnergyConfId(0) for X in Xs]\n",
    "\n",
    "# view\n",
    "for i, X in enumerate(Xs):\n",
    "    print(f'Stereomer #{i}')\n",
    "    view_complex(Xs[i], confId = emin_idxs[i])"
   ]
  },
  {
   "cell_type": "markdown",
   "id": "fc2a2a85",
   "metadata": {},
   "source": [
    "Further in this section we will review the main parameters of stereomer search and some important usage scenarios."
   ]
  },
  {
   "cell_type": "markdown",
   "id": "f60455ca",
   "metadata": {},
   "source": [
    "### Stereochemistry control\n",
    "\n",
    "There are three regimes stereomer search (`regime` parameter):\n",
    "\n",
    "* \"all\": default choice, changes stereochemistry of all undefined stereocenters.\n",
    "\n",
    "* \"ligands\": changes stereochemistry of undefined stereocenters in ligands only, ignores central atom;\n",
    "\n",
    "* \"CA\": changes stereochemistry of the central atom only, ignores undefined stereocenters in ligands;\n",
    "\n",
    "Pretty obvious, that the default `all` regime can be used in almost any situation."
   ]
  },
  {
   "cell_type": "markdown",
   "id": "0de2661b",
   "metadata": {},
   "source": [
    "#### Ligands-only regime\n",
    "\n",
    "`ligands` regime can be useful if one want to fix stereochemistry of the central atom. This can be the case for ligands containing aliphatic amine donor group with three different substituents, which will form a chiral center after binding to the metal:"
   ]
  },
  {
   "cell_type": "code",
   "execution_count": 4,
   "id": "6be7fbc8",
   "metadata": {
    "scrolled": false
   },
   "outputs": [
    {
     "data": {
      "text/plain": [
       "2"
      ]
     },
     "execution_count": 4,
     "metadata": {},
     "output_type": "execute_result"
    }
   ],
   "source": [
    "# get stereomers\n",
    "ligands = ['C[N:1](C)CC[N:2](C)CC[P:3](C)C', '[C-:4]#[O+]', '[H-:5]', '[H-:6]']\n",
    "X = mace.ComplexFromLigands(ligands = ligands, CA = '[Ru+2]', geom = 'OH')\n",
    "Xs = X.GetStereomers(regime = 'ligands')\n",
    "len(Xs)"
   ]
  },
  {
   "cell_type": "code",
   "execution_count": 5,
   "id": "e2e81766",
   "metadata": {
    "scrolled": false
   },
   "outputs": [
    {
     "name": "stdout",
     "output_type": "stream",
     "text": [
      "Stereomer #0\n"
     ]
    },
    {
     "data": {
      "application/3dmoljs_load.v0": "<div id=\"3dmolviewer_16767461693373468\"  style=\"position: relative; width: 640px; height: 480px\">\n        <p id=\"3dmolwarning_16767461693373468\" style=\"background-color:#ffcccc;color:black\">You appear to be running in JupyterLab (or JavaScript failed to load for some other reason).  You need to install the 3dmol extension: <br>\n        <tt>jupyter labextension install jupyterlab_3dmol</tt></p>\n        </div>\n<script>\n\nvar loadScriptAsync = function(uri){\n  return new Promise((resolve, reject) => {\n    //this is to ignore the existence of requirejs amd\n    var savedexports, savedmodule;\n    if (typeof exports !== 'undefined') savedexports = exports;\n    else exports = {}\n    if (typeof module !== 'undefined') savedmodule = module;\n    else module = {}\n\n    var tag = document.createElement('script');\n    tag.src = uri;\n    tag.async = true;\n    tag.onload = () => {\n        exports = savedexports;\n        module = savedmodule;\n        resolve();\n    };\n  var firstScriptTag = document.getElementsByTagName('script')[0];\n  firstScriptTag.parentNode.insertBefore(tag, firstScriptTag);\n});\n};\n\nif(typeof $3Dmolpromise === 'undefined') {\n$3Dmolpromise = null;\n  $3Dmolpromise = loadScriptAsync('https://cdnjs.cloudflare.com/ajax/libs/3Dmol/2.0.1/3Dmol-min.js');\n}\n\nvar viewer_16767461693373468 = null;\nvar warn = document.getElementById(\"3dmolwarning_16767461693373468\");\nif(warn) {\n    warn.parentNode.removeChild(warn);\n}\n$3Dmolpromise.then(function() {\nviewer_16767461693373468 = $3Dmol.createViewer(document.getElementById(\"3dmolviewer_16767461693373468\"),{backgroundColor:\"white\"});\nviewer_16767461693373468.zoomTo();\n\tviewer_16767461693373468.addModel(\"40\\n{\\\"conf\\\": 2, \\\"E\\\": 89.19, \\\"rms\\\": -1.0, \\\"geom\\\": \\\"OH\\\", \\\"total_charge\\\": 0, \\\"CA_charge\\\": 2, \\\"smiles\\\": \\\"C[1N:1]1([CH3:2])->[Ru+2:3]2(<-[4C-:4]#[O+:5])(<-[5H-:6])(<-[6H-:7])<-[2N@:8]([CH3:9])([CH2:10][CH2:11]1)[CH2:12][CH2:13][3P:14]->2([CH3:15])[CH3:16]\\\", \\\"smiles3D\\\": \\\"C([1N:1]1([C:2]([H:20])([H:21])[H:22])->[Ru+2:3]2(<-[4C-:4]#[O+:5])(<-[5H-:6])(<-[6H-:7])<-[2N@:8]([C:9]([H:23])([H:24])[H:25])([C:10]([H:26])([H:27])[C:11]1([H:28])[H:29])[C:12]([H:30])([H:31])[C:13]([H:32])([H:33])[3P:14]->2([C:15]([H:34])([H:35])[H:36])[C:16]([H:37])([H:38])[H:39])([H:17])([H:18])[H:19]\\\", \\\"smiles3Dx\\\": \\\"C([1N:1]1([C:2]([H:20])([H:21])[H:22])->[Ru+2:3]2(<-[4C-:4]#[O+:5])(<-[5H-:6])(<-[6H-:7])<-[2N@:8]([C:9]([H:23])([H:24])[H:25])([C:10]([H:26])([H:27])[C:11]1([H:28])[H:29])[C:12]([H:30])([H:31])[C:13]([H:32])([H:33])[3P:14]->2([C:15]([H:34])([H:35])[H:36])[C:16]([H:37])([H:38])[H:39])([H:17])([H:18])[H:19]\\\", \\\"dummies\\\": []}\\nC     -1.7527    -2.3525    -0.5317\\nN     -0.4914    -1.8731    -0.9577\\nC     -0.5190    -1.6591    -2.3598\\nRu     0.0000     0.0000     0.0000\\nC     -2.0385     0.6224     0.2213\\nO     -3.1857     0.9720     0.3468\\nH      0.0858     0.7223    -1.5258\\nH      0.5141     1.4780     0.6378\\nN      2.0253    -0.7538    -0.0684\\nC      2.7441     0.1399    -0.8964\\nC      1.9734    -2.0808    -0.6433\\nC      0.5681    -2.7411    -0.5795\\nC      2.5968    -0.7375     1.2688\\nC      1.7895    -1.4745     2.3674\\nP      0.1193    -0.8538     2.3346\\nC     -0.9241    -2.1725     2.9546\\nC      0.0735     0.4211     3.5895\\nH     -2.5827    -1.7581    -0.9763\\nH     -1.8878    -3.4198    -0.8248\\nH     -1.8338    -2.2749     0.5587\\nH     -0.7466    -2.6068    -2.9018\\nH      0.4550    -1.2719    -2.7198\\nH     -1.2985    -0.9068    -2.6155\\nH      3.8126    -0.1680    -0.9737\\nH      2.3048     0.1609    -1.9170\\nH      2.6956     1.1712    -0.4832\\nH      2.2850    -2.0657    -1.7131\\nH      2.6887    -2.7559    -0.1189\\nH      0.5739    -3.6431    -1.2368\\nH      0.4057    -3.0919     0.4558\\nH      2.7017     0.3225     1.5990\\nH      3.6201    -1.1795     1.2372\\nH      1.7945    -2.5657     2.1758\\nH      2.2448    -1.2772     3.3610\\nH     -0.7174    -3.1124     2.4080\\nH     -1.9899    -1.8928     2.8275\\nH     -0.7158    -2.3289     4.0331\\nH      0.7965     1.2215     3.3303\\nH      0.3420    -0.0142     4.5743\\nH     -0.9480     0.8503     3.6419\\n\",\"xyz\");\n\tviewer_16767461693373468.setStyle({\"stick\": {\"radius\": 0.15}, \"sphere\": {\"scale\": 0.3}});\n\tviewer_16767461693373468.setBackgroundColor(\"white\");\n\tviewer_16767461693373468.zoomTo();\nviewer_16767461693373468.render();\n});\n</script>",
      "text/html": [
       "<div id=\"3dmolviewer_16767461693373468\"  style=\"position: relative; width: 640px; height: 480px\">\n",
       "        <p id=\"3dmolwarning_16767461693373468\" style=\"background-color:#ffcccc;color:black\">You appear to be running in JupyterLab (or JavaScript failed to load for some other reason).  You need to install the 3dmol extension: <br>\n",
       "        <tt>jupyter labextension install jupyterlab_3dmol</tt></p>\n",
       "        </div>\n",
       "<script>\n",
       "\n",
       "var loadScriptAsync = function(uri){\n",
       "  return new Promise((resolve, reject) => {\n",
       "    //this is to ignore the existence of requirejs amd\n",
       "    var savedexports, savedmodule;\n",
       "    if (typeof exports !== 'undefined') savedexports = exports;\n",
       "    else exports = {}\n",
       "    if (typeof module !== 'undefined') savedmodule = module;\n",
       "    else module = {}\n",
       "\n",
       "    var tag = document.createElement('script');\n",
       "    tag.src = uri;\n",
       "    tag.async = true;\n",
       "    tag.onload = () => {\n",
       "        exports = savedexports;\n",
       "        module = savedmodule;\n",
       "        resolve();\n",
       "    };\n",
       "  var firstScriptTag = document.getElementsByTagName('script')[0];\n",
       "  firstScriptTag.parentNode.insertBefore(tag, firstScriptTag);\n",
       "});\n",
       "};\n",
       "\n",
       "if(typeof $3Dmolpromise === 'undefined') {\n",
       "$3Dmolpromise = null;\n",
       "  $3Dmolpromise = loadScriptAsync('https://cdnjs.cloudflare.com/ajax/libs/3Dmol/2.0.1/3Dmol-min.js');\n",
       "}\n",
       "\n",
       "var viewer_16767461693373468 = null;\n",
       "var warn = document.getElementById(\"3dmolwarning_16767461693373468\");\n",
       "if(warn) {\n",
       "    warn.parentNode.removeChild(warn);\n",
       "}\n",
       "$3Dmolpromise.then(function() {\n",
       "viewer_16767461693373468 = $3Dmol.createViewer(document.getElementById(\"3dmolviewer_16767461693373468\"),{backgroundColor:\"white\"});\n",
       "viewer_16767461693373468.zoomTo();\n",
       "\tviewer_16767461693373468.addModel(\"40\\n{\\\"conf\\\": 2, \\\"E\\\": 89.19, \\\"rms\\\": -1.0, \\\"geom\\\": \\\"OH\\\", \\\"total_charge\\\": 0, \\\"CA_charge\\\": 2, \\\"smiles\\\": \\\"C[1N:1]1([CH3:2])->[Ru+2:3]2(<-[4C-:4]#[O+:5])(<-[5H-:6])(<-[6H-:7])<-[2N@:8]([CH3:9])([CH2:10][CH2:11]1)[CH2:12][CH2:13][3P:14]->2([CH3:15])[CH3:16]\\\", \\\"smiles3D\\\": \\\"C([1N:1]1([C:2]([H:20])([H:21])[H:22])->[Ru+2:3]2(<-[4C-:4]#[O+:5])(<-[5H-:6])(<-[6H-:7])<-[2N@:8]([C:9]([H:23])([H:24])[H:25])([C:10]([H:26])([H:27])[C:11]1([H:28])[H:29])[C:12]([H:30])([H:31])[C:13]([H:32])([H:33])[3P:14]->2([C:15]([H:34])([H:35])[H:36])[C:16]([H:37])([H:38])[H:39])([H:17])([H:18])[H:19]\\\", \\\"smiles3Dx\\\": \\\"C([1N:1]1([C:2]([H:20])([H:21])[H:22])->[Ru+2:3]2(<-[4C-:4]#[O+:5])(<-[5H-:6])(<-[6H-:7])<-[2N@:8]([C:9]([H:23])([H:24])[H:25])([C:10]([H:26])([H:27])[C:11]1([H:28])[H:29])[C:12]([H:30])([H:31])[C:13]([H:32])([H:33])[3P:14]->2([C:15]([H:34])([H:35])[H:36])[C:16]([H:37])([H:38])[H:39])([H:17])([H:18])[H:19]\\\", \\\"dummies\\\": []}\\nC     -1.7527    -2.3525    -0.5317\\nN     -0.4914    -1.8731    -0.9577\\nC     -0.5190    -1.6591    -2.3598\\nRu     0.0000     0.0000     0.0000\\nC     -2.0385     0.6224     0.2213\\nO     -3.1857     0.9720     0.3468\\nH      0.0858     0.7223    -1.5258\\nH      0.5141     1.4780     0.6378\\nN      2.0253    -0.7538    -0.0684\\nC      2.7441     0.1399    -0.8964\\nC      1.9734    -2.0808    -0.6433\\nC      0.5681    -2.7411    -0.5795\\nC      2.5968    -0.7375     1.2688\\nC      1.7895    -1.4745     2.3674\\nP      0.1193    -0.8538     2.3346\\nC     -0.9241    -2.1725     2.9546\\nC      0.0735     0.4211     3.5895\\nH     -2.5827    -1.7581    -0.9763\\nH     -1.8878    -3.4198    -0.8248\\nH     -1.8338    -2.2749     0.5587\\nH     -0.7466    -2.6068    -2.9018\\nH      0.4550    -1.2719    -2.7198\\nH     -1.2985    -0.9068    -2.6155\\nH      3.8126    -0.1680    -0.9737\\nH      2.3048     0.1609    -1.9170\\nH      2.6956     1.1712    -0.4832\\nH      2.2850    -2.0657    -1.7131\\nH      2.6887    -2.7559    -0.1189\\nH      0.5739    -3.6431    -1.2368\\nH      0.4057    -3.0919     0.4558\\nH      2.7017     0.3225     1.5990\\nH      3.6201    -1.1795     1.2372\\nH      1.7945    -2.5657     2.1758\\nH      2.2448    -1.2772     3.3610\\nH     -0.7174    -3.1124     2.4080\\nH     -1.9899    -1.8928     2.8275\\nH     -0.7158    -2.3289     4.0331\\nH      0.7965     1.2215     3.3303\\nH      0.3420    -0.0142     4.5743\\nH     -0.9480     0.8503     3.6419\\n\",\"xyz\");\n",
       "\tviewer_16767461693373468.setStyle({\"stick\": {\"radius\": 0.15}, \"sphere\": {\"scale\": 0.3}});\n",
       "\tviewer_16767461693373468.setBackgroundColor(\"white\");\n",
       "\tviewer_16767461693373468.zoomTo();\n",
       "viewer_16767461693373468.render();\n",
       "});\n",
       "</script>"
      ]
     },
     "metadata": {},
     "output_type": "display_data"
    },
    {
     "name": "stdout",
     "output_type": "stream",
     "text": [
      "Stereomer #1\n"
     ]
    },
    {
     "data": {
      "application/3dmoljs_load.v0": "<div id=\"3dmolviewer_16767461693403494\"  style=\"position: relative; width: 640px; height: 480px\">\n        <p id=\"3dmolwarning_16767461693403494\" style=\"background-color:#ffcccc;color:black\">You appear to be running in JupyterLab (or JavaScript failed to load for some other reason).  You need to install the 3dmol extension: <br>\n        <tt>jupyter labextension install jupyterlab_3dmol</tt></p>\n        </div>\n<script>\n\nvar loadScriptAsync = function(uri){\n  return new Promise((resolve, reject) => {\n    //this is to ignore the existence of requirejs amd\n    var savedexports, savedmodule;\n    if (typeof exports !== 'undefined') savedexports = exports;\n    else exports = {}\n    if (typeof module !== 'undefined') savedmodule = module;\n    else module = {}\n\n    var tag = document.createElement('script');\n    tag.src = uri;\n    tag.async = true;\n    tag.onload = () => {\n        exports = savedexports;\n        module = savedmodule;\n        resolve();\n    };\n  var firstScriptTag = document.getElementsByTagName('script')[0];\n  firstScriptTag.parentNode.insertBefore(tag, firstScriptTag);\n});\n};\n\nif(typeof $3Dmolpromise === 'undefined') {\n$3Dmolpromise = null;\n  $3Dmolpromise = loadScriptAsync('https://cdnjs.cloudflare.com/ajax/libs/3Dmol/2.0.1/3Dmol-min.js');\n}\n\nvar viewer_16767461693403494 = null;\nvar warn = document.getElementById(\"3dmolwarning_16767461693403494\");\nif(warn) {\n    warn.parentNode.removeChild(warn);\n}\n$3Dmolpromise.then(function() {\nviewer_16767461693403494 = $3Dmol.createViewer(document.getElementById(\"3dmolviewer_16767461693403494\"),{backgroundColor:\"white\"});\nviewer_16767461693403494.zoomTo();\n\tviewer_16767461693403494.addModel(\"40\\n{\\\"conf\\\": 1, \\\"E\\\": 183.9, \\\"rms\\\": -1.0, \\\"geom\\\": \\\"OH\\\", \\\"total_charge\\\": 0, \\\"CA_charge\\\": 2, \\\"smiles\\\": \\\"C[1N:1]1([CH3:2])->[Ru+2:3]2(<-[4C-:4]#[O+:5])(<-[5H-:6])(<-[6H-:7])<-[2N@@:8]([CH3:9])([CH2:10][CH2:11]1)[CH2:12][CH2:13][3P:14]->2([CH3:15])[CH3:16]\\\", \\\"smiles3D\\\": \\\"C([1N:1]1([C:2]([H:20])([H:21])[H:22])->[Ru+2:3]2(<-[4C-:4]#[O+:5])(<-[5H-:6])(<-[6H-:7])<-[2N@@:8]([C:9]([H:23])([H:24])[H:25])([C:10]([H:26])([H:27])[C:11]1([H:28])[H:29])[C:12]([H:30])([H:31])[C:13]([H:32])([H:33])[3P:14]->2([C:15]([H:34])([H:35])[H:36])[C:16]([H:37])([H:38])[H:39])([H:17])([H:18])[H:19]\\\", \\\"smiles3Dx\\\": \\\"C([1N:1]1([C:2]([H:20])([H:21])[H:22])->[Ru+2:3]2(<-[4C-:4]#[O+:5])(<-[5H-:6])(<-[6H-:7])<-[2N@@:8]([C:9]([H:23])([H:24])[H:25])([C:10]([H:26])([H:27])[C:11]1([H:28])[H:29])[C:12]([H:30])([H:31])[C:13]([H:32])([H:33])[3P:14]->2([C:15]([H:34])([H:35])[H:36])[C:16]([H:37])([H:38])[H:39])([H:17])([H:18])[H:19]\\\", \\\"dummies\\\": []}\\nC      2.5510     1.5501     0.3880\\nN      1.7177     1.1188    -0.6852\\nC      2.4706     0.2526    -1.5310\\nRu     0.0000     0.0000     0.0000\\nC      0.9960    -1.8814     0.2430\\nO      1.5564    -2.9402     0.3808\\nH     -0.2156    -0.2431    -1.6591\\nH     -1.4946    -0.7849     0.0765\\nN     -0.7556     2.0406     0.1382\\nC     -0.0899     3.0310     0.9963\\nC     -0.4972     2.3732    -1.1916\\nC      1.0639     2.1718    -1.4917\\nC     -2.0710     1.8288     0.6382\\nC     -2.0342     1.2932     2.1454\\nP     -0.5835     0.2426     2.3929\\nC     -1.2259    -1.2506     3.1424\\nC      0.4536     1.0024     3.6490\\nH      3.6351     1.3534     0.2043\\nH      2.4557     2.6332     0.5893\\nH      2.2566     0.9884     1.2889\\nH      2.9512    -0.5560    -0.9365\\nH      1.8235    -0.2224    -2.2952\\nH      3.2690     0.8273    -2.0566\\nH     -0.8148     3.6056     1.6171\\nH      0.4877     3.7958     0.4327\\nH      0.5995     2.5371     1.6726\\nH     -1.0883     1.7126    -1.8580\\nH     -0.7889     3.4281    -1.4085\\nH      1.5846     3.1415    -1.3383\\nH      1.1504     1.9434    -2.5804\\nH     -2.6586     2.7748     0.5979\\nH     -2.5867     1.0823     0.0012\\nH     -2.0016     2.1481     2.8508\\nH     -2.9549     0.7054     2.3436\\nH     -0.3846    -1.9276     3.3967\\nH     -1.9057    -1.7602     2.4293\\nH     -1.7850    -0.9931     4.0658\\nH      1.5137     0.9574     3.3427\\nH      0.1558     2.0589     3.8042\\nH      0.3340     0.4538     4.6057\\n\",\"xyz\");\n\tviewer_16767461693403494.setStyle({\"stick\": {\"radius\": 0.15}, \"sphere\": {\"scale\": 0.3}});\n\tviewer_16767461693403494.setBackgroundColor(\"white\");\n\tviewer_16767461693403494.zoomTo();\nviewer_16767461693403494.render();\n});\n</script>",
      "text/html": [
       "<div id=\"3dmolviewer_16767461693403494\"  style=\"position: relative; width: 640px; height: 480px\">\n",
       "        <p id=\"3dmolwarning_16767461693403494\" style=\"background-color:#ffcccc;color:black\">You appear to be running in JupyterLab (or JavaScript failed to load for some other reason).  You need to install the 3dmol extension: <br>\n",
       "        <tt>jupyter labextension install jupyterlab_3dmol</tt></p>\n",
       "        </div>\n",
       "<script>\n",
       "\n",
       "var loadScriptAsync = function(uri){\n",
       "  return new Promise((resolve, reject) => {\n",
       "    //this is to ignore the existence of requirejs amd\n",
       "    var savedexports, savedmodule;\n",
       "    if (typeof exports !== 'undefined') savedexports = exports;\n",
       "    else exports = {}\n",
       "    if (typeof module !== 'undefined') savedmodule = module;\n",
       "    else module = {}\n",
       "\n",
       "    var tag = document.createElement('script');\n",
       "    tag.src = uri;\n",
       "    tag.async = true;\n",
       "    tag.onload = () => {\n",
       "        exports = savedexports;\n",
       "        module = savedmodule;\n",
       "        resolve();\n",
       "    };\n",
       "  var firstScriptTag = document.getElementsByTagName('script')[0];\n",
       "  firstScriptTag.parentNode.insertBefore(tag, firstScriptTag);\n",
       "});\n",
       "};\n",
       "\n",
       "if(typeof $3Dmolpromise === 'undefined') {\n",
       "$3Dmolpromise = null;\n",
       "  $3Dmolpromise = loadScriptAsync('https://cdnjs.cloudflare.com/ajax/libs/3Dmol/2.0.1/3Dmol-min.js');\n",
       "}\n",
       "\n",
       "var viewer_16767461693403494 = null;\n",
       "var warn = document.getElementById(\"3dmolwarning_16767461693403494\");\n",
       "if(warn) {\n",
       "    warn.parentNode.removeChild(warn);\n",
       "}\n",
       "$3Dmolpromise.then(function() {\n",
       "viewer_16767461693403494 = $3Dmol.createViewer(document.getElementById(\"3dmolviewer_16767461693403494\"),{backgroundColor:\"white\"});\n",
       "viewer_16767461693403494.zoomTo();\n",
       "\tviewer_16767461693403494.addModel(\"40\\n{\\\"conf\\\": 1, \\\"E\\\": 183.9, \\\"rms\\\": -1.0, \\\"geom\\\": \\\"OH\\\", \\\"total_charge\\\": 0, \\\"CA_charge\\\": 2, \\\"smiles\\\": \\\"C[1N:1]1([CH3:2])->[Ru+2:3]2(<-[4C-:4]#[O+:5])(<-[5H-:6])(<-[6H-:7])<-[2N@@:8]([CH3:9])([CH2:10][CH2:11]1)[CH2:12][CH2:13][3P:14]->2([CH3:15])[CH3:16]\\\", \\\"smiles3D\\\": \\\"C([1N:1]1([C:2]([H:20])([H:21])[H:22])->[Ru+2:3]2(<-[4C-:4]#[O+:5])(<-[5H-:6])(<-[6H-:7])<-[2N@@:8]([C:9]([H:23])([H:24])[H:25])([C:10]([H:26])([H:27])[C:11]1([H:28])[H:29])[C:12]([H:30])([H:31])[C:13]([H:32])([H:33])[3P:14]->2([C:15]([H:34])([H:35])[H:36])[C:16]([H:37])([H:38])[H:39])([H:17])([H:18])[H:19]\\\", \\\"smiles3Dx\\\": \\\"C([1N:1]1([C:2]([H:20])([H:21])[H:22])->[Ru+2:3]2(<-[4C-:4]#[O+:5])(<-[5H-:6])(<-[6H-:7])<-[2N@@:8]([C:9]([H:23])([H:24])[H:25])([C:10]([H:26])([H:27])[C:11]1([H:28])[H:29])[C:12]([H:30])([H:31])[C:13]([H:32])([H:33])[3P:14]->2([C:15]([H:34])([H:35])[H:36])[C:16]([H:37])([H:38])[H:39])([H:17])([H:18])[H:19]\\\", \\\"dummies\\\": []}\\nC      2.5510     1.5501     0.3880\\nN      1.7177     1.1188    -0.6852\\nC      2.4706     0.2526    -1.5310\\nRu     0.0000     0.0000     0.0000\\nC      0.9960    -1.8814     0.2430\\nO      1.5564    -2.9402     0.3808\\nH     -0.2156    -0.2431    -1.6591\\nH     -1.4946    -0.7849     0.0765\\nN     -0.7556     2.0406     0.1382\\nC     -0.0899     3.0310     0.9963\\nC     -0.4972     2.3732    -1.1916\\nC      1.0639     2.1718    -1.4917\\nC     -2.0710     1.8288     0.6382\\nC     -2.0342     1.2932     2.1454\\nP     -0.5835     0.2426     2.3929\\nC     -1.2259    -1.2506     3.1424\\nC      0.4536     1.0024     3.6490\\nH      3.6351     1.3534     0.2043\\nH      2.4557     2.6332     0.5893\\nH      2.2566     0.9884     1.2889\\nH      2.9512    -0.5560    -0.9365\\nH      1.8235    -0.2224    -2.2952\\nH      3.2690     0.8273    -2.0566\\nH     -0.8148     3.6056     1.6171\\nH      0.4877     3.7958     0.4327\\nH      0.5995     2.5371     1.6726\\nH     -1.0883     1.7126    -1.8580\\nH     -0.7889     3.4281    -1.4085\\nH      1.5846     3.1415    -1.3383\\nH      1.1504     1.9434    -2.5804\\nH     -2.6586     2.7748     0.5979\\nH     -2.5867     1.0823     0.0012\\nH     -2.0016     2.1481     2.8508\\nH     -2.9549     0.7054     2.3436\\nH     -0.3846    -1.9276     3.3967\\nH     -1.9057    -1.7602     2.4293\\nH     -1.7850    -0.9931     4.0658\\nH      1.5137     0.9574     3.3427\\nH      0.1558     2.0589     3.8042\\nH      0.3340     0.4538     4.6057\\n\",\"xyz\");\n",
       "\tviewer_16767461693403494.setStyle({\"stick\": {\"radius\": 0.15}, \"sphere\": {\"scale\": 0.3}});\n",
       "\tviewer_16767461693403494.setBackgroundColor(\"white\");\n",
       "\tviewer_16767461693403494.zoomTo();\n",
       "viewer_16767461693403494.render();\n",
       "});\n",
       "</script>"
      ]
     },
     "metadata": {},
     "output_type": "display_data"
    }
   ],
   "source": [
    "# get conformers\n",
    "for X in Xs:\n",
    "    X.AddConformers(numConfs = 3)\n",
    "emin_idxs = [X.GetMinEnergyConfId(0) for X in Xs]\n",
    "\n",
    "# view\n",
    "for i, X in enumerate(Xs):\n",
    "    print(f'Stereomer #{i}')\n",
    "    view_complex(Xs[i], confId = emin_idxs[i])"
   ]
  },
  {
   "cell_type": "markdown",
   "id": "f0da31c7",
   "metadata": {},
   "source": [
    "How one can see, the difference between those two complexes are the stereo-configuration of the central nitrogen of the PNN ligand, which is not present in the isolated ligand."
   ]
  },
  {
   "cell_type": "markdown",
   "id": "49c31731",
   "metadata": {},
   "source": [
    "#### Central-atom-only regime\n",
    "\n",
    "The only situation when this regime can be used effectively is the case of rigid poly-dentate ligands containing several (potentially) stereogenic centers of unknown configuration. In this case the `CA` regime will generate mainly possible stereomers and will ignore \"impossible\" structures:"
   ]
  },
  {
   "cell_type": "code",
   "execution_count": 6,
   "id": "25104321",
   "metadata": {
    "scrolled": false
   },
   "outputs": [
    {
     "data": {
      "image/png": "[encoded data removed]",
      "text/plain": [
       "<PIL.PngImagePlugin.PngImageFile image mode=RGB size=300x300>"
      ]
     },
     "execution_count": 6,
     "metadata": {},
     "output_type": "execute_result"
    }
   ],
   "source": [
    "# check ligand\n",
    "smiles = 'c1cc[n:1]c(C[N:1](Cc2cccc[n:1]2)C(c2cccc[n:1]2)c2cccc[n:1]2)c1'\n",
    "draw_mol(Chem.MolFromSmiles(smiles))"
   ]
  },
  {
   "cell_type": "code",
   "execution_count": 7,
   "id": "4430319f",
   "metadata": {
    "scrolled": false
   },
   "outputs": [
    {
     "data": {
      "text/plain": [
       "5"
      ]
     },
     "execution_count": 7,
     "metadata": {},
     "output_type": "execute_result"
    }
   ],
   "source": [
    "# get 'all' stereomers\n",
    "X = mace.ComplexFromLigands([smiles, '[H-:1]'], '[Mn+]', 'OH')\n",
    "Xs_all = X.GetStereomers(regime = 'all')\n",
    "len(Xs_all)"
   ]
  },
  {
   "cell_type": "code",
   "execution_count": 8,
   "id": "2225b4b4",
   "metadata": {
    "scrolled": false
   },
   "outputs": [
    {
     "data": {
      "text/plain": [
       "2"
      ]
     },
     "execution_count": 8,
     "metadata": {},
     "output_type": "execute_result"
    }
   ],
   "source": [
    "# get 'CA' stereomers\n",
    "Xs_CA = X.GetStereomers(regime = 'CA')\n",
    "len(Xs_CA)"
   ]
  },
  {
   "cell_type": "code",
   "execution_count": 9,
   "id": "0ca5d22b",
   "metadata": {
    "scrolled": false
   },
   "outputs": [
    {
     "name": "stdout",
     "output_type": "stream",
     "text": [
      "Stereomer #0: 1 confs\n"
     ]
    },
    {
     "data": {
      "application/3dmoljs_load.v0": "<div id=\"3dmolviewer_16767462228228965\"  style=\"position: relative; width: 640px; height: 480px\">\n        <p id=\"3dmolwarning_16767462228228965\" style=\"background-color:#ffcccc;color:black\">You appear to be running in JupyterLab (or JavaScript failed to load for some other reason).  You need to install the 3dmol extension: <br>\n        <tt>jupyter labextension install jupyterlab_3dmol</tt></p>\n        </div>\n<script>\n\nvar loadScriptAsync = function(uri){\n  return new Promise((resolve, reject) => {\n    //this is to ignore the existence of requirejs amd\n    var savedexports, savedmodule;\n    if (typeof exports !== 'undefined') savedexports = exports;\n    else exports = {}\n    if (typeof module !== 'undefined') savedmodule = module;\n    else module = {}\n\n    var tag = document.createElement('script');\n    tag.src = uri;\n    tag.async = true;\n    tag.onload = () => {\n        exports = savedexports;\n        module = savedmodule;\n        resolve();\n    };\n  var firstScriptTag = document.getElementsByTagName('script')[0];\n  firstScriptTag.parentNode.insertBefore(tag, firstScriptTag);\n});\n};\n\nif(typeof $3Dmolpromise === 'undefined') {\n$3Dmolpromise = null;\n  $3Dmolpromise = loadScriptAsync('https://cdnjs.cloudflare.com/ajax/libs/3Dmol/2.0.1/3Dmol-min.js');\n}\n\nvar viewer_16767462228228965 = null;\nvar warn = document.getElementById(\"3dmolwarning_16767462228228965\");\nif(warn) {\n    warn.parentNode.removeChild(warn);\n}\n$3Dmolpromise.then(function() {\nviewer_16767462228228965 = $3Dmol.createViewer(document.getElementById(\"3dmolviewer_16767462228228965\"),{backgroundColor:\"white\"});\nviewer_16767462228228965.zoomTo();\n\tviewer_16767462228228965.addModel(\"51\\n{\\\"conf\\\": 0, \\\"E\\\": 146.74, \\\"rms\\\": -1.0, \\\"geom\\\": \\\"OH\\\", \\\"total_charge\\\": 0, \\\"CA_charge\\\": 1, \\\"smiles\\\": \\\"c1[cH:1][cH:2][1n:3]2->[Mn+:4]345(<-[4H-:5])<-[2N:6]([CH2:7][c:8]2[cH:9]1)([CH2:10][c:11]1[cH:12][cH:13][cH:14][cH:15][3n:16]->31)[CH:17]([c:18]1[cH:19][cH:20][cH:21][cH:22][5n:23]->41)[c:24]1[cH:25][cH:26][cH:27][cH:28][6n:29]->51\\\", \\\"smiles3D\\\": \\\"c1([H:30])[c:1]([H:31])[c:2]([H:32])[1n:3]2->[Mn+:4]345(<-[4H-:5])<-[2N:6]([C:7]([H:33])([H:34])[c:8]2[c:9]1[H:35])([C:10]([H:36])([H:37])[c:11]1[c:12]([H:38])[c:13]([H:39])[c:14]([H:40])[c:15]([H:41])[3n:16]->31)[C:17]([H:42])([c:18]1[c:19]([H:43])[c:20]([H:44])[c:21]([H:45])[c:22]([H:46])[5n:23]->41)[c:24]1[c:25]([H:47])[c:26]([H:48])[c:27]([H:49])[c:28]([H:50])[6n:29]->51\\\", \\\"smiles3Dx\\\": \\\"c1([H:30])[c:1]([H:31])[c:2]([H:32])[1n:3]2->[Mn+:4]345(<-[4H-:5])<-[2N:6]([C:7]([H:33])([H:34])[c:8]2[c:9]1[H:35])([C:10]([H:36])([H:37])[c:11]1[c:12]([H:38])[c:13]([H:39])[c:14]([H:40])[c:15]([H:41])[3n:16]->31)[C:17]([H:42])([c:18]1[c:19]([H:43])[c:20]([H:44])[c:21]([H:45])[c:22]([H:46])[5n:23]->41)[c:24]1[c:25]([H:47])[c:26]([H:48])[c:27]([H:49])[c:28]([H:50])[6n:29]->51\\\", \\\"dummies\\\": []}\\nC     -0.2272    -4.7518     1.3719\\nC     -0.9425    -4.3916     0.2248\\nC     -0.8888    -3.0699    -0.2236\\nN     -0.1378    -2.1622     0.4523\\nMn     0.0000     0.0000     0.0000\\nH     -0.8426     0.0436    -1.6344\\nN      1.0725    -0.0155     1.9664\\nC      1.4232    -1.4112     2.2689\\nC      0.5440    -2.4732     1.5859\\nC      0.5261    -3.7925     2.0578\\nC      0.1730     0.5786     2.9665\\nC     -1.3264     0.5037     2.6296\\nC     -2.2904     0.6901     3.6293\\nC     -3.6452     0.6882     3.2791\\nC     -4.0231     0.5115     1.9437\\nC     -3.0332     0.3431     0.9729\\nN     -1.7251     0.3642     1.3379\\nC      2.2030     0.8422     1.5460\\nC      2.9084     0.2011     0.3340\\nC      4.2995     0.1506     0.2039\\nC      4.8414    -0.4170    -0.9585\\nC      3.9965    -0.9123    -1.9649\\nC      2.6106    -0.8256    -1.7967\\nN      2.1164    -0.2579    -0.6680\\nC      1.6587     2.1899     1.0312\\nC      2.2467     3.4179     1.3493\\nC      1.6992     4.5840     0.7946\\nC      0.5917     4.5068    -0.0652\\nC      0.0474     3.2539    -0.3666\\nN      0.6080     2.1429     0.1737\\nH     -0.2549    -5.7735     1.7279\\nH     -1.5323    -5.1270    -0.3068\\nH     -1.4450    -2.7685    -1.1010\\nH      1.3833    -1.5909     3.3645\\nH      2.4706    -1.6132     1.9639\\nH      1.0886    -4.0741     2.9391\\nH      0.4197     1.6510     3.1083\\nH      0.3231     0.0965     3.9561\\nH     -1.9979     0.8380     4.6613\\nH     -4.4011     0.8253     4.0414\\nH     -5.0693     0.5024     1.6667\\nH     -3.3051     0.1921    -0.0631\\nH      2.9198     0.9991     2.3833\\nH      4.9476     0.5377     0.9797\\nH      5.9153    -0.4737    -1.0802\\nH      4.4126    -1.3562    -2.8599\\nH      1.9400    -1.2060    -2.5554\\nH      3.1033     3.4731     2.0087\\nH      2.1322     5.5474     1.0305\\nH      0.1640     5.4058    -0.4895\\nH     -0.8096     3.1701    -1.0213\\n\",\"xyz\");\n\tviewer_16767462228228965.setStyle({\"stick\": {\"radius\": 0.15}, \"sphere\": {\"scale\": 0.3}});\n\tviewer_16767462228228965.setBackgroundColor(\"white\");\n\tviewer_16767462228228965.zoomTo();\nviewer_16767462228228965.render();\n});\n</script>",
      "text/html": [
       "<div id=\"3dmolviewer_16767462228228965\"  style=\"position: relative; width: 640px; height: 480px\">\n",
       "        <p id=\"3dmolwarning_16767462228228965\" style=\"background-color:#ffcccc;color:black\">You appear to be running in JupyterLab (or JavaScript failed to load for some other reason).  You need to install the 3dmol extension: <br>\n",
       "        <tt>jupyter labextension install jupyterlab_3dmol</tt></p>\n",
       "        </div>\n",
       "<script>\n",
       "\n",
       "var loadScriptAsync = function(uri){\n",
       "  return new Promise((resolve, reject) => {\n",
       "    //this is to ignore the existence of requirejs amd\n",
       "    var savedexports, savedmodule;\n",
       "    if (typeof exports !== 'undefined') savedexports = exports;\n",
       "    else exports = {}\n",
       "    if (typeof module !== 'undefined') savedmodule = module;\n",
       "    else module = {}\n",
       "\n",
       "    var tag = document.createElement('script');\n",
       "    tag.src = uri;\n",
       "    tag.async = true;\n",
       "    tag.onload = () => {\n",
       "        exports = savedexports;\n",
       "        module = savedmodule;\n",
       "        resolve();\n",
       "    };\n",
       "  var firstScriptTag = document.getElementsByTagName('script')[0];\n",
       "  firstScriptTag.parentNode.insertBefore(tag, firstScriptTag);\n",
       "});\n",
       "};\n",
       "\n",
       "if(typeof $3Dmolpromise === 'undefined') {\n",
       "$3Dmolpromise = null;\n",
       "  $3Dmolpromise = loadScriptAsync('https://cdnjs.cloudflare.com/ajax/libs/3Dmol/2.0.1/3Dmol-min.js');\n",
       "}\n",
       "\n",
       "var viewer_16767462228228965 = null;\n",
       "var warn = document.getElementById(\"3dmolwarning_16767462228228965\");\n",
       "if(warn) {\n",
       "    warn.parentNode.removeChild(warn);\n",
       "}\n",
       "$3Dmolpromise.then(function() {\n",
       "viewer_16767462228228965 = $3Dmol.createViewer(document.getElementById(\"3dmolviewer_16767462228228965\"),{backgroundColor:\"white\"});\n",
       "viewer_16767462228228965.zoomTo();\n",
       "\tviewer_16767462228228965.addModel(\"51\\n{\\\"conf\\\": 0, \\\"E\\\": 146.74, \\\"rms\\\": -1.0, \\\"geom\\\": \\\"OH\\\", \\\"total_charge\\\": 0, \\\"CA_charge\\\": 1, \\\"smiles\\\": \\\"c1[cH:1][cH:2][1n:3]2->[Mn+:4]345(<-[4H-:5])<-[2N:6]([CH2:7][c:8]2[cH:9]1)([CH2:10][c:11]1[cH:12][cH:13][cH:14][cH:15][3n:16]->31)[CH:17]([c:18]1[cH:19][cH:20][cH:21][cH:22][5n:23]->41)[c:24]1[cH:25][cH:26][cH:27][cH:28][6n:29]->51\\\", \\\"smiles3D\\\": \\\"c1([H:30])[c:1]([H:31])[c:2]([H:32])[1n:3]2->[Mn+:4]345(<-[4H-:5])<-[2N:6]([C:7]([H:33])([H:34])[c:8]2[c:9]1[H:35])([C:10]([H:36])([H:37])[c:11]1[c:12]([H:38])[c:13]([H:39])[c:14]([H:40])[c:15]([H:41])[3n:16]->31)[C:17]([H:42])([c:18]1[c:19]([H:43])[c:20]([H:44])[c:21]([H:45])[c:22]([H:46])[5n:23]->41)[c:24]1[c:25]([H:47])[c:26]([H:48])[c:27]([H:49])[c:28]([H:50])[6n:29]->51\\\", \\\"smiles3Dx\\\": \\\"c1([H:30])[c:1]([H:31])[c:2]([H:32])[1n:3]2->[Mn+:4]345(<-[4H-:5])<-[2N:6]([C:7]([H:33])([H:34])[c:8]2[c:9]1[H:35])([C:10]([H:36])([H:37])[c:11]1[c:12]([H:38])[c:13]([H:39])[c:14]([H:40])[c:15]([H:41])[3n:16]->31)[C:17]([H:42])([c:18]1[c:19]([H:43])[c:20]([H:44])[c:21]([H:45])[c:22]([H:46])[5n:23]->41)[c:24]1[c:25]([H:47])[c:26]([H:48])[c:27]([H:49])[c:28]([H:50])[6n:29]->51\\\", \\\"dummies\\\": []}\\nC     -0.2272    -4.7518     1.3719\\nC     -0.9425    -4.3916     0.2248\\nC     -0.8888    -3.0699    -0.2236\\nN     -0.1378    -2.1622     0.4523\\nMn     0.0000     0.0000     0.0000\\nH     -0.8426     0.0436    -1.6344\\nN      1.0725    -0.0155     1.9664\\nC      1.4232    -1.4112     2.2689\\nC      0.5440    -2.4732     1.5859\\nC      0.5261    -3.7925     2.0578\\nC      0.1730     0.5786     2.9665\\nC     -1.3264     0.5037     2.6296\\nC     -2.2904     0.6901     3.6293\\nC     -3.6452     0.6882     3.2791\\nC     -4.0231     0.5115     1.9437\\nC     -3.0332     0.3431     0.9729\\nN     -1.7251     0.3642     1.3379\\nC      2.2030     0.8422     1.5460\\nC      2.9084     0.2011     0.3340\\nC      4.2995     0.1506     0.2039\\nC      4.8414    -0.4170    -0.9585\\nC      3.9965    -0.9123    -1.9649\\nC      2.6106    -0.8256    -1.7967\\nN      2.1164    -0.2579    -0.6680\\nC      1.6587     2.1899     1.0312\\nC      2.2467     3.4179     1.3493\\nC      1.6992     4.5840     0.7946\\nC      0.5917     4.5068    -0.0652\\nC      0.0474     3.2539    -0.3666\\nN      0.6080     2.1429     0.1737\\nH     -0.2549    -5.7735     1.7279\\nH     -1.5323    -5.1270    -0.3068\\nH     -1.4450    -2.7685    -1.1010\\nH      1.3833    -1.5909     3.3645\\nH      2.4706    -1.6132     1.9639\\nH      1.0886    -4.0741     2.9391\\nH      0.4197     1.6510     3.1083\\nH      0.3231     0.0965     3.9561\\nH     -1.9979     0.8380     4.6613\\nH     -4.4011     0.8253     4.0414\\nH     -5.0693     0.5024     1.6667\\nH     -3.3051     0.1921    -0.0631\\nH      2.9198     0.9991     2.3833\\nH      4.9476     0.5377     0.9797\\nH      5.9153    -0.4737    -1.0802\\nH      4.4126    -1.3562    -2.8599\\nH      1.9400    -1.2060    -2.5554\\nH      3.1033     3.4731     2.0087\\nH      2.1322     5.5474     1.0305\\nH      0.1640     5.4058    -0.4895\\nH     -0.8096     3.1701    -1.0213\\n\",\"xyz\");\n",
       "\tviewer_16767462228228965.setStyle({\"stick\": {\"radius\": 0.15}, \"sphere\": {\"scale\": 0.3}});\n",
       "\tviewer_16767462228228965.setBackgroundColor(\"white\");\n",
       "\tviewer_16767462228228965.zoomTo();\n",
       "viewer_16767462228228965.render();\n",
       "});\n",
       "</script>"
      ]
     },
     "metadata": {},
     "output_type": "display_data"
    },
    {
     "name": "stdout",
     "output_type": "stream",
     "text": [
      "Stereomer #1: 0 confs\n"
     ]
    }
   ],
   "source": [
    "# get 3D coords and view\n",
    "for i, X in enumerate(Xs_CA):\n",
    "    X.AddConformer()\n",
    "    print(f'Stereomer #{i}: {X.GetNumConformers()} confs')\n",
    "    if X.GetNumConformers():\n",
    "        view_complex(X)"
   ]
  },
  {
   "cell_type": "markdown",
   "id": "630e2e3b",
   "metadata": {},
   "source": [
    "Absence of generated conformers can be considered as an evidence of its \"impossibility\", or rather its high energy. Also note, that if original ligands has undefined stereocenters, than conformers obtained for `CA`-generated stereomers can be diastereomers, not conformers."
   ]
  },
  {
   "cell_type": "markdown",
   "id": "4a0a1861",
   "metadata": {},
   "source": [
    "#### Enantiomers\n",
    "\n",
    "The other parameter controlling stereochemistry is `dropEnantiomers`. If `True`, it reduces pairs of enantiomers to one complex:"
   ]
  },
  {
   "cell_type": "code",
   "execution_count": 10,
   "id": "a555ebd7",
   "metadata": {
    "scrolled": false
   },
   "outputs": [
    {
     "name": "stdout",
     "output_type": "stream",
     "text": [
      "Number of stereomers without enantiomers: 1\n",
      "Number of stereomers with enantiomers: 2\n"
     ]
    }
   ],
   "source": [
    "# get complex\n",
    "ligands = ['[NH2:1]CC[NH2:1]', '[NH2:1]CC[NH2:1]', '[NH2:1]CC[NH2:1]']\n",
    "X = mace.ComplexFromLigands(ligands, '[Ru+2]', 'OH')\n",
    "\n",
    "# check number of stereomers\n",
    "print(f'Number of stereomers without enantiomers: {len(X.GetStereomers(dropEnantiomers = True))}')\n",
    "print(f'Number of stereomers with enantiomers: {len(X.GetStereomers(dropEnantiomers = False))}')"
   ]
  },
  {
   "cell_type": "markdown",
   "id": "fe3c821d",
   "metadata": {},
   "source": [
    "Consideration of both enantiomers may be necessary only if the complex is in a chiral environment that is not its ligand, which is quite rare for homogeneous catalysis."
   ]
  },
  {
   "cell_type": "markdown",
   "id": "d693f791",
   "metadata": {},
   "source": [
    "### Rule-based filtering\n",
    "\n",
    "Unlike monodentate ligands, relative positions of donor atoms in complexes of chelates and multidentate ligands are restricted by the ligand's structure.\n",
    "\n",
    "#### minTransCycle\n",
    "\n",
    "The most obvious scenario is coordination of bidentate ligand: unless the ligand is \"long\", donor atoms can not be in *trans-* position to each other. In MACE, this idea is controlled by the `minTransCycle` parameter, which is the minimal size of the ..DA->M<-DA.. cycle, where DA are in trans- position to each other and belong to one ligand:"
   ]
  },
  {
   "cell_type": "code",
   "execution_count": 11,
   "id": "d4b221d6",
   "metadata": {
    "scrolled": false
   },
   "outputs": [
    {
     "name": "stdout",
     "output_type": "stream",
     "text": [
      "Number of stereomers with \"trans-cycles\" forbidden: 1\n",
      "Number of stereomers with \"trans-cycles\" allowed: 2\n"
     ]
    }
   ],
   "source": [
    "# get stereomers\n",
    "ligands = ['[NH2:1]CCOCCOCCOCC[NH2:1]', '[Cl-:1]', '[Cl-:1]']\n",
    "X = mace.ComplexFromLigands(ligands, '[Pt+2]', 'SP')\n",
    "print(f'Number of stereomers with \"trans-cycles\" forbidden: {len(X.GetStereomers(minTransCycle = None))}')\n",
    "\n",
    "# get stereomers with allowed \"trans-cycles\"\n",
    "Xs = X.GetStereomers(minTransCycle = 12)\n",
    "print(f'Number of stereomers with \"trans-cycles\" allowed: {len(Xs)}')"
   ]
  },
  {
   "cell_type": "code",
   "execution_count": 12,
   "id": "e231156b",
   "metadata": {
    "scrolled": false
   },
   "outputs": [
    {
     "name": "stdout",
     "output_type": "stream",
     "text": [
      "Stereomer #0\n"
     ]
    },
    {
     "data": {
      "application/3dmoljs_load.v0": "<div id=\"3dmolviewer_16767463344435394\"  style=\"position: relative; width: 640px; height: 480px\">\n        <p id=\"3dmolwarning_16767463344435394\" style=\"background-color:#ffcccc;color:black\">You appear to be running in JupyterLab (or JavaScript failed to load for some other reason).  You need to install the 3dmol extension: <br>\n        <tt>jupyter labextension install jupyterlab_3dmol</tt></p>\n        </div>\n<script>\n\nvar loadScriptAsync = function(uri){\n  return new Promise((resolve, reject) => {\n    //this is to ignore the existence of requirejs amd\n    var savedexports, savedmodule;\n    if (typeof exports !== 'undefined') savedexports = exports;\n    else exports = {}\n    if (typeof module !== 'undefined') savedmodule = module;\n    else module = {}\n\n    var tag = document.createElement('script');\n    tag.src = uri;\n    tag.async = true;\n    tag.onload = () => {\n        exports = savedexports;\n        module = savedmodule;\n        resolve();\n    };\n  var firstScriptTag = document.getElementsByTagName('script')[0];\n  firstScriptTag.parentNode.insertBefore(tag, firstScriptTag);\n});\n};\n\nif(typeof $3Dmolpromise === 'undefined') {\n$3Dmolpromise = null;\n  $3Dmolpromise = loadScriptAsync('https://cdnjs.cloudflare.com/ajax/libs/3Dmol/2.0.1/3Dmol-min.js');\n}\n\nvar viewer_16767463344435394 = null;\nvar warn = document.getElementById(\"3dmolwarning_16767463344435394\");\nif(warn) {\n    warn.parentNode.removeChild(warn);\n}\n$3Dmolpromise.then(function() {\nviewer_16767463344435394 = $3Dmol.createViewer(document.getElementById(\"3dmolviewer_16767463344435394\"),{backgroundColor:\"white\"});\nviewer_16767463344435394.zoomTo();\n\tviewer_16767463344435394.addModel(\"36\\n{\\\"conf\\\": 6, \\\"E\\\": 84.94, \\\"rms\\\": -1.0, \\\"geom\\\": \\\"SP\\\", \\\"total_charge\\\": 0, \\\"CA_charge\\\": 2, \\\"smiles\\\": \\\"C1[CH2:1][O:2][CH2:3][CH2:4][1NH2:5]->[Pt+2:6](<-[3Cl-:7])(<-[4Cl-:8])<-[2NH2:9][CH2:10][CH2:11][O:12][CH2:13][CH2:14][O:15]1\\\", \\\"smiles3D\\\": \\\"C1([H:16])([H:17])[C:1]([H:18])([H:19])[O:2][C:3]([H:20])([H:21])[C:4]([H:22])([H:23])[1N:5]([H:24])([H:25])->[Pt+2:6](<-[3Cl-:7])(<-[4Cl-:8])<-[2N:9]([H:26])([H:27])[C:10]([H:28])([H:29])[C:11]([H:30])([H:31])[O:12][C:13]([H:32])([H:33])[C:14]([H:34])([H:35])[O:15]1\\\", \\\"smiles3Dx\\\": \\\"C1([H:16])([H:17])[C:1]([H:18])([H:19])[O:2][C:3]([H:20])([H:21])[C:4]([H:22])([H:23])[1N:5]([H:24])([H:25])->[Pt+2:6](<-[3Cl-:7])(<-[4Cl-:8])(<-[*:36])(<-[*:37])<-[2N:9]([H:26])([H:27])[C:10]([H:28])([H:29])[C:11]([H:30])([H:31])[O:12][C:13]([H:32])([H:33])[C:14]([H:34])([H:35])[O:15]1\\\", \\\"dummies\\\": [1.4946584709862452, -0.14012477836954396, -1.1037997989041404, -1.494661196787232, 0.14012429936617077, 1.1037960955604316]}\\nC      3.2908    -2.5276    -2.7530\\nC      2.4734    -1.7937    -3.8301\\nO      1.0828    -1.8545    -3.5629\\nC      0.6641    -0.7261    -2.8220\\nC     -0.8484    -0.7474    -2.6615\\nN     -1.2339     0.1222    -1.6505\\nPt     0.0000     0.0000     0.0000\\nCl     1.3673    -0.1565     1.9085\\nCl    -0.2113    -2.3478     0.0890\\nN      0.1775     2.0511     0.0475\\nC      1.1270     2.5395    -0.8419\\nC      2.5519     2.0893    -0.4993\\nO      2.7747     0.8092    -1.0402\\nC      4.0284     0.3063    -0.6311\\nC      4.3936    -0.8766    -1.5220\\nO      3.3199    -1.8010    -1.5390\\nH      2.8120    -3.5104    -2.5571\\nH      4.3147    -2.7539    -3.1344\\nH      2.6460    -2.3197    -4.7927\\nH      2.8511    -0.7576    -3.9879\\nH      0.9449     0.2256    -3.3267\\nH      1.0917    -0.7570    -1.8051\\nH     -1.1761    -1.7821    -2.4132\\nH     -1.3234    -0.4492    -3.6261\\nH     -2.0871    -0.0712    -1.3871\\nH     -1.2212     0.9806    -1.9610\\nH      0.3825     2.3098     0.8991\\nH     -0.6379     2.4068    -0.1600\\nH      0.8757     2.2011    -1.8706\\nH      1.0943     3.6549    -0.8233\\nH      3.2624     2.8148    -0.9564\\nH      2.6876     2.1005     0.6049\\nH      4.8361     1.0700    -0.7208\\nH      3.9706    -0.0393     0.4243\\nH      4.6387    -0.4721    -2.5319\\nH      5.3009    -1.3739    -1.1157\\n\",\"xyz\");\n\tviewer_16767463344435394.setStyle({\"stick\": {\"radius\": 0.15}, \"sphere\": {\"scale\": 0.3}});\n\tviewer_16767463344435394.setBackgroundColor(\"white\");\n\tviewer_16767463344435394.zoomTo();\nviewer_16767463344435394.render();\n});\n</script>",
      "text/html": [
       "<div id=\"3dmolviewer_16767463344435394\"  style=\"position: relative; width: 640px; height: 480px\">\n",
       "        <p id=\"3dmolwarning_16767463344435394\" style=\"background-color:#ffcccc;color:black\">You appear to be running in JupyterLab (or JavaScript failed to load for some other reason).  You need to install the 3dmol extension: <br>\n",
       "        <tt>jupyter labextension install jupyterlab_3dmol</tt></p>\n",
       "        </div>\n",
       "<script>\n",
       "\n",
       "var loadScriptAsync = function(uri){\n",
       "  return new Promise((resolve, reject) => {\n",
       "    //this is to ignore the existence of requirejs amd\n",
       "    var savedexports, savedmodule;\n",
       "    if (typeof exports !== 'undefined') savedexports = exports;\n",
       "    else exports = {}\n",
       "    if (typeof module !== 'undefined') savedmodule = module;\n",
       "    else module = {}\n",
       "\n",
       "    var tag = document.createElement('script');\n",
       "    tag.src = uri;\n",
       "    tag.async = true;\n",
       "    tag.onload = () => {\n",
       "        exports = savedexports;\n",
       "        module = savedmodule;\n",
       "        resolve();\n",
       "    };\n",
       "  var firstScriptTag = document.getElementsByTagName('script')[0];\n",
       "  firstScriptTag.parentNode.insertBefore(tag, firstScriptTag);\n",
       "});\n",
       "};\n",
       "\n",
       "if(typeof $3Dmolpromise === 'undefined') {\n",
       "$3Dmolpromise = null;\n",
       "  $3Dmolpromise = loadScriptAsync('https://cdnjs.cloudflare.com/ajax/libs/3Dmol/2.0.1/3Dmol-min.js');\n",
       "}\n",
       "\n",
       "var viewer_16767463344435394 = null;\n",
       "var warn = document.getElementById(\"3dmolwarning_16767463344435394\");\n",
       "if(warn) {\n",
       "    warn.parentNode.removeChild(warn);\n",
       "}\n",
       "$3Dmolpromise.then(function() {\n",
       "viewer_16767463344435394 = $3Dmol.createViewer(document.getElementById(\"3dmolviewer_16767463344435394\"),{backgroundColor:\"white\"});\n",
       "viewer_16767463344435394.zoomTo();\n",
       "\tviewer_16767463344435394.addModel(\"36\\n{\\\"conf\\\": 6, \\\"E\\\": 84.94, \\\"rms\\\": -1.0, \\\"geom\\\": \\\"SP\\\", \\\"total_charge\\\": 0, \\\"CA_charge\\\": 2, \\\"smiles\\\": \\\"C1[CH2:1][O:2][CH2:3][CH2:4][1NH2:5]->[Pt+2:6](<-[3Cl-:7])(<-[4Cl-:8])<-[2NH2:9][CH2:10][CH2:11][O:12][CH2:13][CH2:14][O:15]1\\\", \\\"smiles3D\\\": \\\"C1([H:16])([H:17])[C:1]([H:18])([H:19])[O:2][C:3]([H:20])([H:21])[C:4]([H:22])([H:23])[1N:5]([H:24])([H:25])->[Pt+2:6](<-[3Cl-:7])(<-[4Cl-:8])<-[2N:9]([H:26])([H:27])[C:10]([H:28])([H:29])[C:11]([H:30])([H:31])[O:12][C:13]([H:32])([H:33])[C:14]([H:34])([H:35])[O:15]1\\\", \\\"smiles3Dx\\\": \\\"C1([H:16])([H:17])[C:1]([H:18])([H:19])[O:2][C:3]([H:20])([H:21])[C:4]([H:22])([H:23])[1N:5]([H:24])([H:25])->[Pt+2:6](<-[3Cl-:7])(<-[4Cl-:8])(<-[*:36])(<-[*:37])<-[2N:9]([H:26])([H:27])[C:10]([H:28])([H:29])[C:11]([H:30])([H:31])[O:12][C:13]([H:32])([H:33])[C:14]([H:34])([H:35])[O:15]1\\\", \\\"dummies\\\": [1.4946584709862452, -0.14012477836954396, -1.1037997989041404, -1.494661196787232, 0.14012429936617077, 1.1037960955604316]}\\nC      3.2908    -2.5276    -2.7530\\nC      2.4734    -1.7937    -3.8301\\nO      1.0828    -1.8545    -3.5629\\nC      0.6641    -0.7261    -2.8220\\nC     -0.8484    -0.7474    -2.6615\\nN     -1.2339     0.1222    -1.6505\\nPt     0.0000     0.0000     0.0000\\nCl     1.3673    -0.1565     1.9085\\nCl    -0.2113    -2.3478     0.0890\\nN      0.1775     2.0511     0.0475\\nC      1.1270     2.5395    -0.8419\\nC      2.5519     2.0893    -0.4993\\nO      2.7747     0.8092    -1.0402\\nC      4.0284     0.3063    -0.6311\\nC      4.3936    -0.8766    -1.5220\\nO      3.3199    -1.8010    -1.5390\\nH      2.8120    -3.5104    -2.5571\\nH      4.3147    -2.7539    -3.1344\\nH      2.6460    -2.3197    -4.7927\\nH      2.8511    -0.7576    -3.9879\\nH      0.9449     0.2256    -3.3267\\nH      1.0917    -0.7570    -1.8051\\nH     -1.1761    -1.7821    -2.4132\\nH     -1.3234    -0.4492    -3.6261\\nH     -2.0871    -0.0712    -1.3871\\nH     -1.2212     0.9806    -1.9610\\nH      0.3825     2.3098     0.8991\\nH     -0.6379     2.4068    -0.1600\\nH      0.8757     2.2011    -1.8706\\nH      1.0943     3.6549    -0.8233\\nH      3.2624     2.8148    -0.9564\\nH      2.6876     2.1005     0.6049\\nH      4.8361     1.0700    -0.7208\\nH      3.9706    -0.0393     0.4243\\nH      4.6387    -0.4721    -2.5319\\nH      5.3009    -1.3739    -1.1157\\n\",\"xyz\");\n",
       "\tviewer_16767463344435394.setStyle({\"stick\": {\"radius\": 0.15}, \"sphere\": {\"scale\": 0.3}});\n",
       "\tviewer_16767463344435394.setBackgroundColor(\"white\");\n",
       "\tviewer_16767463344435394.zoomTo();\n",
       "viewer_16767463344435394.render();\n",
       "});\n",
       "</script>"
      ]
     },
     "metadata": {},
     "output_type": "display_data"
    },
    {
     "name": "stdout",
     "output_type": "stream",
     "text": [
      "Stereomer #1\n"
     ]
    },
    {
     "data": {
      "application/3dmoljs_load.v0": "<div id=\"3dmolviewer_16767463344455414\"  style=\"position: relative; width: 640px; height: 480px\">\n        <p id=\"3dmolwarning_16767463344455414\" style=\"background-color:#ffcccc;color:black\">You appear to be running in JupyterLab (or JavaScript failed to load for some other reason).  You need to install the 3dmol extension: <br>\n        <tt>jupyter labextension install jupyterlab_3dmol</tt></p>\n        </div>\n<script>\n\nvar loadScriptAsync = function(uri){\n  return new Promise((resolve, reject) => {\n    //this is to ignore the existence of requirejs amd\n    var savedexports, savedmodule;\n    if (typeof exports !== 'undefined') savedexports = exports;\n    else exports = {}\n    if (typeof module !== 'undefined') savedmodule = module;\n    else module = {}\n\n    var tag = document.createElement('script');\n    tag.src = uri;\n    tag.async = true;\n    tag.onload = () => {\n        exports = savedexports;\n        module = savedmodule;\n        resolve();\n    };\n  var firstScriptTag = document.getElementsByTagName('script')[0];\n  firstScriptTag.parentNode.insertBefore(tag, firstScriptTag);\n});\n};\n\nif(typeof $3Dmolpromise === 'undefined') {\n$3Dmolpromise = null;\n  $3Dmolpromise = loadScriptAsync('https://cdnjs.cloudflare.com/ajax/libs/3Dmol/2.0.1/3Dmol-min.js');\n}\n\nvar viewer_16767463344455414 = null;\nvar warn = document.getElementById(\"3dmolwarning_16767463344455414\");\nif(warn) {\n    warn.parentNode.removeChild(warn);\n}\n$3Dmolpromise.then(function() {\nviewer_16767463344455414 = $3Dmol.createViewer(document.getElementById(\"3dmolviewer_16767463344455414\"),{backgroundColor:\"white\"});\nviewer_16767463344455414.zoomTo();\n\tviewer_16767463344455414.addModel(\"36\\n{\\\"conf\\\": 0, \\\"E\\\": 88.71, \\\"rms\\\": -1.0, \\\"geom\\\": \\\"SP\\\", \\\"total_charge\\\": 0, \\\"CA_charge\\\": 2, \\\"smiles\\\": \\\"C1[CH2:1][O:2][CH2:3][CH2:4][1NH2:5]->[Pt+2:6](<-[2Cl-:7])(<-[4Cl-:8])<-[3NH2:9][CH2:10][CH2:11][O:12][CH2:13][CH2:14][O:15]1\\\", \\\"smiles3D\\\": \\\"C1([H:16])([H:17])[C:1]([H:18])([H:19])[O:2][C:3]([H:20])([H:21])[C:4]([H:22])([H:23])[1N:5]([H:24])([H:25])->[Pt+2:6](<-[2Cl-:7])(<-[4Cl-:8])<-[3N:9]([H:26])([H:27])[C:10]([H:28])([H:29])[C:11]([H:30])([H:31])[O:12][C:13]([H:32])([H:33])[C:14]([H:34])([H:35])[O:15]1\\\", \\\"smiles3Dx\\\": \\\"C1([H:16])([H:17])[C:1]([H:18])([H:19])[O:2][C:3]([H:20])([H:21])[C:4]([H:22])([H:23])[1N:5]([H:24])([H:25])->[Pt+2:6](<-[2Cl-:7])(<-[4Cl-:8])(<-[*:36])(<-[*:37])<-[3N:9]([H:26])([H:27])[C:10]([H:28])([H:29])[C:11]([H:30])([H:31])[O:12][C:13]([H:32])([H:33])[C:14]([H:34])([H:35])[O:15]1\\\", \\\"dummies\\\": [-0.6245686924883551, -1.4429433303483927, 0.9999232277730649, 0.6245815559317763, 1.4429382923342322, -0.9999180176288828]}\\nC      0.3165     5.1052    -0.6506\\nC      0.6165     5.6156     0.7655\\nO      1.2282     4.6287     1.5776\\nC      0.3143     3.6183     1.9740\\nC      0.7899     2.2776     1.4037\\nN     -0.0693     1.2145     1.6493\\nPt     0.0000     0.0000     0.0000\\nCl    -2.2276     0.5769    -0.5198\\nCl     2.2108    -0.6046     0.5483\\nN      0.1102    -1.1706    -1.6804\\nC      0.8751    -0.5221    -2.6355\\nC      0.4013     0.9210    -2.7785\\nO      1.3495     1.6903    -3.5031\\nC      2.0039     2.6215    -2.6580\\nC      1.1443     3.8784    -2.4414\\nO      1.4497     4.4447    -1.1790\\nH     -0.5586     4.4190    -0.5912\\nH      0.0439     5.9731    -1.2924\\nH      1.3241     6.4673     0.6798\\nH     -0.3062     6.0210     1.2400\\nH      0.3204     3.5513     3.0820\\nH     -0.7409     3.8025     1.6650\\nH      0.8836     2.3734     0.3051\\nH      1.7998     2.0508     1.8195\\nH     -0.9280     1.4946     1.7738\\nH      0.1963     0.7423     2.3851\\nH      0.4920    -1.9714    -1.4623\\nH     -0.7325    -1.3270    -1.9978\\nH      1.9429    -0.5243    -2.3210\\nH      0.7885    -1.0402    -3.6190\\nH     -0.5574     0.9255    -3.3385\\nH      0.1765     1.3141    -1.7622\\nH      2.2996     2.1572    -1.6880\\nH      2.9546     2.9251    -3.1453\\nH      0.0692     3.6010    -2.5490\\nH      1.3716     4.6192    -3.2386\\n\",\"xyz\");\n\tviewer_16767463344455414.setStyle({\"stick\": {\"radius\": 0.15}, \"sphere\": {\"scale\": 0.3}});\n\tviewer_16767463344455414.setBackgroundColor(\"white\");\n\tviewer_16767463344455414.zoomTo();\nviewer_16767463344455414.render();\n});\n</script>",
      "text/html": [
       "<div id=\"3dmolviewer_16767463344455414\"  style=\"position: relative; width: 640px; height: 480px\">\n",
       "        <p id=\"3dmolwarning_16767463344455414\" style=\"background-color:#ffcccc;color:black\">You appear to be running in JupyterLab (or JavaScript failed to load for some other reason).  You need to install the 3dmol extension: <br>\n",
       "        <tt>jupyter labextension install jupyterlab_3dmol</tt></p>\n",
       "        </div>\n",
       "<script>\n",
       "\n",
       "var loadScriptAsync = function(uri){\n",
       "  return new Promise((resolve, reject) => {\n",
       "    //this is to ignore the existence of requirejs amd\n",
       "    var savedexports, savedmodule;\n",
       "    if (typeof exports !== 'undefined') savedexports = exports;\n",
       "    else exports = {}\n",
       "    if (typeof module !== 'undefined') savedmodule = module;\n",
       "    else module = {}\n",
       "\n",
       "    var tag = document.createElement('script');\n",
       "    tag.src = uri;\n",
       "    tag.async = true;\n",
       "    tag.onload = () => {\n",
       "        exports = savedexports;\n",
       "        module = savedmodule;\n",
       "        resolve();\n",
       "    };\n",
       "  var firstScriptTag = document.getElementsByTagName('script')[0];\n",
       "  firstScriptTag.parentNode.insertBefore(tag, firstScriptTag);\n",
       "});\n",
       "};\n",
       "\n",
       "if(typeof $3Dmolpromise === 'undefined') {\n",
       "$3Dmolpromise = null;\n",
       "  $3Dmolpromise = loadScriptAsync('https://cdnjs.cloudflare.com/ajax/libs/3Dmol/2.0.1/3Dmol-min.js');\n",
       "}\n",
       "\n",
       "var viewer_16767463344455414 = null;\n",
       "var warn = document.getElementById(\"3dmolwarning_16767463344455414\");\n",
       "if(warn) {\n",
       "    warn.parentNode.removeChild(warn);\n",
       "}\n",
       "$3Dmolpromise.then(function() {\n",
       "viewer_16767463344455414 = $3Dmol.createViewer(document.getElementById(\"3dmolviewer_16767463344455414\"),{backgroundColor:\"white\"});\n",
       "viewer_16767463344455414.zoomTo();\n",
       "\tviewer_16767463344455414.addModel(\"36\\n{\\\"conf\\\": 0, \\\"E\\\": 88.71, \\\"rms\\\": -1.0, \\\"geom\\\": \\\"SP\\\", \\\"total_charge\\\": 0, \\\"CA_charge\\\": 2, \\\"smiles\\\": \\\"C1[CH2:1][O:2][CH2:3][CH2:4][1NH2:5]->[Pt+2:6](<-[2Cl-:7])(<-[4Cl-:8])<-[3NH2:9][CH2:10][CH2:11][O:12][CH2:13][CH2:14][O:15]1\\\", \\\"smiles3D\\\": \\\"C1([H:16])([H:17])[C:1]([H:18])([H:19])[O:2][C:3]([H:20])([H:21])[C:4]([H:22])([H:23])[1N:5]([H:24])([H:25])->[Pt+2:6](<-[2Cl-:7])(<-[4Cl-:8])<-[3N:9]([H:26])([H:27])[C:10]([H:28])([H:29])[C:11]([H:30])([H:31])[O:12][C:13]([H:32])([H:33])[C:14]([H:34])([H:35])[O:15]1\\\", \\\"smiles3Dx\\\": \\\"C1([H:16])([H:17])[C:1]([H:18])([H:19])[O:2][C:3]([H:20])([H:21])[C:4]([H:22])([H:23])[1N:5]([H:24])([H:25])->[Pt+2:6](<-[2Cl-:7])(<-[4Cl-:8])(<-[*:36])(<-[*:37])<-[3N:9]([H:26])([H:27])[C:10]([H:28])([H:29])[C:11]([H:30])([H:31])[O:12][C:13]([H:32])([H:33])[C:14]([H:34])([H:35])[O:15]1\\\", \\\"dummies\\\": [-0.6245686924883551, -1.4429433303483927, 0.9999232277730649, 0.6245815559317763, 1.4429382923342322, -0.9999180176288828]}\\nC      0.3165     5.1052    -0.6506\\nC      0.6165     5.6156     0.7655\\nO      1.2282     4.6287     1.5776\\nC      0.3143     3.6183     1.9740\\nC      0.7899     2.2776     1.4037\\nN     -0.0693     1.2145     1.6493\\nPt     0.0000     0.0000     0.0000\\nCl    -2.2276     0.5769    -0.5198\\nCl     2.2108    -0.6046     0.5483\\nN      0.1102    -1.1706    -1.6804\\nC      0.8751    -0.5221    -2.6355\\nC      0.4013     0.9210    -2.7785\\nO      1.3495     1.6903    -3.5031\\nC      2.0039     2.6215    -2.6580\\nC      1.1443     3.8784    -2.4414\\nO      1.4497     4.4447    -1.1790\\nH     -0.5586     4.4190    -0.5912\\nH      0.0439     5.9731    -1.2924\\nH      1.3241     6.4673     0.6798\\nH     -0.3062     6.0210     1.2400\\nH      0.3204     3.5513     3.0820\\nH     -0.7409     3.8025     1.6650\\nH      0.8836     2.3734     0.3051\\nH      1.7998     2.0508     1.8195\\nH     -0.9280     1.4946     1.7738\\nH      0.1963     0.7423     2.3851\\nH      0.4920    -1.9714    -1.4623\\nH     -0.7325    -1.3270    -1.9978\\nH      1.9429    -0.5243    -2.3210\\nH      0.7885    -1.0402    -3.6190\\nH     -0.5574     0.9255    -3.3385\\nH      0.1765     1.3141    -1.7622\\nH      2.2996     2.1572    -1.6880\\nH      2.9546     2.9251    -3.1453\\nH      0.0692     3.6010    -2.5490\\nH      1.3716     4.6192    -3.2386\\n\",\"xyz\");\n",
       "\tviewer_16767463344455414.setStyle({\"stick\": {\"radius\": 0.15}, \"sphere\": {\"scale\": 0.3}});\n",
       "\tviewer_16767463344455414.setBackgroundColor(\"white\");\n",
       "\tviewer_16767463344455414.zoomTo();\n",
       "viewer_16767463344455414.render();\n",
       "});\n",
       "</script>"
      ]
     },
     "metadata": {},
     "output_type": "display_data"
    }
   ],
   "source": [
    "# get conformers\n",
    "for X in Xs:\n",
    "    X.AddConformers(numConfs = 10)\n",
    "emin_idxs = [X.GetMinEnergyConfId(0) for X in Xs]\n",
    "\n",
    "# view\n",
    "for i, X in enumerate(Xs):\n",
    "    print(f'Stereomer #{i}')\n",
    "    view_complex(Xs[i], confId = emin_idxs[i])"
   ]
  },
  {
   "cell_type": "markdown",
   "id": "8f80a69b",
   "metadata": {},
   "source": [
    "#### merRule\n",
    "\n",
    "`merRule` is another similar parameter. It restricts \"rigid\" DA-DA-DA fragments (e.g. terpyridine) to be in meridial conformation:"
   ]
  },
  {
   "cell_type": "code",
   "execution_count": 13,
   "id": "7684dd4b",
   "metadata": {
    "scrolled": false
   },
   "outputs": [
    {
     "data": {
      "image/png": "[encoded data removed]",
      "text/plain": [
       "<PIL.PngImagePlugin.PngImageFile image mode=RGB size=300x300>"
      ]
     },
     "execution_count": 13,
     "metadata": {},
     "output_type": "execute_result"
    }
   ],
   "source": [
    "# get complex\n",
    "ligands = ['[n:1]1ccccc1-c([n:1]1)cccc1-c1cccc[n:1]1', '[Cl-:1]', '[Cl-:1]', '[Cl-:1]']\n",
    "X = mace.ComplexFromLigands(ligands, '[Fe+3]', 'OH')\n",
    "draw_mol(X.mol)"
   ]
  },
  {
   "cell_type": "code",
   "execution_count": 14,
   "id": "9c50ea75",
   "metadata": {
    "scrolled": true
   },
   "outputs": [
    {
     "name": "stdout",
     "output_type": "stream",
     "text": [
      "Number of stereomers with merRule: 1\n",
      "Number of stereomers without merRule: 2\n"
     ]
    }
   ],
   "source": [
    "# check number of stereomers\n",
    "print(f'Number of stereomers with merRule: {len(X.GetStereomers(merRule = True))}')\n",
    "print(f'Number of stereomers without merRule: {len(X.GetStereomers(merRule = False))}')"
   ]
  },
  {
   "cell_type": "markdown",
   "id": "7a0a003b",
   "metadata": {},
   "source": [
    "In most cases merRule nicely filters \"impossible\" stereomers, though experience shows that in some cases it throws out energetically possible structures due to simplicity of the \"rigidity\"-determining algorithm, and its applicability for the systems under study should be analyzed carefully:"
   ]
  },
  {
   "cell_type": "code",
   "execution_count": 15,
   "id": "50fe9ff1",
   "metadata": {
    "scrolled": false,
    "tags": [
     "nbsphinx-thumbnail"
    ]
   },
   "outputs": [
    {
     "data": {
      "image/png": "[encoded data removed]",
      "text/plain": [
       "<PIL.PngImagePlugin.PngImageFile image mode=RGB size=300x300>"
      ]
     },
     "execution_count": 15,
     "metadata": {},
     "output_type": "execute_result"
    }
   ],
   "source": [
    "# check ligand structure\n",
    "smiles = 'CC#CC#C[B-]12O[N:1]=C(Cl)C(Cl)=[N:1]O[BH-](O[N:1]=C(Cl)C(Cl)=[N:1]O1)O[N:1]=C(Cl)C(Cl)=[N:1]O2'\n",
    "draw_mol(Chem.MolFromSmiles(smiles))"
   ]
  },
  {
   "cell_type": "code",
   "execution_count": 16,
   "id": "69f34d2d",
   "metadata": {
    "scrolled": false
   },
   "outputs": [
    {
     "name": "stdout",
     "output_type": "stream",
     "text": [
      "Number of stereomers with merRule: 0\n",
      "Number of stereomers with merRule: 1\n"
     ]
    }
   ],
   "source": [
    "# get stereomers with merRule\n",
    "X = mace.ComplexFromLigands([smiles], '[Fe+2]', 'OH')\n",
    "Xs = X.GetStereomers(merRule = True)\n",
    "print(f'Number of stereomers with merRule: {len(Xs)}')\n",
    "\n",
    "# get stereomers without merRule\n",
    "Xs = X.GetStereomers(regime = 'CA', merRule = False) # \"CA\" to ignore double bonds\n",
    "print(f'Number of stereomers with merRule: {len(Xs)}')"
   ]
  },
  {
   "cell_type": "code",
   "execution_count": 17,
   "id": "d9ffef74",
   "metadata": {
    "scrolled": false
   },
   "outputs": [
    {
     "data": {
      "application/3dmoljs_load.v0": "<div id=\"3dmolviewer_16767463354274611\"  style=\"position: relative; width: 640px; height: 480px\">\n        <p id=\"3dmolwarning_16767463354274611\" style=\"background-color:#ffcccc;color:black\">You appear to be running in JupyterLab (or JavaScript failed to load for some other reason).  You need to install the 3dmol extension: <br>\n        <tt>jupyter labextension install jupyterlab_3dmol</tt></p>\n        </div>\n<script>\n\nvar loadScriptAsync = function(uri){\n  return new Promise((resolve, reject) => {\n    //this is to ignore the existence of requirejs amd\n    var savedexports, savedmodule;\n    if (typeof exports !== 'undefined') savedexports = exports;\n    else exports = {}\n    if (typeof module !== 'undefined') savedmodule = module;\n    else module = {}\n\n    var tag = document.createElement('script');\n    tag.src = uri;\n    tag.async = true;\n    tag.onload = () => {\n        exports = savedexports;\n        module = savedmodule;\n        resolve();\n    };\n  var firstScriptTag = document.getElementsByTagName('script')[0];\n  firstScriptTag.parentNode.insertBefore(tag, firstScriptTag);\n});\n};\n\nif(typeof $3Dmolpromise === 'undefined') {\n$3Dmolpromise = null;\n  $3Dmolpromise = loadScriptAsync('https://cdnjs.cloudflare.com/ajax/libs/3Dmol/2.0.1/3Dmol-min.js');\n}\n\nvar viewer_16767463354274611 = null;\nvar warn = document.getElementById(\"3dmolwarning_16767463354274611\");\nif(warn) {\n    warn.parentNode.removeChild(warn);\n}\n$3Dmolpromise.then(function() {\nviewer_16767463354274611 = $3Dmol.createViewer(document.getElementById(\"3dmolviewer_16767463354274611\"),{backgroundColor:\"white\"});\nviewer_16767463354274611.zoomTo();\n\tviewer_16767463354274611.addModel(\"36\\n{\\\"conf\\\": 0, \\\"E\\\": 122.63, \\\"rms\\\": -1.0, \\\"geom\\\": \\\"OH\\\", \\\"total_charge\\\": 0, \\\"CA_charge\\\": 2, \\\"smiles\\\": \\\"C[C:1]#[C:2][C:3]#[C:4][B-:5]12[O:6][1N:7]3->[Fe+2:8]4567<-[2N:9](=[C:10]([Cl:11])[C:12]=3[Cl:13])[O:14][BH-:15]([O:16][3N:17]->4=[C:18]([Cl:19])[C:20]([Cl:21])=[4N:22]->5[O:23]1)[O:24][6N:25]->6=[C:26]([Cl:27])[C:28]([Cl:29])=[5N:30]->7[O:31]2\\\", \\\"smiles3D\\\": \\\"C([C:1]#[C:2][C:3]#[C:4][B-:5]12[O:6][1N:7]3->[Fe+2:8]4567<-[2N:9](=[C:10]([Cl:11])[C:12]=3[Cl:13])[O:14][B-:15]([H:35])([O:16][3N:17]->4=[C:18]([Cl:19])[C:20]([Cl:21])=[4N:22]->5[O:23]1)[O:24][6N:25]->6=[C:26]([Cl:27])[C:28]([Cl:29])=[5N:30]->7[O:31]2)([H:32])([H:33])[H:34]\\\", \\\"smiles3Dx\\\": \\\"C([C:1]#[C:2][C:3]#[C:4][B-:5]12[O:6][1N:7]3->[Fe+2:8]4567<-[2N:9](=[C:10]([Cl:11])[C:12]=3[Cl:13])[O:14][B-:15]([H:35])([O:16][3N:17]->4=[C:18]([Cl:19])[C:20]([Cl:21])=[4N:22]->5[O:23]1)[O:24][6N:25]->6=[C:26]([Cl:27])[C:28]([Cl:29])=[5N:30]->7[O:31]2)([H:32])([H:33])[H:34]\\\", \\\"dummies\\\": []}\\nC     -2.5602     1.4672    -9.4434\\nC     -2.1815     1.2502    -8.0470\\nC     -1.8696     1.0715    -6.8965\\nC     -1.5043     0.8622    -5.5493\\nC     -1.1925     0.6835    -4.3991\\nB     -0.7933     0.4547    -2.9266\\nO     -2.0428     0.6175    -2.0591\\nN     -1.9377     0.4627    -0.6985\\nFe     0.0000     0.0000     0.0000\\nN     -1.1374    -1.0435     1.4410\\nC     -2.4330    -0.8732     1.2525\\nCl    -3.5920    -1.3472     2.4853\\nC     -2.8692    -0.1276     0.0274\\nCl    -4.5366    -0.1874    -0.5239\\nO     -0.5699    -1.1101     2.6899\\nB      0.7920    -0.4540     2.9217\\nO      0.7160     1.0539     2.6776\\nN      0.3708     1.5099     1.4289\\nC      0.9254     2.5737     0.8777\\nCl     1.6390     3.8343     1.8724\\nC      1.0620     2.5968    -0.6149\\nCl     1.4073     4.0925    -1.4701\\nN      0.7816     1.4890    -1.2762\\nO      0.2639     1.4937    -2.5483\\nO      1.8602    -1.0938     2.0337\\nN      1.7258    -1.0162     0.6691\\nC      2.0474    -2.0099    -0.1386\\nCl     3.2280    -3.2179     0.3460\\nC      1.2659    -2.1589    -1.4091\\nCl     1.8517    -3.1728    -2.7194\\nN      0.1962    -1.4015    -1.5666\\nO     -0.2280    -0.9608    -2.7963\\nH     -2.0585     2.3801    -9.8253\\nH     -2.2490     0.5927   -10.0512\\nH     -3.6602     1.5932    -9.5132\\nH      1.1000    -0.6305     4.0582\\n\",\"xyz\");\n\tviewer_16767463354274611.setStyle({\"stick\": {\"radius\": 0.15}, \"sphere\": {\"scale\": 0.3}});\n\tviewer_16767463354274611.setBackgroundColor(\"white\");\n\tviewer_16767463354274611.zoomTo();\nviewer_16767463354274611.render();\n});\n</script>",
      "text/html": [
       "<div id=\"3dmolviewer_16767463354274611\"  style=\"position: relative; width: 640px; height: 480px\">\n",
       "        <p id=\"3dmolwarning_16767463354274611\" style=\"background-color:#ffcccc;color:black\">You appear to be running in JupyterLab (or JavaScript failed to load for some other reason).  You need to install the 3dmol extension: <br>\n",
       "        <tt>jupyter labextension install jupyterlab_3dmol</tt></p>\n",
       "        </div>\n",
       "<script>\n",
       "\n",
       "var loadScriptAsync = function(uri){\n",
       "  return new Promise((resolve, reject) => {\n",
       "    //this is to ignore the existence of requirejs amd\n",
       "    var savedexports, savedmodule;\n",
       "    if (typeof exports !== 'undefined') savedexports = exports;\n",
       "    else exports = {}\n",
       "    if (typeof module !== 'undefined') savedmodule = module;\n",
       "    else module = {}\n",
       "\n",
       "    var tag = document.createElement('script');\n",
       "    tag.src = uri;\n",
       "    tag.async = true;\n",
       "    tag.onload = () => {\n",
       "        exports = savedexports;\n",
       "        module = savedmodule;\n",
       "        resolve();\n",
       "    };\n",
       "  var firstScriptTag = document.getElementsByTagName('script')[0];\n",
       "  firstScriptTag.parentNode.insertBefore(tag, firstScriptTag);\n",
       "});\n",
       "};\n",
       "\n",
       "if(typeof $3Dmolpromise === 'undefined') {\n",
       "$3Dmolpromise = null;\n",
       "  $3Dmolpromise = loadScriptAsync('https://cdnjs.cloudflare.com/ajax/libs/3Dmol/2.0.1/3Dmol-min.js');\n",
       "}\n",
       "\n",
       "var viewer_16767463354274611 = null;\n",
       "var warn = document.getElementById(\"3dmolwarning_16767463354274611\");\n",
       "if(warn) {\n",
       "    warn.parentNode.removeChild(warn);\n",
       "}\n",
       "$3Dmolpromise.then(function() {\n",
       "viewer_16767463354274611 = $3Dmol.createViewer(document.getElementById(\"3dmolviewer_16767463354274611\"),{backgroundColor:\"white\"});\n",
       "viewer_16767463354274611.zoomTo();\n",
       "\tviewer_16767463354274611.addModel(\"36\\n{\\\"conf\\\": 0, \\\"E\\\": 122.63, \\\"rms\\\": -1.0, \\\"geom\\\": \\\"OH\\\", \\\"total_charge\\\": 0, \\\"CA_charge\\\": 2, \\\"smiles\\\": \\\"C[C:1]#[C:2][C:3]#[C:4][B-:5]12[O:6][1N:7]3->[Fe+2:8]4567<-[2N:9](=[C:10]([Cl:11])[C:12]=3[Cl:13])[O:14][BH-:15]([O:16][3N:17]->4=[C:18]([Cl:19])[C:20]([Cl:21])=[4N:22]->5[O:23]1)[O:24][6N:25]->6=[C:26]([Cl:27])[C:28]([Cl:29])=[5N:30]->7[O:31]2\\\", \\\"smiles3D\\\": \\\"C([C:1]#[C:2][C:3]#[C:4][B-:5]12[O:6][1N:7]3->[Fe+2:8]4567<-[2N:9](=[C:10]([Cl:11])[C:12]=3[Cl:13])[O:14][B-:15]([H:35])([O:16][3N:17]->4=[C:18]([Cl:19])[C:20]([Cl:21])=[4N:22]->5[O:23]1)[O:24][6N:25]->6=[C:26]([Cl:27])[C:28]([Cl:29])=[5N:30]->7[O:31]2)([H:32])([H:33])[H:34]\\\", \\\"smiles3Dx\\\": \\\"C([C:1]#[C:2][C:3]#[C:4][B-:5]12[O:6][1N:7]3->[Fe+2:8]4567<-[2N:9](=[C:10]([Cl:11])[C:12]=3[Cl:13])[O:14][B-:15]([H:35])([O:16][3N:17]->4=[C:18]([Cl:19])[C:20]([Cl:21])=[4N:22]->5[O:23]1)[O:24][6N:25]->6=[C:26]([Cl:27])[C:28]([Cl:29])=[5N:30]->7[O:31]2)([H:32])([H:33])[H:34]\\\", \\\"dummies\\\": []}\\nC     -2.5602     1.4672    -9.4434\\nC     -2.1815     1.2502    -8.0470\\nC     -1.8696     1.0715    -6.8965\\nC     -1.5043     0.8622    -5.5493\\nC     -1.1925     0.6835    -4.3991\\nB     -0.7933     0.4547    -2.9266\\nO     -2.0428     0.6175    -2.0591\\nN     -1.9377     0.4627    -0.6985\\nFe     0.0000     0.0000     0.0000\\nN     -1.1374    -1.0435     1.4410\\nC     -2.4330    -0.8732     1.2525\\nCl    -3.5920    -1.3472     2.4853\\nC     -2.8692    -0.1276     0.0274\\nCl    -4.5366    -0.1874    -0.5239\\nO     -0.5699    -1.1101     2.6899\\nB      0.7920    -0.4540     2.9217\\nO      0.7160     1.0539     2.6776\\nN      0.3708     1.5099     1.4289\\nC      0.9254     2.5737     0.8777\\nCl     1.6390     3.8343     1.8724\\nC      1.0620     2.5968    -0.6149\\nCl     1.4073     4.0925    -1.4701\\nN      0.7816     1.4890    -1.2762\\nO      0.2639     1.4937    -2.5483\\nO      1.8602    -1.0938     2.0337\\nN      1.7258    -1.0162     0.6691\\nC      2.0474    -2.0099    -0.1386\\nCl     3.2280    -3.2179     0.3460\\nC      1.2659    -2.1589    -1.4091\\nCl     1.8517    -3.1728    -2.7194\\nN      0.1962    -1.4015    -1.5666\\nO     -0.2280    -0.9608    -2.7963\\nH     -2.0585     2.3801    -9.8253\\nH     -2.2490     0.5927   -10.0512\\nH     -3.6602     1.5932    -9.5132\\nH      1.1000    -0.6305     4.0582\\n\",\"xyz\");\n",
       "\tviewer_16767463354274611.setStyle({\"stick\": {\"radius\": 0.15}, \"sphere\": {\"scale\": 0.3}});\n",
       "\tviewer_16767463354274611.setBackgroundColor(\"white\");\n",
       "\tviewer_16767463354274611.zoomTo();\n",
       "viewer_16767463354274611.render();\n",
       "});\n",
       "</script>"
      ]
     },
     "metadata": {},
     "output_type": "display_data"
    }
   ],
   "source": [
    "# get 3D and view\n",
    "X = Xs[0]\n",
    "X.AddConformer()\n",
    "view_complex(X)"
   ]
  },
  {
   "cell_type": "markdown",
   "id": "9cdaed0e",
   "metadata": {},
   "source": [
    "Please note, that we also used the `CA` regime here to ignore stereochemistry of double bonds, which is considered by the `all` regime. <span style=\"color: #EAECEE\">And this complex is how the author of mace sees the EPIC MACE, if you were wandering.</span>"
   ]
  }
 ],
 "metadata": {
  "kernelspec": {
   "display_name": "Python 3 (ipykernel)",
   "language": "python",
   "name": "python3"
  },
  "language_info": {
   "codemirror_mode": {
    "name": "ipython",
    "version": 3
   },
   "file_extension": ".py",
   "mimetype": "text/x-python",
   "name": "python",
   "nbconvert_exporter": "python",
   "pygments_lexer": "ipython3",
   "version": "3.7.12"
  }
 },
 "nbformat": 4,
 "nbformat_minor": 5
}
