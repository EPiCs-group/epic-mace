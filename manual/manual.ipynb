{
 "cells": [
  {
   "cell_type": "markdown",
   "id": "7cd6315d",
   "metadata": {},
   "source": [
    "# MACE manual\n",
    "\n",
    "Intro. Main features.\n",
    "\n",
    "\n",
    "## Single complex\n",
    "\n",
    "Complex object. How to generate SMILES (ChemAxon Marvin).\n",
    "\n",
    "Add substituents.\n",
    "\n",
    "Embedding.\n",
    "\n",
    "Save/load XYZ.\n",
    "\n",
    "\n",
    "## Stereomers generation\n",
    "\n",
    "Input description. Regimes (all/DA fixed). Filtering \"impossible\" complexes.\n",
    "\n",
    "\n",
    "## Ligands to stereomers\n",
    "\n",
    "Input. Output example.\n",
    "\n",
    "\n",
    "## Constrained embedding\n",
    "\n",
    "Example\n",
    "\n",
    "\n",
    "## Prepare ligands for MolSimplify\n",
    "\n",
    "Example.\n",
    "\n"
   ]
  }
 ],
 "metadata": {
  "kernelspec": {
   "display_name": "Python 3 (ipykernel)",
   "language": "python",
   "name": "python3"
  },
  "language_info": {
   "codemirror_mode": {
    "name": "ipython",
    "version": 3
   },
   "file_extension": ".py",
   "mimetype": "text/x-python",
   "name": "python",
   "nbconvert_exporter": "python",
   "pygments_lexer": "ipython3",
   "version": "3.8.10"
  }
 },
 "nbformat": 4,
 "nbformat_minor": 5
}
