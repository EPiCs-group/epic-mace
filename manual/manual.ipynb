{
 "cells": [
  {
   "cell_type": "markdown",
   "id": "7cd6315d",
   "metadata": {},
   "source": [
    "# MACE manual\n",
    "\n",
    "Intro. Main features.\n"
   ]
  },
  {
   "cell_type": "code",
   "execution_count": 13,
   "id": "c6f269bf",
   "metadata": {},
   "outputs": [],
   "source": [
    "import mace, py3Dmol\n",
    "\n",
    "def view_complex(X, confId = 0):\n",
    "    '''Shows molecule corresponding to the SMILES'''\n",
    "    view = py3Dmol.view()\n",
    "    view.addModel(X.ToXYZBlock(confId = confId), 'xyz')\n",
    "    view.setStyle({'stick': {'radius': 0.15}, 'sphere': {'scale': 0.3}})\n",
    "    view.setBackgroundColor('white')\n",
    "    view.zoomTo()\n",
    "    \n",
    "    return view"
   ]
  },
  {
   "cell_type": "markdown",
   "id": "97f1dd5d",
   "metadata": {},
   "source": [
    "## Single complex\n",
    "\n",
    "How to get SMILES, how to generate 3D, how to manage conformers, how to save/load."
   ]
  },
  {
   "cell_type": "markdown",
   "id": "0bb75a73",
   "metadata": {},
   "source": [
    "### SMILES\n",
    "\n",
    "Complex is generated from SMILES. Formal requirements.\n",
    "\n",
    "First way - manually using rdkit notion.\n",
    "\n",
    "Second way - ChemAxon Marvin."
   ]
  },
  {
   "cell_type": "markdown",
   "id": "0bb0fa4b",
   "metadata": {},
   "source": [
    "### Initialize Complex\n",
    "\n",
    "Two ways: from complex and from ligands. Main parameters."
   ]
  },
  {
   "cell_type": "code",
   "execution_count": 14,
   "id": "98305e98",
   "metadata": {},
   "outputs": [
    {
     "data": {
      "application/3dmoljs_load.v0": "<div id=\"3dmolviewer_16760281714840832\"  style=\"position: relative; width: 640px; height: 480px\">\n        <p id=\"3dmolwarning_16760281714840832\" style=\"background-color:#ffcccc;color:black\">You appear to be running in JupyterLab (or JavaScript failed to load for some other reason).  You need to install the 3dmol extension: <br>\n        <tt>jupyter labextension install jupyterlab_3dmol</tt></p>\n        </div>\n<script>\n\nvar loadScriptAsync = function(uri){\n  return new Promise((resolve, reject) => {\n    //this is to ignore the existence of requirejs amd\n    var savedexports, savedmodule;\n    if (typeof exports !== 'undefined') savedexports = exports;\n    else exports = {}\n    if (typeof module !== 'undefined') savedmodule = module;\n    else module = {}\n\n    var tag = document.createElement('script');\n    tag.src = uri;\n    tag.async = true;\n    tag.onload = () => {\n        exports = savedexports;\n        module = savedmodule;\n        resolve();\n    };\n  var firstScriptTag = document.getElementsByTagName('script')[0];\n  firstScriptTag.parentNode.insertBefore(tag, firstScriptTag);\n});\n};\n\nif(typeof $3Dmolpromise === 'undefined') {\n$3Dmolpromise = null;\n  $3Dmolpromise = loadScriptAsync('https://cdnjs.cloudflare.com/ajax/libs/3Dmol/2.0.1/3Dmol-min.min.js');\n}\n\nvar viewer_16760281714840832 = null;\nvar warn = document.getElementById(\"3dmolwarning_16760281714840832\");\nif(warn) {\n    warn.parentNode.removeChild(warn);\n}\n$3Dmolpromise.then(function() {\nviewer_16760281714840832 = $3Dmol.createViewer(document.getElementById(\"3dmolviewer_16760281714840832\"),{backgroundColor:\"white\"});\nviewer_16760281714840832.zoomTo();\n\tviewer_16760281714840832.addModel(\"25\\n{\\\"conf\\\": 0, \\\"E\\\": 66.15, \\\"rms\\\": -1.0, \\\"geom\\\": \\\"SP\\\", \\\"total_charge\\\": 0, \\\"CA_charge\\\": 2, \\\"smiles\\\": \\\"c1[cH:1][cH:2][cH:3][cH:4][1n:5]1->[Pd+2:6](<-[3n:7]1[cH:8][cH:9][cH:10][cH:11][cH:12]1)(<-[2Cl-:13])<-[4Cl-:14]\\\", \\\"smiles3D\\\": \\\"c1([H:15])[c:1]([H:16])[c:2]([H:17])[c:3]([H:18])[c:4]([H:19])[1n:5]1->[Pd+2:6](<-[3n:7]1[c:8]([H:20])[c:9]([H:21])[c:10]([H:22])[c:11]([H:23])[c:12]1[H:24])(<-[2Cl-:13])<-[4Cl-:14]\\\", \\\"smiles3Dx\\\": \\\"c1([H:15])[c:1]([H:16])[c:2]([H:17])[c:3]([H:18])[c:4]([H:19])[1n:5]1->[Pd+2:6](<-[3n:7]1[c:8]([H:20])[c:9]([H:21])[c:10]([H:22])[c:11]([H:23])[c:12]1[H:24])(<-[2Cl-:13])(<-[4Cl-:14])(<-[*:25])<-[*:26]\\\", \\\"dummies\\\": [-0.029367364973545307, -0.6350546506128751, -1.7621629693723952, 0.029366424296102478, 0.6350590341849781, 1.7621627344434243]}\\nC     -2.6791    -0.9895    -0.8593\\nC     -4.0378    -1.2966    -0.7481\\nC     -4.7003    -1.0381     0.4524\\nC     -4.0000    -0.4786     1.5218\\nC     -2.6419    -0.1856     1.3715\\nN     -2.0109    -0.4441     0.1936\\nPd     0.0000     0.0000     0.0000\\nN      2.0109     0.4441    -0.1936\\nC      2.6791     0.9895     0.8593\\nC      4.0378     1.2966     0.7481\\nC      4.7003     1.0381    -0.4525\\nC      4.0000     0.4786    -1.5218\\nC      2.6419     0.1856    -1.3715\\nCl    -0.5561     2.1796    -0.7762\\nCl     0.5561    -2.1796     0.7762\\nH     -2.1552    -1.1856    -1.7853\\nH     -4.5706    -1.7303    -1.5843\\nH     -5.7526    -1.2705     0.5537\\nH     -4.5032    -0.2737     2.4578\\nH     -2.0889     0.2483     2.1938\\nH      2.1552     1.1857     1.7852\\nH      4.5706     1.7304     1.5843\\nH      5.7526     1.2705    -0.5537\\nH      4.5033     0.2737    -2.4578\\nH      2.0889    -0.2483    -2.1938\\n\",\"xyz\");\n\tviewer_16760281714840832.setStyle({\"stick\": {\"radius\": 0.15}, \"sphere\": {\"scale\": 0.3}});\n\tviewer_16760281714840832.setBackgroundColor(\"white\");\n\tviewer_16760281714840832.zoomTo();\nviewer_16760281714840832.render();\n});\n</script>",
      "text/html": [
       "<div id=\"3dmolviewer_16760281714840832\"  style=\"position: relative; width: 640px; height: 480px\">\n",
       "        <p id=\"3dmolwarning_16760281714840832\" style=\"background-color:#ffcccc;color:black\">You appear to be running in JupyterLab (or JavaScript failed to load for some other reason).  You need to install the 3dmol extension: <br>\n",
       "        <tt>jupyter labextension install jupyterlab_3dmol</tt></p>\n",
       "        </div>\n",
       "<script>\n",
       "\n",
       "var loadScriptAsync = function(uri){\n",
       "  return new Promise((resolve, reject) => {\n",
       "    //this is to ignore the existence of requirejs amd\n",
       "    var savedexports, savedmodule;\n",
       "    if (typeof exports !== 'undefined') savedexports = exports;\n",
       "    else exports = {}\n",
       "    if (typeof module !== 'undefined') savedmodule = module;\n",
       "    else module = {}\n",
       "\n",
       "    var tag = document.createElement('script');\n",
       "    tag.src = uri;\n",
       "    tag.async = true;\n",
       "    tag.onload = () => {\n",
       "        exports = savedexports;\n",
       "        module = savedmodule;\n",
       "        resolve();\n",
       "    };\n",
       "  var firstScriptTag = document.getElementsByTagName('script')[0];\n",
       "  firstScriptTag.parentNode.insertBefore(tag, firstScriptTag);\n",
       "});\n",
       "};\n",
       "\n",
       "if(typeof $3Dmolpromise === 'undefined') {\n",
       "$3Dmolpromise = null;\n",
       "  $3Dmolpromise = loadScriptAsync('https://cdnjs.cloudflare.com/ajax/libs/3Dmol/2.0.1/3Dmol-min.min.js');\n",
       "}\n",
       "\n",
       "var viewer_16760281714840832 = null;\n",
       "var warn = document.getElementById(\"3dmolwarning_16760281714840832\");\n",
       "if(warn) {\n",
       "    warn.parentNode.removeChild(warn);\n",
       "}\n",
       "$3Dmolpromise.then(function() {\n",
       "viewer_16760281714840832 = $3Dmol.createViewer(document.getElementById(\"3dmolviewer_16760281714840832\"),{backgroundColor:\"white\"});\n",
       "viewer_16760281714840832.zoomTo();\n",
       "\tviewer_16760281714840832.addModel(\"25\\n{\\\"conf\\\": 0, \\\"E\\\": 66.15, \\\"rms\\\": -1.0, \\\"geom\\\": \\\"SP\\\", \\\"total_charge\\\": 0, \\\"CA_charge\\\": 2, \\\"smiles\\\": \\\"c1[cH:1][cH:2][cH:3][cH:4][1n:5]1->[Pd+2:6](<-[3n:7]1[cH:8][cH:9][cH:10][cH:11][cH:12]1)(<-[2Cl-:13])<-[4Cl-:14]\\\", \\\"smiles3D\\\": \\\"c1([H:15])[c:1]([H:16])[c:2]([H:17])[c:3]([H:18])[c:4]([H:19])[1n:5]1->[Pd+2:6](<-[3n:7]1[c:8]([H:20])[c:9]([H:21])[c:10]([H:22])[c:11]([H:23])[c:12]1[H:24])(<-[2Cl-:13])<-[4Cl-:14]\\\", \\\"smiles3Dx\\\": \\\"c1([H:15])[c:1]([H:16])[c:2]([H:17])[c:3]([H:18])[c:4]([H:19])[1n:5]1->[Pd+2:6](<-[3n:7]1[c:8]([H:20])[c:9]([H:21])[c:10]([H:22])[c:11]([H:23])[c:12]1[H:24])(<-[2Cl-:13])(<-[4Cl-:14])(<-[*:25])<-[*:26]\\\", \\\"dummies\\\": [-0.029367364973545307, -0.6350546506128751, -1.7621629693723952, 0.029366424296102478, 0.6350590341849781, 1.7621627344434243]}\\nC     -2.6791    -0.9895    -0.8593\\nC     -4.0378    -1.2966    -0.7481\\nC     -4.7003    -1.0381     0.4524\\nC     -4.0000    -0.4786     1.5218\\nC     -2.6419    -0.1856     1.3715\\nN     -2.0109    -0.4441     0.1936\\nPd     0.0000     0.0000     0.0000\\nN      2.0109     0.4441    -0.1936\\nC      2.6791     0.9895     0.8593\\nC      4.0378     1.2966     0.7481\\nC      4.7003     1.0381    -0.4525\\nC      4.0000     0.4786    -1.5218\\nC      2.6419     0.1856    -1.3715\\nCl    -0.5561     2.1796    -0.7762\\nCl     0.5561    -2.1796     0.7762\\nH     -2.1552    -1.1856    -1.7853\\nH     -4.5706    -1.7303    -1.5843\\nH     -5.7526    -1.2705     0.5537\\nH     -4.5032    -0.2737     2.4578\\nH     -2.0889     0.2483     2.1938\\nH      2.1552     1.1857     1.7852\\nH      4.5706     1.7304     1.5843\\nH      5.7526     1.2705    -0.5537\\nH      4.5033     0.2737    -2.4578\\nH      2.0889    -0.2483    -2.1938\\n\",\"xyz\");\n",
       "\tviewer_16760281714840832.setStyle({\"stick\": {\"radius\": 0.15}, \"sphere\": {\"scale\": 0.3}});\n",
       "\tviewer_16760281714840832.setBackgroundColor(\"white\");\n",
       "\tviewer_16760281714840832.zoomTo();\n",
       "viewer_16760281714840832.render();\n",
       "});\n",
       "</script>"
      ]
     },
     "metadata": {},
     "output_type": "display_data"
    },
    {
     "data": {
      "text/plain": [
       "<py3Dmol.view at 0x1d29771de20>"
      ]
     },
     "execution_count": 14,
     "metadata": {},
     "output_type": "execute_result"
    }
   ],
   "source": [
    "X = mace.Complex('c1cccc[n:1]1->[Pd+2](<-[n:3]1ccccc1)(<-[Cl-:2])(<-[Cl-:4])', 'SP')\n",
    "X.AddConformer()\n",
    "view_complex(X)"
   ]
  },
  {
   "cell_type": "markdown",
   "id": "790d4bed",
   "metadata": {},
   "source": [
    "### Embedding\n",
    "\n",
    "Main parameters."
   ]
  },
  {
   "cell_type": "code",
   "execution_count": null,
   "id": "8c21007e",
   "metadata": {},
   "outputs": [],
   "source": []
  },
  {
   "cell_type": "markdown",
   "id": "314da4e7",
   "metadata": {},
   "source": [
    "### Save/Load"
   ]
  },
  {
   "cell_type": "code",
   "execution_count": null,
   "id": "3aa5035c",
   "metadata": {},
   "outputs": [],
   "source": []
  },
  {
   "cell_type": "markdown",
   "id": "47f55058",
   "metadata": {},
   "source": [
    "## Stereomers generation\n",
    "\n",
    "Input description"
   ]
  },
  {
   "cell_type": "code",
   "execution_count": null,
   "id": "633e70e4",
   "metadata": {},
   "outputs": [],
   "source": []
  },
  {
   "cell_type": "markdown",
   "id": "f60455ca",
   "metadata": {},
   "source": [
    "### Stereochemistry control\n",
    "\n",
    "Regimes (all/DA fixed)"
   ]
  },
  {
   "cell_type": "code",
   "execution_count": null,
   "id": "aa504f4f",
   "metadata": {},
   "outputs": [],
   "source": []
  },
  {
   "cell_type": "markdown",
   "id": "d693f791",
   "metadata": {},
   "source": [
    "### Rule-based filtering\n",
    "\n",
    "Filtering \"impossible\" complexes (merRule, maxCycle)"
   ]
  },
  {
   "cell_type": "code",
   "execution_count": null,
   "id": "6c8e5227",
   "metadata": {},
   "outputs": [],
   "source": []
  },
  {
   "cell_type": "markdown",
   "id": "535e66ef",
   "metadata": {},
   "source": [
    "### Ligands to stereomers\n",
    "\n",
    "General ideas of the 3D generation pipeline."
   ]
  },
  {
   "cell_type": "markdown",
   "id": "ea3c6495",
   "metadata": {},
   "source": [
    "## Special features\n",
    "\n",
    "Not the main idea of the package."
   ]
  },
  {
   "cell_type": "markdown",
   "id": "a7d4be60",
   "metadata": {},
   "source": [
    "## Adding substituents\n",
    "\n",
    "Add substituents"
   ]
  },
  {
   "cell_type": "code",
   "execution_count": null,
   "id": "6d9bcf0a",
   "metadata": {},
   "outputs": [],
   "source": []
  },
  {
   "cell_type": "markdown",
   "id": "8c76372f",
   "metadata": {},
   "source": [
    "## Constrained embedding\n",
    "\n",
    "Good with adding substituents"
   ]
  },
  {
   "cell_type": "code",
   "execution_count": null,
   "id": "5e9e367b",
   "metadata": {},
   "outputs": [],
   "source": []
  },
  {
   "cell_type": "markdown",
   "id": "f37673b6",
   "metadata": {},
   "source": [
    "## Prepare ligands for MolSimplify\n",
    "\n",
    "General idea. MolSimplify is not good with authomatical generation of geometry for tri- and more dentate ligands. Here we are.\n",
    "\n",
    "Example."
   ]
  },
  {
   "cell_type": "code",
   "execution_count": null,
   "id": "9b3851c6",
   "metadata": {},
   "outputs": [],
   "source": [
    "\n",
    "\n",
    "\n",
    "\n",
    "\n",
    "\n",
    "\n",
    "\n"
   ]
  }
 ],
 "metadata": {
  "kernelspec": {
   "display_name": "Python 3 (ipykernel)",
   "language": "python",
   "name": "python3"
  },
  "language_info": {
   "codemirror_mode": {
    "name": "ipython",
    "version": 3
   },
   "file_extension": ".py",
   "mimetype": "text/x-python",
   "name": "python",
   "nbconvert_exporter": "python",
   "pygments_lexer": "ipython3",
   "version": "3.9.7"
  }
 },
 "nbformat": 4,
 "nbformat_minor": 5
}
