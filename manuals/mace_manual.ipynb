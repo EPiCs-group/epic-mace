{
 "cells": [
  {
   "cell_type": "markdown",
   "id": "7cd6315d",
   "metadata": {},
   "source": [
    "# MACE manual\n",
    "\n",
    "Intro. Main features.\n"
   ]
  },
  {
   "cell_type": "code",
   "execution_count": 1,
   "id": "c6f269bf",
   "metadata": {},
   "outputs": [],
   "source": []
  },
  {
   "cell_type": "markdown",
   "id": "97f1dd5d",
   "metadata": {},
   "source": [
    "## Single complex\n",
    "\n",
    "How to get SMILES, how to generate 3D, how to manage conformers, how to save/load."
   ]
  },
  {
   "cell_type": "markdown",
   "id": "0bb75a73",
   "metadata": {},
   "source": [
    "### SMILES\n",
    "\n",
    "Complex is generated from SMILES. Formal requirements.\n",
    "\n",
    "First way - manually using rdkit notion.\n",
    "\n",
    "Second way - ChemAxon Marvin."
   ]
  },
  {
   "cell_type": "markdown",
   "id": "0bb0fa4b",
   "metadata": {},
   "source": [
    "### Initialize Complex\n",
    "\n",
    "Two ways: from complex and from ligands. Main parameters."
   ]
  },
  {
   "cell_type": "code",
   "execution_count": 2,
   "id": "98305e98",
   "metadata": {},
   "outputs": [
    {
     "data": {
      "application/3dmoljs_load.v0": "<div id=\"3dmolviewer_16763019312722569\"  style=\"position: relative; width: 640px; height: 480px\">\n        <p id=\"3dmolwarning_16763019312722569\" style=\"background-color:#ffcccc;color:black\">You appear to be running in JupyterLab (or JavaScript failed to load for some other reason).  You need to install the 3dmol extension: <br>\n        <tt>jupyter labextension install jupyterlab_3dmol</tt></p>\n        </div>\n<script>\n\nvar loadScriptAsync = function(uri){\n  return new Promise((resolve, reject) => {\n    //this is to ignore the existence of requirejs amd\n    var savedexports, savedmodule;\n    if (typeof exports !== 'undefined') savedexports = exports;\n    else exports = {}\n    if (typeof module !== 'undefined') savedmodule = module;\n    else module = {}\n\n    var tag = document.createElement('script');\n    tag.src = uri;\n    tag.async = true;\n    tag.onload = () => {\n        exports = savedexports;\n        module = savedmodule;\n        resolve();\n    };\n  var firstScriptTag = document.getElementsByTagName('script')[0];\n  firstScriptTag.parentNode.insertBefore(tag, firstScriptTag);\n});\n};\n\nif(typeof $3Dmolpromise === 'undefined') {\n$3Dmolpromise = null;\n  $3Dmolpromise = loadScriptAsync('https://cdnjs.cloudflare.com/ajax/libs/3Dmol/2.0.1/3Dmol-min.js');\n}\n\nvar viewer_16763019312722569 = null;\nvar warn = document.getElementById(\"3dmolwarning_16763019312722569\");\nif(warn) {\n    warn.parentNode.removeChild(warn);\n}\n$3Dmolpromise.then(function() {\nviewer_16763019312722569 = $3Dmol.createViewer(document.getElementById(\"3dmolviewer_16763019312722569\"),{backgroundColor:\"white\"});\nviewer_16763019312722569.zoomTo();\n\tviewer_16763019312722569.addModel(\"25\\n{\\\"conf\\\": 0, \\\"E\\\": 67.72, \\\"rms\\\": -1.0, \\\"geom\\\": \\\"SP\\\", \\\"total_charge\\\": 0, \\\"CA_charge\\\": 2, \\\"smiles\\\": \\\"c1[cH:1][cH:2][cH:3][cH:4][1n:5]1->[Pd+2:6](<-[3n:7]1[cH:8][cH:9][cH:10][cH:11][cH:12]1)(<-[2Cl-:13])<-[4Cl-:14]\\\", \\\"smiles3D\\\": \\\"c1([H:15])[c:1]([H:16])[c:2]([H:17])[c:3]([H:18])[c:4]([H:19])[1n:5]1->[Pd+2:6](<-[3n:7]1[c:8]([H:20])[c:9]([H:21])[c:10]([H:22])[c:11]([H:23])[c:12]1[H:24])(<-[2Cl-:13])<-[4Cl-:14]\\\", \\\"smiles3Dx\\\": \\\"c1([H:15])[c:1]([H:16])[c:2]([H:17])[c:3]([H:18])[c:4]([H:19])[1n:5]1->[Pd+2:6](<-[3n:7]1[c:8]([H:20])[c:9]([H:21])[c:10]([H:22])[c:11]([H:23])[c:12]1[H:24])(<-[2Cl-:13])(<-[4Cl-:14])(<-[*:25])<-[*:26]\\\", \\\"dummies\\\": [-0.041060436139367246, -1.2860424739633718, -1.3615383093645073, 0.041060436156164754, 1.2860424751647905, 1.3615383106043848]}\\nC     -2.7608    -1.0002    -0.6040\\nC     -4.1493    -1.0946    -0.4730\\nC     -4.8217    -0.3278     0.4550\\nC     -4.0973     0.5340     1.2512\\nC     -2.7088     0.6284     1.1202\\nN     -2.0546    -0.1397     0.1939\\nPd     0.0000     0.0000     0.0000\\nN      2.0546     0.1397    -0.1939\\nC      2.7608     1.0002     0.6040\\nC      4.1493     1.0946     0.4730\\nC      4.8217     0.3278    -0.4550\\nC      4.0973    -0.5340    -1.2512\\nC      2.7088    -0.6284    -1.1202\\nCl    -0.2699     1.7228    -1.6191\\nCl     0.2699    -1.7228     1.6191\\nH     -2.2440    -1.6068    -1.3356\\nH     -4.7019    -1.7765    -1.1064\\nH     -5.8969    -0.4009     0.5565\\nH     -4.6087     1.1436     1.9851\\nH     -2.1510     1.3080     1.7504\\nH      2.2440     1.6068     1.3356\\nH      4.7019     1.7765     1.1064\\nH      5.8969     0.4009    -0.5565\\nH      4.6087    -1.1436    -1.9851\\nH      2.1510    -1.3080    -1.7504\\n\",\"xyz\");\n\tviewer_16763019312722569.setStyle({\"stick\": {\"radius\": 0.15}, \"sphere\": {\"scale\": 0.3}});\n\tviewer_16763019312722569.setBackgroundColor(\"white\");\n\tviewer_16763019312722569.zoomTo();\nviewer_16763019312722569.render();\n});\n</script>",
      "text/html": [
       "<div id=\"3dmolviewer_16763019312722569\"  style=\"position: relative; width: 640px; height: 480px\">\n",
       "        <p id=\"3dmolwarning_16763019312722569\" style=\"background-color:#ffcccc;color:black\">You appear to be running in JupyterLab (or JavaScript failed to load for some other reason).  You need to install the 3dmol extension: <br>\n",
       "        <tt>jupyter labextension install jupyterlab_3dmol</tt></p>\n",
       "        </div>\n",
       "<script>\n",
       "\n",
       "var loadScriptAsync = function(uri){\n",
       "  return new Promise((resolve, reject) => {\n",
       "    //this is to ignore the existence of requirejs amd\n",
       "    var savedexports, savedmodule;\n",
       "    if (typeof exports !== 'undefined') savedexports = exports;\n",
       "    else exports = {}\n",
       "    if (typeof module !== 'undefined') savedmodule = module;\n",
       "    else module = {}\n",
       "\n",
       "    var tag = document.createElement('script');\n",
       "    tag.src = uri;\n",
       "    tag.async = true;\n",
       "    tag.onload = () => {\n",
       "        exports = savedexports;\n",
       "        module = savedmodule;\n",
       "        resolve();\n",
       "    };\n",
       "  var firstScriptTag = document.getElementsByTagName('script')[0];\n",
       "  firstScriptTag.parentNode.insertBefore(tag, firstScriptTag);\n",
       "});\n",
       "};\n",
       "\n",
       "if(typeof $3Dmolpromise === 'undefined') {\n",
       "$3Dmolpromise = null;\n",
       "  $3Dmolpromise = loadScriptAsync('https://cdnjs.cloudflare.com/ajax/libs/3Dmol/2.0.1/3Dmol-min.js');\n",
       "}\n",
       "\n",
       "var viewer_16763019312722569 = null;\n",
       "var warn = document.getElementById(\"3dmolwarning_16763019312722569\");\n",
       "if(warn) {\n",
       "    warn.parentNode.removeChild(warn);\n",
       "}\n",
       "$3Dmolpromise.then(function() {\n",
       "viewer_16763019312722569 = $3Dmol.createViewer(document.getElementById(\"3dmolviewer_16763019312722569\"),{backgroundColor:\"white\"});\n",
       "viewer_16763019312722569.zoomTo();\n",
       "\tviewer_16763019312722569.addModel(\"25\\n{\\\"conf\\\": 0, \\\"E\\\": 67.72, \\\"rms\\\": -1.0, \\\"geom\\\": \\\"SP\\\", \\\"total_charge\\\": 0, \\\"CA_charge\\\": 2, \\\"smiles\\\": \\\"c1[cH:1][cH:2][cH:3][cH:4][1n:5]1->[Pd+2:6](<-[3n:7]1[cH:8][cH:9][cH:10][cH:11][cH:12]1)(<-[2Cl-:13])<-[4Cl-:14]\\\", \\\"smiles3D\\\": \\\"c1([H:15])[c:1]([H:16])[c:2]([H:17])[c:3]([H:18])[c:4]([H:19])[1n:5]1->[Pd+2:6](<-[3n:7]1[c:8]([H:20])[c:9]([H:21])[c:10]([H:22])[c:11]([H:23])[c:12]1[H:24])(<-[2Cl-:13])<-[4Cl-:14]\\\", \\\"smiles3Dx\\\": \\\"c1([H:15])[c:1]([H:16])[c:2]([H:17])[c:3]([H:18])[c:4]([H:19])[1n:5]1->[Pd+2:6](<-[3n:7]1[c:8]([H:20])[c:9]([H:21])[c:10]([H:22])[c:11]([H:23])[c:12]1[H:24])(<-[2Cl-:13])(<-[4Cl-:14])(<-[*:25])<-[*:26]\\\", \\\"dummies\\\": [-0.041060436139367246, -1.2860424739633718, -1.3615383093645073, 0.041060436156164754, 1.2860424751647905, 1.3615383106043848]}\\nC     -2.7608    -1.0002    -0.6040\\nC     -4.1493    -1.0946    -0.4730\\nC     -4.8217    -0.3278     0.4550\\nC     -4.0973     0.5340     1.2512\\nC     -2.7088     0.6284     1.1202\\nN     -2.0546    -0.1397     0.1939\\nPd     0.0000     0.0000     0.0000\\nN      2.0546     0.1397    -0.1939\\nC      2.7608     1.0002     0.6040\\nC      4.1493     1.0946     0.4730\\nC      4.8217     0.3278    -0.4550\\nC      4.0973    -0.5340    -1.2512\\nC      2.7088    -0.6284    -1.1202\\nCl    -0.2699     1.7228    -1.6191\\nCl     0.2699    -1.7228     1.6191\\nH     -2.2440    -1.6068    -1.3356\\nH     -4.7019    -1.7765    -1.1064\\nH     -5.8969    -0.4009     0.5565\\nH     -4.6087     1.1436     1.9851\\nH     -2.1510     1.3080     1.7504\\nH      2.2440     1.6068     1.3356\\nH      4.7019     1.7765     1.1064\\nH      5.8969     0.4009    -0.5565\\nH      4.6087    -1.1436    -1.9851\\nH      2.1510    -1.3080    -1.7504\\n\",\"xyz\");\n",
       "\tviewer_16763019312722569.setStyle({\"stick\": {\"radius\": 0.15}, \"sphere\": {\"scale\": 0.3}});\n",
       "\tviewer_16763019312722569.setBackgroundColor(\"white\");\n",
       "\tviewer_16763019312722569.zoomTo();\n",
       "viewer_16763019312722569.render();\n",
       "});\n",
       "</script>"
      ]
     },
     "metadata": {},
     "output_type": "display_data"
    },
    {
     "data": {
      "text/plain": [
       "<py3Dmol.view at 0x170dd94fd60>"
      ]
     },
     "execution_count": 2,
     "metadata": {},
     "output_type": "execute_result"
    }
   ],
   "source": []
  },
  {
   "cell_type": "markdown",
   "id": "790d4bed",
   "metadata": {},
   "source": [
    "### Embedding\n",
    "\n",
    "Main parameters."
   ]
  },
  {
   "cell_type": "code",
   "execution_count": null,
   "id": "8c21007e",
   "metadata": {},
   "outputs": [],
   "source": [
    "import mace, py3Dmol\n",
    "\n",
    "def view_complex(X, confId = 0):\n",
    "    '''Shows molecule corresponding to the SMILES'''\n",
    "    view = py3Dmol.view()\n",
    "    view.addModel(X.ToXYZBlock(confId = confId), 'xyz')\n",
    "    view.setStyle({'stick': {'radius': 0.15}, 'sphere': {'scale': 0.3}})\n",
    "    view.setBackgroundColor('white')\n",
    "    view.zoomTo()\n",
    "    \n",
    "    return view\n",
    "\n",
    "X = mace.Complex('c1cccc[n:1]1->[Pd+2](<-[n:3]1ccccc1)(<-[Cl-:2])(<-[Cl-:4])', 'SP')\n",
    "X.AddConformer()\n",
    "view_complex(X)"
   ]
  },
  {
   "cell_type": "markdown",
   "id": "314da4e7",
   "metadata": {},
   "source": [
    "### Save/Load"
   ]
  },
  {
   "cell_type": "code",
   "execution_count": null,
   "id": "3aa5035c",
   "metadata": {},
   "outputs": [],
   "source": []
  },
  {
   "cell_type": "markdown",
   "id": "47f55058",
   "metadata": {},
   "source": [
    "## Stereomers generation\n",
    "\n",
    "Input description"
   ]
  },
  {
   "cell_type": "code",
   "execution_count": null,
   "id": "633e70e4",
   "metadata": {},
   "outputs": [],
   "source": []
  },
  {
   "cell_type": "markdown",
   "id": "f60455ca",
   "metadata": {},
   "source": [
    "### Stereochemistry control\n",
    "\n",
    "Regimes (all/DA fixed)"
   ]
  },
  {
   "cell_type": "code",
   "execution_count": null,
   "id": "aa504f4f",
   "metadata": {},
   "outputs": [],
   "source": []
  },
  {
   "cell_type": "markdown",
   "id": "d693f791",
   "metadata": {},
   "source": [
    "### Rule-based filtering\n",
    "\n",
    "Filtering \"impossible\" complexes (merRule, maxCycle)"
   ]
  },
  {
   "cell_type": "code",
   "execution_count": null,
   "id": "6c8e5227",
   "metadata": {},
   "outputs": [],
   "source": []
  },
  {
   "cell_type": "markdown",
   "id": "535e66ef",
   "metadata": {},
   "source": [
    "### Ligands to stereomers\n",
    "\n",
    "General ideas of the 3D generation pipeline."
   ]
  },
  {
   "cell_type": "markdown",
   "id": "ea3c6495",
   "metadata": {},
   "source": [
    "## Special features\n",
    "\n",
    "Not the main idea of the package."
   ]
  },
  {
   "cell_type": "markdown",
   "id": "a7d4be60",
   "metadata": {},
   "source": [
    "## Adding substituents\n",
    "\n",
    "Add substituents"
   ]
  },
  {
   "cell_type": "code",
   "execution_count": null,
   "id": "6d9bcf0a",
   "metadata": {},
   "outputs": [],
   "source": []
  },
  {
   "cell_type": "markdown",
   "id": "8c76372f",
   "metadata": {},
   "source": [
    "## Constrained embedding\n",
    "\n",
    "Good with adding substituents"
   ]
  },
  {
   "cell_type": "code",
   "execution_count": null,
   "id": "5e9e367b",
   "metadata": {},
   "outputs": [],
   "source": []
  },
  {
   "cell_type": "markdown",
   "id": "f37673b6",
   "metadata": {},
   "source": [
    "## Prepare ligands for MolSimplify\n",
    "\n",
    "General idea. MolSimplify is not good with authomatical generation of geometry for tri- and more dentate ligands. Here we are.\n",
    "\n",
    "Example."
   ]
  },
  {
   "cell_type": "code",
   "execution_count": null,
   "id": "9b3851c6",
   "metadata": {},
   "outputs": [],
   "source": [
    "\n",
    "\n",
    "\n",
    "\n",
    "\n",
    "\n",
    "\n",
    "\n"
   ]
  }
 ],
 "metadata": {
  "kernelspec": {
   "display_name": "Python 3 (ipykernel)",
   "language": "python",
   "name": "python3"
  },
  "language_info": {
   "codemirror_mode": {
    "name": "ipython",
    "version": 3
   },
   "file_extension": ".py",
   "mimetype": "text/x-python",
   "name": "python",
   "nbconvert_exporter": "python",
   "pygments_lexer": "ipython3",
   "version": "3.10.9"
  }
 },
 "nbformat": 4,
 "nbformat_minor": 5
}
